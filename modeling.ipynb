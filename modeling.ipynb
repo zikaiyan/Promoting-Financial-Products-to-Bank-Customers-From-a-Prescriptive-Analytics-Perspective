{
 "cells": [
  {
   "cell_type": "code",
   "execution_count": 1,
   "metadata": {},
   "outputs": [],
   "source": [
    "using CSV, DataFrames, Random, Gurobi, JuMP, Statistics, ScikitLearn, GLM"
   ]
  },
  {
   "cell_type": "markdown",
   "metadata": {},
   "source": [
    "## Loading data"
   ]
  },
  {
   "cell_type": "code",
   "execution_count": 2,
   "metadata": {},
   "outputs": [],
   "source": [
    "# read in data\n",
    "X_train_df = CSV.read(\"Preprocessed/X_train_scaled.csv\", DataFrame)\n",
    "X_test_df = CSV.read(\"Preprocessed/X_test_scaled.csv\", DataFrame)\n",
    "Y_train_df = CSV.read(\"Preprocessed/y_train.csv\", DataFrame)\n",
    "Y_test_df = CSV.read(\"Preprocessed/y_test.csv\", DataFrame);"
   ]
  },
  {
   "cell_type": "code",
   "execution_count": 3,
   "metadata": {},
   "outputs": [
    {
     "data": {
      "text/plain": [
       "((8818, 19), (2205, 19), (8818, 3), (2205, 3))"
      ]
     },
     "metadata": {},
     "output_type": "display_data"
    }
   ],
   "source": [
    "# Check the size of the data\n",
    "size(X_train_df), size(X_test_df), size(Y_train_df), size(Y_test_df)"
   ]
  },
  {
   "cell_type": "code",
   "execution_count": 4,
   "metadata": {},
   "outputs": [
    {
     "data": {
      "text/html": [
       "<div><div style = \"float: left;\"><span>8818×19 DataFrame</span></div><div style = \"float: right;\"><span style = \"font-style: italic;\">8793 rows omitted</span></div><div style = \"clear: both;\"></div></div><div class = \"data-frame\" style = \"overflow-x: scroll;\"><table class = \"data-frame\" style = \"margin-bottom: 6px;\"><thead><tr class = \"header\"><th class = \"rowNumber\" style = \"font-weight: bold; text-align: right;\">Row</th><th style = \"text-align: left;\">age</th><th style = \"text-align: left;\">age_youngest_child</th><th style = \"text-align: left;\">debt_equity</th><th style = \"text-align: left;\">gender</th><th style = \"text-align: left;\">bad_payment</th><th style = \"text-align: left;\">gold_card</th><th style = \"text-align: left;\">pension_plan</th><th style = \"text-align: left;\">household_debt_to_equity_ratio</th><th style = \"text-align: left;\">income</th><th style = \"text-align: left;\">members_in_household</th><th style = \"text-align: left;\">months_current_account</th><th style = \"text-align: left;\">months_customer</th><th style = \"text-align: left;\">call_center_contacts</th><th style = \"text-align: left;\">loan_accounts</th><th style = \"text-align: left;\">number_products</th><th style = \"text-align: left;\">number_transactions</th><th style = \"text-align: left;\">non_worker_percentage</th><th style = \"text-align: left;\">white_collar_percentage</th><th style = \"text-align: left;\">rfm_score</th></tr><tr class = \"subheader headerLastRow\"><th class = \"rowNumber\" style = \"font-weight: bold; text-align: right;\"></th><th title = \"Float64\" style = \"text-align: left;\">Float64</th><th title = \"Float64\" style = \"text-align: left;\">Float64</th><th title = \"Float64\" style = \"text-align: left;\">Float64</th><th title = \"Float64\" style = \"text-align: left;\">Float64</th><th title = \"Float64\" style = \"text-align: left;\">Float64</th><th title = \"Float64\" style = \"text-align: left;\">Float64</th><th title = \"Float64\" style = \"text-align: left;\">Float64</th><th title = \"Float64\" style = \"text-align: left;\">Float64</th><th title = \"Float64\" style = \"text-align: left;\">Float64</th><th title = \"Float64\" style = \"text-align: left;\">Float64</th><th title = \"Float64\" style = \"text-align: left;\">Float64</th><th title = \"Float64\" style = \"text-align: left;\">Float64</th><th title = \"Float64\" style = \"text-align: left;\">Float64</th><th title = \"Float64\" style = \"text-align: left;\">Float64</th><th title = \"Float64\" style = \"text-align: left;\">Float64</th><th title = \"Float64\" style = \"text-align: left;\">Float64</th><th title = \"Float64\" style = \"text-align: left;\">Float64</th><th title = \"Float64\" style = \"text-align: left;\">Float64</th><th title = \"Float64\" style = \"text-align: left;\">Float64</th></tr></thead><tbody><tr><td class = \"rowNumber\" style = \"font-weight: bold; text-align: right;\">1</td><td style = \"text-align: right;\">-0.209025</td><td style = \"text-align: right;\">0.0882424</td><td style = \"text-align: right;\">-0.209025</td><td style = \"text-align: right;\">1.02178</td><td style = \"text-align: right;\">-0.0543805</td><td style = \"text-align: right;\">-0.177725</td><td style = \"text-align: right;\">-0.0770195</td><td style = \"text-align: right;\">-1.19193</td><td style = \"text-align: right;\">-0.708545</td><td style = \"text-align: right;\">0.398425</td><td style = \"text-align: right;\">-1.1002</td><td style = \"text-align: right;\">-1.0644</td><td style = \"text-align: right;\">1.11758</td><td style = \"text-align: right;\">0.65647</td><td style = \"text-align: right;\">0.222585</td><td style = \"text-align: right;\">0.00842164</td><td style = \"text-align: right;\">0.0111827</td><td style = \"text-align: right;\">1.23981</td><td style = \"text-align: right;\">0.32641</td></tr><tr><td class = \"rowNumber\" style = \"font-weight: bold; text-align: right;\">2</td><td style = \"text-align: right;\">0.656889</td><td style = \"text-align: right;\">0.9698</td><td style = \"text-align: right;\">0.656889</td><td style = \"text-align: right;\">-0.97868</td><td style = \"text-align: right;\">-0.0543805</td><td style = \"text-align: right;\">-0.177725</td><td style = \"text-align: right;\">-0.0770195</td><td style = \"text-align: right;\">0.25933</td><td style = \"text-align: right;\">-1.04821</td><td style = \"text-align: right;\">-1.31149</td><td style = \"text-align: right;\">-0.201499</td><td style = \"text-align: right;\">-0.237377</td><td style = \"text-align: right;\">-0.158208</td><td style = \"text-align: right;\">2.11148</td><td style = \"text-align: right;\">1.34866</td><td style = \"text-align: right;\">0.00842164</td><td style = \"text-align: right;\">0.274139</td><td style = \"text-align: right;\">-0.458193</td><td style = \"text-align: right;\">0.699145</td></tr><tr><td class = \"rowNumber\" style = \"font-weight: bold; text-align: right;\">3</td><td style = \"text-align: right;\">0.13734</td><td style = \"text-align: right;\">0.480046</td><td style = \"text-align: right;\">0.13734</td><td style = \"text-align: right;\">1.02178</td><td style = \"text-align: right;\">-0.0543805</td><td style = \"text-align: right;\">-0.177725</td><td style = \"text-align: right;\">-0.0770195</td><td style = \"text-align: right;\">-0.673623</td><td style = \"text-align: right;\">0.251026</td><td style = \"text-align: right;\">1.53837</td><td style = \"text-align: right;\">-0.426175</td><td style = \"text-align: right;\">-0.237377</td><td style = \"text-align: right;\">0.479688</td><td style = \"text-align: right;\">1.38397</td><td style = \"text-align: right;\">0.785624</td><td style = \"text-align: right;\">-0.208086</td><td style = \"text-align: right;\">-0.51473</td><td style = \"text-align: right;\">0.900211</td><td style = \"text-align: right;\">0.780277</td></tr><tr><td class = \"rowNumber\" style = \"font-weight: bold; text-align: right;\">4</td><td style = \"text-align: right;\">-0.641982</td><td style = \"text-align: right;\">-0.891266</td><td style = \"text-align: right;\">-0.641982</td><td style = \"text-align: right;\">-0.97868</td><td style = \"text-align: right;\">-0.0543805</td><td style = \"text-align: right;\">-0.177725</td><td style = \"text-align: right;\">-0.0770195</td><td style = \"text-align: right;\">1.60693</td><td style = \"text-align: right;\">0.36844</td><td style = \"text-align: right;\">-1.31149</td><td style = \"text-align: right;\">1.22145</td><td style = \"text-align: right;\">1.41666</td><td style = \"text-align: right;\">-1.434</td><td style = \"text-align: right;\">-0.798538</td><td style = \"text-align: right;\">-0.903493</td><td style = \"text-align: right;\">-0.424593</td><td style = \"text-align: right;\">-0.251774</td><td style = \"text-align: right;\">-1.5902</td><td style = \"text-align: right;\">-0.867649</td></tr><tr><td class = \"rowNumber\" style = \"font-weight: bold; text-align: right;\">5</td><td style = \"text-align: right;\">-0.815165</td><td style = \"text-align: right;\">-0.695364</td><td style = \"text-align: right;\">-0.815165</td><td style = \"text-align: right;\">1.02178</td><td style = \"text-align: right;\">-0.0543805</td><td style = \"text-align: right;\">-0.177725</td><td style = \"text-align: right;\">-0.0770195</td><td style = \"text-align: right;\">-0.777284</td><td style = \"text-align: right;\">0.160493</td><td style = \"text-align: right;\">-0.741521</td><td style = \"text-align: right;\">-1.99891</td><td style = \"text-align: right;\">-1.89142</td><td style = \"text-align: right;\">0.479688</td><td style = \"text-align: right;\">-0.798538</td><td style = \"text-align: right;\">-0.903493</td><td style = \"text-align: right;\">-0.424593</td><td style = \"text-align: right;\">-0.51473</td><td style = \"text-align: right;\">1.01341</td><td style = \"text-align: right;\">-0.867649</td></tr><tr><td class = \"rowNumber\" style = \"font-weight: bold; text-align: right;\">6</td><td style = \"text-align: right;\">-2.28722</td><td style = \"text-align: right;\">-1.08717</td><td style = \"text-align: right;\">-2.28722</td><td style = \"text-align: right;\">-0.97868</td><td style = \"text-align: right;\">-0.0543805</td><td style = \"text-align: right;\">5.62666</td><td style = \"text-align: right;\">-0.0770195</td><td style = \"text-align: right;\">1.91791</td><td style = \"text-align: right;\">-1.03938</td><td style = \"text-align: right;\">0.398425</td><td style = \"text-align: right;\">0.397638</td><td style = \"text-align: right;\">0.589643</td><td style = \"text-align: right;\">-1.434</td><td style = \"text-align: right;\">1.38397</td><td style = \"text-align: right;\">0.222585</td><td style = \"text-align: right;\">-0.208086</td><td style = \"text-align: right;\">-1.04064</td><td style = \"text-align: right;\">-1.5902</td><td style = \"text-align: right;\">0.17651</td></tr><tr><td class = \"rowNumber\" style = \"font-weight: bold; text-align: right;\">7</td><td style = \"text-align: right;\">1.17644</td><td style = \"text-align: right;\">1.26365</td><td style = \"text-align: right;\">1.17644</td><td style = \"text-align: right;\">1.02178</td><td style = \"text-align: right;\">-0.0543805</td><td style = \"text-align: right;\">-0.177725</td><td style = \"text-align: right;\">-0.0770195</td><td style = \"text-align: right;\">1.19228</td><td style = \"text-align: right;\">-0.332109</td><td style = \"text-align: right;\">-1.88147</td><td style = \"text-align: right;\">1.37124</td><td style = \"text-align: right;\">1.41666</td><td style = \"text-align: right;\">-1.434</td><td style = \"text-align: right;\">-0.798538</td><td style = \"text-align: right;\">0.222585</td><td style = \"text-align: right;\">0.00842164</td><td style = \"text-align: right;\">1.85188</td><td style = \"text-align: right;\">-2.1562</td><td style = \"text-align: right;\">0.574807</td></tr><tr><td class = \"rowNumber\" style = \"font-weight: bold; text-align: right;\">8</td><td style = \"text-align: right;\">1.08985</td><td style = \"text-align: right;\">1.06775</td><td style = \"text-align: right;\">1.08985</td><td style = \"text-align: right;\">-0.97868</td><td style = \"text-align: right;\">-0.0543805</td><td style = \"text-align: right;\">-0.177725</td><td style = \"text-align: right;\">-0.0770195</td><td style = \"text-align: right;\">-2.12488</td><td style = \"text-align: right;\">2.54603</td><td style = \"text-align: right;\">-0.741521</td><td style = \"text-align: right;\">-1.02531</td><td style = \"text-align: right;\">-1.0644</td><td style = \"text-align: right;\">2.39337</td><td style = \"text-align: right;\">-0.798538</td><td style = \"text-align: right;\">1.34866</td><td style = \"text-align: right;\">0.224929</td><td style = \"text-align: right;\">-0.777687</td><td style = \"text-align: right;\">2.71142</td><td style = \"text-align: right;\">1.04257</td></tr><tr><td class = \"rowNumber\" style = \"font-weight: bold; text-align: right;\">9</td><td style = \"text-align: right;\">0.656889</td><td style = \"text-align: right;\">0.675947</td><td style = \"text-align: right;\">0.656889</td><td style = \"text-align: right;\">1.02178</td><td style = \"text-align: right;\">-0.0543805</td><td style = \"text-align: right;\">-0.177725</td><td style = \"text-align: right;\">-0.0770195</td><td style = \"text-align: right;\">0.673975</td><td style = \"text-align: right;\">-1.20019</td><td style = \"text-align: right;\">-0.741521</td><td style = \"text-align: right;\">-1.69934</td><td style = \"text-align: right;\">-1.89142</td><td style = \"text-align: right;\">-0.796104</td><td style = \"text-align: right;\">-0.798538</td><td style = \"text-align: right;\">-0.903493</td><td style = \"text-align: right;\">-0.424593</td><td style = \"text-align: right;\">1.06301</td><td style = \"text-align: right;\">-1.1374</td><td style = \"text-align: right;\">-0.867649</td></tr><tr><td class = \"rowNumber\" style = \"font-weight: bold; text-align: right;\">10</td><td style = \"text-align: right;\">-0.0358424</td><td style = \"text-align: right;\">-0.891266</td><td style = \"text-align: right;\">-0.0358424</td><td style = \"text-align: right;\">1.02178</td><td style = \"text-align: right;\">-0.0543805</td><td style = \"text-align: right;\">-0.177725</td><td style = \"text-align: right;\">-0.0770195</td><td style = \"text-align: right;\">0.98496</td><td style = \"text-align: right;\">1.10355</td><td style = \"text-align: right;\">-1.31149</td><td style = \"text-align: right;\">-1.1002</td><td style = \"text-align: right;\">-1.0644</td><td style = \"text-align: right;\">-0.796104</td><td style = \"text-align: right;\">-0.0710344</td><td style = \"text-align: right;\">1.34866</td><td style = \"text-align: right;\">0.00842164</td><td style = \"text-align: right;\">0.274139</td><td style = \"text-align: right;\">-1.1374</td><td style = \"text-align: right;\">0.568139</td></tr><tr><td class = \"rowNumber\" style = \"font-weight: bold; text-align: right;\">11</td><td style = \"text-align: right;\">-1.85426</td><td style = \"text-align: right;\">-1.08717</td><td style = \"text-align: right;\">-1.85426</td><td style = \"text-align: right;\">1.02178</td><td style = \"text-align: right;\">-0.0543805</td><td style = \"text-align: right;\">-0.177725</td><td style = \"text-align: right;\">-0.0770195</td><td style = \"text-align: right;\">1.71059</td><td style = \"text-align: right;\">-0.927436</td><td style = \"text-align: right;\">-0.741521</td><td style = \"text-align: right;\">1.44613</td><td style = \"text-align: right;\">1.41666</td><td style = \"text-align: right;\">-1.434</td><td style = \"text-align: right;\">-0.0710344</td><td style = \"text-align: right;\">0.785624</td><td style = \"text-align: right;\">-0.208086</td><td style = \"text-align: right;\">0.0111827</td><td style = \"text-align: right;\">-1.9298</td><td style = \"text-align: right;\">0.255141</td></tr><tr><td class = \"rowNumber\" style = \"font-weight: bold; text-align: right;\">12</td><td style = \"text-align: right;\">0.397115</td><td style = \"text-align: right;\">-0.00970844</td><td style = \"text-align: right;\">0.397115</td><td style = \"text-align: right;\">-0.97868</td><td style = \"text-align: right;\">-0.0543805</td><td style = \"text-align: right;\">-0.177725</td><td style = \"text-align: right;\">-0.0770195</td><td style = \"text-align: right;\">-1.39925</td><td style = \"text-align: right;\">-0.16746</td><td style = \"text-align: right;\">0.968399</td><td style = \"text-align: right;\">-0.800636</td><td style = \"text-align: right;\">-1.0644</td><td style = \"text-align: right;\">1.11758</td><td style = \"text-align: right;\">0.65647</td><td style = \"text-align: right;\">0.222585</td><td style = \"text-align: right;\">-0.208086</td><td style = \"text-align: right;\">0.537096</td><td style = \"text-align: right;\">1.35301</td><td style = \"text-align: right;\">0.46589</td></tr><tr><td class = \"rowNumber\" style = \"font-weight: bold; text-align: right;\">13</td><td style = \"text-align: right;\">0.050749</td><td style = \"text-align: right;\">-0.20561</td><td style = \"text-align: right;\">0.050749</td><td style = \"text-align: right;\">-0.97868</td><td style = \"text-align: right;\">-0.0543805</td><td style = \"text-align: right;\">-0.177725</td><td style = \"text-align: right;\">-0.0770195</td><td style = \"text-align: right;\">-0.362639</td><td style = \"text-align: right;\">2.22066</td><td style = \"text-align: right;\">0.968399</td><td style = \"text-align: right;\">-0.875528</td><td style = \"text-align: right;\">-1.0644</td><td style = \"text-align: right;\">0.479688</td><td style = \"text-align: right;\">2.11148</td><td style = \"text-align: right;\">0.785624</td><td style = \"text-align: right;\">-0.208086</td><td style = \"text-align: right;\">-0.251774</td><td style = \"text-align: right;\">0.56061</td><td style = \"text-align: right;\">0.547439</td></tr><tr><td style = \"text-align: right;\">&vellip;</td><td style = \"text-align: right;\">&vellip;</td><td style = \"text-align: right;\">&vellip;</td><td style = \"text-align: right;\">&vellip;</td><td style = \"text-align: right;\">&vellip;</td><td style = \"text-align: right;\">&vellip;</td><td style = \"text-align: right;\">&vellip;</td><td style = \"text-align: right;\">&vellip;</td><td style = \"text-align: right;\">&vellip;</td><td style = \"text-align: right;\">&vellip;</td><td style = \"text-align: right;\">&vellip;</td><td style = \"text-align: right;\">&vellip;</td><td style = \"text-align: right;\">&vellip;</td><td style = \"text-align: right;\">&vellip;</td><td style = \"text-align: right;\">&vellip;</td><td style = \"text-align: right;\">&vellip;</td><td style = \"text-align: right;\">&vellip;</td><td style = \"text-align: right;\">&vellip;</td><td style = \"text-align: right;\">&vellip;</td><td style = \"text-align: right;\">&vellip;</td></tr><tr><td class = \"rowNumber\" style = \"font-weight: bold; text-align: right;\">8807</td><td style = \"text-align: right;\">0.050749</td><td style = \"text-align: right;\">0.0882424</td><td style = \"text-align: right;\">0.050749</td><td style = \"text-align: right;\">1.02178</td><td style = \"text-align: right;\">-0.0543805</td><td style = \"text-align: right;\">-0.177725</td><td style = \"text-align: right;\">-0.0770195</td><td style = \"text-align: right;\">0.25933</td><td style = \"text-align: right;\">1.00025</td><td style = \"text-align: right;\">-0.741521</td><td style = \"text-align: right;\">0.846991</td><td style = \"text-align: right;\">0.589643</td><td style = \"text-align: right;\">-0.158208</td><td style = \"text-align: right;\">-0.798538</td><td style = \"text-align: right;\">-0.903493</td><td style = \"text-align: right;\">-0.424593</td><td style = \"text-align: right;\">0.537096</td><td style = \"text-align: right;\">-0.458193</td><td style = \"text-align: right;\">-0.867649</td></tr><tr><td class = \"rowNumber\" style = \"font-weight: bold; text-align: right;\">8808</td><td style = \"text-align: right;\">0.74348</td><td style = \"text-align: right;\">0.871849</td><td style = \"text-align: right;\">0.74348</td><td style = \"text-align: right;\">1.02178</td><td style = \"text-align: right;\">-0.0543805</td><td style = \"text-align: right;\">-0.177725</td><td style = \"text-align: right;\">-0.0770195</td><td style = \"text-align: right;\">-2.12488</td><td style = \"text-align: right;\">-0.172357</td><td style = \"text-align: right;\">-0.171548</td><td style = \"text-align: right;\">0.0231777</td><td style = \"text-align: right;\">-0.237377</td><td style = \"text-align: right;\">2.39337</td><td style = \"text-align: right;\">-0.798538</td><td style = \"text-align: right;\">0.785624</td><td style = \"text-align: right;\">-0.208086</td><td style = \"text-align: right;\">-1.3036</td><td style = \"text-align: right;\">2.93782</td><td style = \"text-align: right;\">0.219021</td></tr><tr><td class = \"rowNumber\" style = \"font-weight: bold; text-align: right;\">8809</td><td style = \"text-align: right;\">-0.122434</td><td style = \"text-align: right;\">-0.00970844</td><td style = \"text-align: right;\">-0.122434</td><td style = \"text-align: right;\">1.02178</td><td style = \"text-align: right;\">-0.0543805</td><td style = \"text-align: right;\">-0.177725</td><td style = \"text-align: right;\">-0.0770195</td><td style = \"text-align: right;\">0.466653</td><td style = \"text-align: right;\">1.1984</td><td style = \"text-align: right;\">-1.31149</td><td style = \"text-align: right;\">1.44613</td><td style = \"text-align: right;\">1.41666</td><td style = \"text-align: right;\">-0.796104</td><td style = \"text-align: right;\">-0.798538</td><td style = \"text-align: right;\">0.785624</td><td style = \"text-align: right;\">0.00842164</td><td style = \"text-align: right;\">-1.04064</td><td style = \"text-align: right;\">-0.00539172</td><td style = \"text-align: right;\">0.380451</td></tr><tr><td class = \"rowNumber\" style = \"font-weight: bold; text-align: right;\">8810</td><td style = \"text-align: right;\">0.050749</td><td style = \"text-align: right;\">-0.303561</td><td style = \"text-align: right;\">0.050749</td><td style = \"text-align: right;\">1.02178</td><td style = \"text-align: right;\">-0.0543805</td><td style = \"text-align: right;\">-0.177725</td><td style = \"text-align: right;\">-0.0770195</td><td style = \"text-align: right;\">-0.569961</td><td style = \"text-align: right;\">-0.0958406</td><td style = \"text-align: right;\">0.968399</td><td style = \"text-align: right;\">1.52102</td><td style = \"text-align: right;\">1.41666</td><td style = \"text-align: right;\">0.479688</td><td style = \"text-align: right;\">0.65647</td><td style = \"text-align: right;\">0.785624</td><td style = \"text-align: right;\">-0.208086</td><td style = \"text-align: right;\">2.11483</td><td style = \"text-align: right;\">-0.344993</td><td style = \"text-align: right;\">0.562165</td></tr><tr><td class = \"rowNumber\" style = \"font-weight: bold; text-align: right;\">8811</td><td style = \"text-align: right;\">0.483706</td><td style = \"text-align: right;\">0.577996</td><td style = \"text-align: right;\">0.483706</td><td style = \"text-align: right;\">-0.97868</td><td style = \"text-align: right;\">-0.0543805</td><td style = \"text-align: right;\">-0.177725</td><td style = \"text-align: right;\">-0.0770195</td><td style = \"text-align: right;\">-0.155316</td><td style = \"text-align: right;\">-0.619452</td><td style = \"text-align: right;\">0.968399</td><td style = \"text-align: right;\">0.0231777</td><td style = \"text-align: right;\">-0.237377</td><td style = \"text-align: right;\">-0.158208</td><td style = \"text-align: right;\">0.65647</td><td style = \"text-align: right;\">2.47474</td><td style = \"text-align: right;\">0.224929</td><td style = \"text-align: right;\">0.0111827</td><td style = \"text-align: right;\">0.107809</td><td style = \"text-align: right;\">0.535491</td></tr><tr><td class = \"rowNumber\" style = \"font-weight: bold; text-align: right;\">8812</td><td style = \"text-align: right;\">-1.16153</td><td style = \"text-align: right;\">-1.08717</td><td style = \"text-align: right;\">-1.16153</td><td style = \"text-align: right;\">-0.97868</td><td style = \"text-align: right;\">-0.0543805</td><td style = \"text-align: right;\">-0.177725</td><td style = \"text-align: right;\">-0.0770195</td><td style = \"text-align: right;\">1.60693</td><td style = \"text-align: right;\">-0.178693</td><td style = \"text-align: right;\">0.968399</td><td style = \"text-align: right;\">-0.426175</td><td style = \"text-align: right;\">-0.237377</td><td style = \"text-align: right;\">-1.434</td><td style = \"text-align: right;\">-0.0710344</td><td style = \"text-align: right;\">0.222585</td><td style = \"text-align: right;\">-0.208086</td><td style = \"text-align: right;\">-1.82951</td><td style = \"text-align: right;\">-0.910995</td><td style = \"text-align: right;\">0.899058</td></tr><tr><td class = \"rowNumber\" style = \"font-weight: bold; text-align: right;\">8813</td><td style = \"text-align: right;\">-1.59449</td><td style = \"text-align: right;\">-1.08717</td><td style = \"text-align: right;\">-1.59449</td><td style = \"text-align: right;\">-0.97868</td><td style = \"text-align: right;\">-0.0543805</td><td style = \"text-align: right;\">-0.177725</td><td style = \"text-align: right;\">-0.0770195</td><td style = \"text-align: right;\">0.570314</td><td style = \"text-align: right;\">2.12332</td><td style = \"text-align: right;\">-1.31149</td><td style = \"text-align: right;\">-0.276391</td><td style = \"text-align: right;\">-0.237377</td><td style = \"text-align: right;\">-0.796104</td><td style = \"text-align: right;\">-0.798538</td><td style = \"text-align: right;\">1.9117</td><td style = \"text-align: right;\">0.224929</td><td style = \"text-align: right;\">0.800052</td><td style = \"text-align: right;\">-1.0242</td><td style = \"text-align: right;\">0.934344</td></tr><tr><td class = \"rowNumber\" style = \"font-weight: bold; text-align: right;\">8814</td><td style = \"text-align: right;\">-0.122434</td><td style = \"text-align: right;\">-0.00970844</td><td style = \"text-align: right;\">-0.122434</td><td style = \"text-align: right;\">-0.97868</td><td style = \"text-align: right;\">-0.0543805</td><td style = \"text-align: right;\">5.62666</td><td style = \"text-align: right;\">-0.0770195</td><td style = \"text-align: right;\">0.155668</td><td style = \"text-align: right;\">-0.50655</td><td style = \"text-align: right;\">0.398425</td><td style = \"text-align: right;\">0.622315</td><td style = \"text-align: right;\">0.589643</td><td style = \"text-align: right;\">-0.158208</td><td style = \"text-align: right;\">-0.0710344</td><td style = \"text-align: right;\">1.34866</td><td style = \"text-align: right;\">-0.208086</td><td style = \"text-align: right;\">0.800052</td><td style = \"text-align: right;\">-0.458193</td><td style = \"text-align: right;\">0.289872</td></tr><tr><td class = \"rowNumber\" style = \"font-weight: bold; text-align: right;\">8815</td><td style = \"text-align: right;\">0.13734</td><td style = \"text-align: right;\">-0.20561</td><td style = \"text-align: right;\">0.13734</td><td style = \"text-align: right;\">1.02178</td><td style = \"text-align: right;\">-0.0543805</td><td style = \"text-align: right;\">-0.177725</td><td style = \"text-align: right;\">-0.0770195</td><td style = \"text-align: right;\">0.570314</td><td style = \"text-align: right;\">0.817551</td><td style = \"text-align: right;\">0.398425</td><td style = \"text-align: right;\">1.52102</td><td style = \"text-align: right;\">1.41666</td><td style = \"text-align: right;\">-0.796104</td><td style = \"text-align: right;\">-0.798538</td><td style = \"text-align: right;\">1.9117</td><td style = \"text-align: right;\">0.224929</td><td style = \"text-align: right;\">0.537096</td><td style = \"text-align: right;\">-0.910995</td><td style = \"text-align: right;\">0.500204</td></tr><tr><td class = \"rowNumber\" style = \"font-weight: bold; text-align: right;\">8816</td><td style = \"text-align: right;\">-0.555391</td><td style = \"text-align: right;\">-0.499463</td><td style = \"text-align: right;\">-0.555391</td><td style = \"text-align: right;\">1.02178</td><td style = \"text-align: right;\">-0.0543805</td><td style = \"text-align: right;\">-0.177725</td><td style = \"text-align: right;\">-0.0770195</td><td style = \"text-align: right;\">-0.673623</td><td style = \"text-align: right;\">0.87669</td><td style = \"text-align: right;\">-0.171548</td><td style = \"text-align: right;\">1.37124</td><td style = \"text-align: right;\">1.41666</td><td style = \"text-align: right;\">0.479688</td><td style = \"text-align: right;\">0.65647</td><td style = \"text-align: right;\">0.785624</td><td style = \"text-align: right;\">0.00842164</td><td style = \"text-align: right;\">3.42962</td><td style = \"text-align: right;\">-0.797794</td><td style = \"text-align: right;\">0.306127</td></tr><tr><td class = \"rowNumber\" style = \"font-weight: bold; text-align: right;\">8817</td><td style = \"text-align: right;\">-0.555391</td><td style = \"text-align: right;\">-0.695364</td><td style = \"text-align: right;\">-0.555391</td><td style = \"text-align: right;\">-0.97868</td><td style = \"text-align: right;\">-0.0543805</td><td style = \"text-align: right;\">-0.177725</td><td style = \"text-align: right;\">-0.0770195</td><td style = \"text-align: right;\">0.052007</td><td style = \"text-align: right;\">-1.45854</td><td style = \"text-align: right;\">0.968399</td><td style = \"text-align: right;\">-1.02531</td><td style = \"text-align: right;\">-1.0644</td><td style = \"text-align: right;\">-0.158208</td><td style = \"text-align: right;\">-0.0710344</td><td style = \"text-align: right;\">-0.903493</td><td style = \"text-align: right;\">-0.424593</td><td style = \"text-align: right;\">-1.04064</td><td style = \"text-align: right;\">0.334209</td><td style = \"text-align: right;\">-0.867649</td></tr><tr><td class = \"rowNumber\" style = \"font-weight: bold; text-align: right;\">8818</td><td style = \"text-align: right;\">-0.988348</td><td style = \"text-align: right;\">-0.989217</td><td style = \"text-align: right;\">-0.988348</td><td style = \"text-align: right;\">1.02178</td><td style = \"text-align: right;\">-0.0543805</td><td style = \"text-align: right;\">-0.177725</td><td style = \"text-align: right;\">-0.0770195</td><td style = \"text-align: right;\">0.25933</td><td style = \"text-align: right;\">0.0963615</td><td style = \"text-align: right;\">-0.171548</td><td style = \"text-align: right;\">0.846991</td><td style = \"text-align: right;\">0.589643</td><td style = \"text-align: right;\">-0.158208</td><td style = \"text-align: right;\">-0.798538</td><td style = \"text-align: right;\">-0.903493</td><td style = \"text-align: right;\">-0.424593</td><td style = \"text-align: right;\">-1.3036</td><td style = \"text-align: right;\">0.334209</td><td style = \"text-align: right;\">-0.867649</td></tr></tbody></table></div>"
      ],
      "text/latex": [
       "\\begin{tabular}{r|cccccccc}\n",
       "\t& age & age\\_youngest\\_child & debt\\_equity & gender & bad\\_payment & gold\\_card & pension\\_plan & \\\\\n",
       "\t\\hline\n",
       "\t& Float64 & Float64 & Float64 & Float64 & Float64 & Float64 & Float64 & \\\\\n",
       "\t\\hline\n",
       "\t1 & -0.209025 & 0.0882424 & -0.209025 & 1.02178 & -0.0543805 & -0.177725 & -0.0770195 & $\\dots$ \\\\\n",
       "\t2 & 0.656889 & 0.9698 & 0.656889 & -0.97868 & -0.0543805 & -0.177725 & -0.0770195 & $\\dots$ \\\\\n",
       "\t3 & 0.13734 & 0.480046 & 0.13734 & 1.02178 & -0.0543805 & -0.177725 & -0.0770195 & $\\dots$ \\\\\n",
       "\t4 & -0.641982 & -0.891266 & -0.641982 & -0.97868 & -0.0543805 & -0.177725 & -0.0770195 & $\\dots$ \\\\\n",
       "\t5 & -0.815165 & -0.695364 & -0.815165 & 1.02178 & -0.0543805 & -0.177725 & -0.0770195 & $\\dots$ \\\\\n",
       "\t6 & -2.28722 & -1.08717 & -2.28722 & -0.97868 & -0.0543805 & 5.62666 & -0.0770195 & $\\dots$ \\\\\n",
       "\t7 & 1.17644 & 1.26365 & 1.17644 & 1.02178 & -0.0543805 & -0.177725 & -0.0770195 & $\\dots$ \\\\\n",
       "\t8 & 1.08985 & 1.06775 & 1.08985 & -0.97868 & -0.0543805 & -0.177725 & -0.0770195 & $\\dots$ \\\\\n",
       "\t9 & 0.656889 & 0.675947 & 0.656889 & 1.02178 & -0.0543805 & -0.177725 & -0.0770195 & $\\dots$ \\\\\n",
       "\t10 & -0.0358424 & -0.891266 & -0.0358424 & 1.02178 & -0.0543805 & -0.177725 & -0.0770195 & $\\dots$ \\\\\n",
       "\t11 & -1.85426 & -1.08717 & -1.85426 & 1.02178 & -0.0543805 & -0.177725 & -0.0770195 & $\\dots$ \\\\\n",
       "\t12 & 0.397115 & -0.00970844 & 0.397115 & -0.97868 & -0.0543805 & -0.177725 & -0.0770195 & $\\dots$ \\\\\n",
       "\t13 & 0.050749 & -0.20561 & 0.050749 & -0.97868 & -0.0543805 & -0.177725 & -0.0770195 & $\\dots$ \\\\\n",
       "\t14 & -0.555391 & -0.793315 & -0.555391 & 1.02178 & -0.0543805 & -0.177725 & -0.0770195 & $\\dots$ \\\\\n",
       "\t15 & 2.21553 & 2.34111 & 2.21553 & 1.02178 & -0.0543805 & -0.177725 & -0.0770195 & $\\dots$ \\\\\n",
       "\t16 & 0.570298 & 0.577996 & 0.570298 & 1.02178 & -0.0543805 & -0.177725 & -0.0770195 & $\\dots$ \\\\\n",
       "\t17 & -0.988348 & -1.08717 & -0.988348 & -0.97868 & -0.0543805 & -0.177725 & -0.0770195 & $\\dots$ \\\\\n",
       "\t18 & 0.570298 & 0.675947 & 0.570298 & 1.02178 & -0.0543805 & -0.177725 & -0.0770195 & $\\dots$ \\\\\n",
       "\t19 & -0.209025 & -0.597413 & -0.209025 & -0.97868 & -0.0543805 & -0.177725 & -0.0770195 & $\\dots$ \\\\\n",
       "\t20 & -0.728574 & -0.793315 & -0.728574 & 1.02178 & -0.0543805 & -0.177725 & -0.0770195 & $\\dots$ \\\\\n",
       "\t21 & 1.08985 & 0.871849 & 1.08985 & 1.02178 & -0.0543805 & -0.177725 & -0.0770195 & $\\dots$ \\\\\n",
       "\t22 & -0.382208 & -0.303561 & -0.382208 & -0.97868 & -0.0543805 & -0.177725 & -0.0770195 & $\\dots$ \\\\\n",
       "\t23 & 1.95576 & 2.34111 & 1.95576 & -0.97868 & -0.0543805 & -0.177725 & -0.0770195 & $\\dots$ \\\\\n",
       "\t24 & -0.4688 & -0.20561 & -0.4688 & 1.02178 & -0.0543805 & -0.177725 & -0.0770195 & $\\dots$ \\\\\n",
       "\t$\\dots$ & $\\dots$ & $\\dots$ & $\\dots$ & $\\dots$ & $\\dots$ & $\\dots$ & $\\dots$ &  \\\\\n",
       "\\end{tabular}\n"
      ],
      "text/plain": [
       "\u001b[1m8818×19 DataFrame\n",
       "\u001b[1m  Row │\u001b[1m age        \u001b[1m age_youngest_child \u001b[1m debt_equity \u001b[1m gender   \u001b[1m bad_payment \u001b[1m go ⋯\n",
       "      │\u001b[90m Float64    \u001b[90m Float64            \u001b[90m Float64     \u001b[90m Float64  \u001b[90m Float64     \u001b[90m Fl ⋯\n",
       "──────┼─────────────────────────────────────────────────────────────────────────\n",
       "    1 │ -0.209025           0.0882424    -0.209025    1.02178   -0.0543805  -0 ⋯\n",
       "    2 │  0.656889           0.9698        0.656889   -0.97868   -0.0543805  -0\n",
       "    3 │  0.13734            0.480046      0.13734     1.02178   -0.0543805  -0\n",
       "    4 │ -0.641982          -0.891266     -0.641982   -0.97868   -0.0543805  -0\n",
       "    5 │ -0.815165          -0.695364     -0.815165    1.02178   -0.0543805  -0 ⋯\n",
       "    6 │ -2.28722           -1.08717      -2.28722    -0.97868   -0.0543805   5\n",
       "    7 │  1.17644            1.26365       1.17644     1.02178   -0.0543805  -0\n",
       "    8 │  1.08985            1.06775       1.08985    -0.97868   -0.0543805  -0\n",
       "  ⋮   │     ⋮               ⋮                ⋮          ⋮           ⋮          ⋱\n",
       " 8812 │ -1.16153           -1.08717      -1.16153    -0.97868   -0.0543805  -0 ⋯\n",
       " 8813 │ -1.59449           -1.08717      -1.59449    -0.97868   -0.0543805  -0\n",
       " 8814 │ -0.122434          -0.00970844   -0.122434   -0.97868   -0.0543805   5\n",
       " 8815 │  0.13734           -0.20561       0.13734     1.02178   -0.0543805  -0\n",
       " 8816 │ -0.555391          -0.499463     -0.555391    1.02178   -0.0543805  -0 ⋯\n",
       " 8817 │ -0.555391          -0.695364     -0.555391   -0.97868   -0.0543805  -0\n",
       " 8818 │ -0.988348          -0.989217     -0.988348    1.02178   -0.0543805  -0\n",
       "\u001b[36m                                                14 columns and 8803 rows omitted"
      ]
     },
     "metadata": {},
     "output_type": "display_data"
    }
   ],
   "source": [
    "X_train_df"
   ]
  },
  {
   "cell_type": "code",
   "execution_count": 5,
   "metadata": {},
   "outputs": [],
   "source": [
    "# feature engineering\n",
    "# X_train_df = X_train_df[!, [:age, :income, :members_in_household, :loan_accounts]]\n",
    "# X_test_df = X_test_df[!, [:age, :income, :members_in_household, :loan_accounts]]"
   ]
  },
  {
   "cell_type": "code",
   "execution_count": 6,
   "metadata": {},
   "outputs": [],
   "source": [
    "# Define products\n",
    "products = [\"Savings\", \"Mortgage\", \"Pension\"]\n",
    "\n",
    "# Define unit value of each product\n",
    "productValue = [200, 300, 400]\n",
    "value_per_product = Dict(products[i] => productValue[i] for i in 1:length(products))\n",
    "\n",
    "# Define total available budget\n",
    "availableBudget = 25000 # /(11023/1000)\n",
    "\n",
    "# For each channel, cost of making a marketing action and success factor\n",
    "# Define the data\n",
    "data = [(\"gift\", 20.0, 0.20), \n",
    "        (\"newsletter\", 15.0, 0.05), \n",
    "        (\"seminar\", 23.0, 0.30)]\n",
    "\n",
    "# Create a DataFrame\n",
    "channels = DataFrame(channel = [x[1] for x in data],\n",
    "                     cost = [x[2] for x in data],\n",
    "                     success_prob = [x[3] for x in data]);"
   ]
  },
  {
   "cell_type": "code",
   "execution_count": 7,
   "metadata": {},
   "outputs": [],
   "source": [
    "# get input data\n",
    "I = size(X_train_df, 1)\n",
    "J = size(products, 1)\n",
    "K = size(channels, 1)\n",
    "F = size(X_train_df, 2)\n",
    "X_train = Matrix(X_train_df)\n",
    "X_test = Matrix(X_test_df)\n",
    "Y_train = Matrix(Y_train_df)\n",
    "Y_test = Matrix(Y_test_df)\n",
    "p = productValue\n",
    "s = channels[!, :success_prob]\n",
    "c = channels[!, :cost]\n",
    "B = availableBudget;"
   ]
  },
  {
   "cell_type": "markdown",
   "metadata": {},
   "source": [
    "# Predicting"
   ]
  },
  {
   "cell_type": "markdown",
   "metadata": {},
   "source": [
    "### Random Forest"
   ]
  },
  {
   "cell_type": "code",
   "execution_count": 8,
   "metadata": {},
   "outputs": [
    {
     "name": "stderr",
     "output_type": "stream",
     "text": [
      "┌ Warning: This copy of Interpretable AI software is for academic purposes only and not for commercial use.\n",
      "└ @ nothing nothing:nothing\n",
      "┌ Warning: Interpretable AI license expires soon: 2023-12-31T00:00:00. If you need to renew, please send us the following machine ID:\n",
      "│ d55e42bb8a3aa8ff0f65654e9f3b3b81ffcf09c90d5928c2a63dbd99744e8f3c\n",
      "└ @ nothing nothing:nothing\n"
     ]
    },
    {
     "data": {
      "text/plain": [
       "Fitted RandomForestClassifier"
      ]
     },
     "metadata": {},
     "output_type": "display_data"
    }
   ],
   "source": [
    "# Train Random Forest using IAI using the training set\n",
    "grid_rf_1 = IAI.GridSearch(\n",
    "    IAI.RandomForestClassifier(\n",
    "        random_seed=123,\n",
    "        max_categoric_levels_before_warning=15,\n",
    "        criterion =:gini,\n",
    "        num_trees = 100,\n",
    "        cp = 0.001\n",
    "        ),\n",
    "        max_depth=1:6\n",
    "    )        \n",
    "IAI.fit_cv!(grid_rf_1,X_train, Y_train[:, 1], validation_criterion = :auc, n_folds=5);\n",
    "lnr_rf_1 = IAI.get_learner(grid_rf_1)"
   ]
  },
  {
   "cell_type": "code",
   "execution_count": 9,
   "metadata": {},
   "outputs": [
    {
     "data": {
      "text/plain": [
       "0.9376676355842863"
      ]
     },
     "metadata": {},
     "output_type": "display_data"
    }
   ],
   "source": [
    "# make predictions on the test set\n",
    "Y_pred_rf_1 = IAI.predict(lnr_rf_1, X_test)\n",
    "# compute the accuracy\n",
    "accuracy_rf_1 = sum(Y_pred_rf_1 .== Y_test[:, 1]) / length(Y_test[:, 1])\n",
    "# compute the AUC\n",
    "auc_rf_1 = IAI.score(lnr_rf_1, X_test, Y_test[:, 1], criterion = :auc)"
   ]
  },
  {
   "cell_type": "code",
   "execution_count": 10,
   "metadata": {},
   "outputs": [
    {
     "data": {
      "text/plain": [
       "Fitted RandomForestClassifier"
      ]
     },
     "metadata": {},
     "output_type": "display_data"
    }
   ],
   "source": [
    "# Train Random Forest using IAI using the training set\n",
    "grid_rf_2 = IAI.GridSearch(\n",
    "    IAI.RandomForestClassifier(\n",
    "        random_seed=123,\n",
    "        max_categoric_levels_before_warning=15,\n",
    "        criterion =:gini,\n",
    "        num_trees = 100,\n",
    "        cp = 0.001\n",
    "        ),\n",
    "        max_depth=1:6\n",
    "    )        \n",
    "IAI.fit_cv!(grid_rf_2,X_train, Y_train[:, 2], validation_criterion = :auc, n_folds=5);\n",
    "lnr_rf_2 = IAI.get_learner(grid_rf_2)"
   ]
  },
  {
   "cell_type": "code",
   "execution_count": 11,
   "metadata": {},
   "outputs": [
    {
     "data": {
      "text/plain": [
       "0.7782625176158022"
      ]
     },
     "metadata": {},
     "output_type": "display_data"
    }
   ],
   "source": [
    "# make predictions on the test set\n",
    "Y_pred_rf_2 = IAI.predict(lnr_rf_2, X_test)\n",
    "# compute the accuracy\n",
    "accuracy_rf_2 = sum(Y_pred_rf_2 .== Y_test[:, 2]) / length(Y_test[:, 2])\n",
    "# compute the AUC\n",
    "auc_rf_2 = IAI.score(lnr_rf_2, X_test, Y_test[:, 2], criterion = :auc)"
   ]
  },
  {
   "cell_type": "code",
   "execution_count": 12,
   "metadata": {},
   "outputs": [
    {
     "data": {
      "text/plain": [
       "Fitted RandomForestClassifier"
      ]
     },
     "metadata": {},
     "output_type": "display_data"
    }
   ],
   "source": [
    "# Train Random Forest using IAI using the training set\n",
    "grid_rf_3 = IAI.GridSearch(\n",
    "    IAI.RandomForestClassifier(\n",
    "        random_seed=123,\n",
    "        max_categoric_levels_before_warning=15,\n",
    "        criterion =:gini,\n",
    "        num_trees = 100,\n",
    "        cp = 0.001\n",
    "        ),\n",
    "        max_depth=1:6\n",
    "    )        \n",
    "IAI.fit_cv!(grid_rf_3,X_train, Y_train[:, 3], validation_criterion = :auc, n_folds=5);\n",
    "lnr_rf_3 = IAI.get_learner(grid_rf_3)"
   ]
  },
  {
   "cell_type": "code",
   "execution_count": 13,
   "metadata": {},
   "outputs": [
    {
     "data": {
      "text/plain": [
       "0.6861229894383495"
      ]
     },
     "metadata": {},
     "output_type": "display_data"
    }
   ],
   "source": [
    "# make predictions on the test set\n",
    "Y_pred_rf_3 = IAI.predict(lnr_rf_3, X_test)\n",
    "# compute the accuracy\n",
    "accuracy_rf_3 = sum(Y_pred_rf_3 .== Y_test[:, 3]) / length(Y_test[:, 3])\n",
    "# compute the AUC\n",
    "auc_rf_3 = IAI.score(lnr_rf_3, X_test, Y_test[:, 3], criterion = :auc)"
   ]
  },
  {
   "cell_type": "code",
   "execution_count": 14,
   "metadata": {},
   "outputs": [
    {
     "data": {
      "text/plain": [
       "1×3 Matrix{Int64}:\n",
       " 193  0  102"
      ]
     },
     "metadata": {},
     "output_type": "display_data"
    }
   ],
   "source": [
    "# combine predictions\n",
    "Y_pred_rf = hcat(Y_pred_rf_1, Y_pred_rf_2, Y_pred_rf_3)\n",
    "sum(Y_pred_rf, dims=1)"
   ]
  },
  {
   "cell_type": "code",
   "execution_count": 15,
   "metadata": {},
   "outputs": [
    {
     "data": {
      "text/plain": [
       "1×3 Matrix{Int64}:\n",
       " 106  110  116"
      ]
     },
     "metadata": {},
     "output_type": "display_data"
    }
   ],
   "source": [
    "# create a 200 * 3 matrix with random 0 or 1s\n",
    "Random.seed!(123)\n",
    "Y_pred_random = rand(0:1, 200, 3)\n",
    "sum(Y_pred_random, dims=1)"
   ]
  },
  {
   "cell_type": "code",
   "execution_count": 16,
   "metadata": {},
   "outputs": [
    {
     "data": {
      "text/plain": [
       "1×3 Matrix{Int64}:\n",
       " 333  491  844"
      ]
     },
     "metadata": {},
     "output_type": "display_data"
    }
   ],
   "source": [
    "sum(Matrix(Y_test_df),dims=1)"
   ]
  },
  {
   "cell_type": "code",
   "execution_count": 17,
   "metadata": {},
   "outputs": [],
   "source": [
    "# transfer the prediction matrix to a dataframe\n",
    "Y_pred_rf_df = DataFrame(Y_pred_rf, [:Savings, :Mortgage, :Pension]);"
   ]
  },
  {
   "cell_type": "markdown",
   "metadata": {},
   "source": [
    "### Logistic Regression"
   ]
  },
  {
   "cell_type": "code",
   "execution_count": 18,
   "metadata": {},
   "outputs": [
    {
     "data": {
      "text/html": [
       "<div><div style = \"float: left;\"><span>8818×22 DataFrame</span></div><div style = \"float: right;\"><span style = \"font-style: italic;\">8793 rows omitted</span></div><div style = \"clear: both;\"></div></div><div class = \"data-frame\" style = \"overflow-x: scroll;\"><table class = \"data-frame\" style = \"margin-bottom: 6px;\"><thead><tr class = \"header\"><th class = \"rowNumber\" style = \"font-weight: bold; text-align: right;\">Row</th><th style = \"text-align: left;\">age</th><th style = \"text-align: left;\">age_youngest_child</th><th style = \"text-align: left;\">debt_equity</th><th style = \"text-align: left;\">gender</th><th style = \"text-align: left;\">bad_payment</th><th style = \"text-align: left;\">gold_card</th><th style = \"text-align: left;\">pension_plan</th><th style = \"text-align: left;\">household_debt_to_equity_ratio</th><th style = \"text-align: left;\">income</th><th style = \"text-align: left;\">members_in_household</th><th style = \"text-align: left;\">months_current_account</th><th style = \"text-align: left;\">months_customer</th><th style = \"text-align: left;\">call_center_contacts</th><th style = \"text-align: left;\">loan_accounts</th><th style = \"text-align: left;\">number_products</th><th style = \"text-align: left;\">number_transactions</th><th style = \"text-align: left;\">non_worker_percentage</th><th style = \"text-align: left;\">white_collar_percentage</th><th style = \"text-align: left;\">rfm_score</th><th style = \"text-align: left;\">Mortgage</th><th style = \"text-align: left;\">Pension</th><th style = \"text-align: left;\">Savings</th></tr><tr class = \"subheader headerLastRow\"><th class = \"rowNumber\" style = \"font-weight: bold; text-align: right;\"></th><th title = \"Float64\" style = \"text-align: left;\">Float64</th><th title = \"Float64\" style = \"text-align: left;\">Float64</th><th title = \"Float64\" style = \"text-align: left;\">Float64</th><th title = \"Float64\" style = \"text-align: left;\">Float64</th><th title = \"Float64\" style = \"text-align: left;\">Float64</th><th title = \"Float64\" style = \"text-align: left;\">Float64</th><th title = \"Float64\" style = \"text-align: left;\">Float64</th><th title = \"Float64\" style = \"text-align: left;\">Float64</th><th title = \"Float64\" style = \"text-align: left;\">Float64</th><th title = \"Float64\" style = \"text-align: left;\">Float64</th><th title = \"Float64\" style = \"text-align: left;\">Float64</th><th title = \"Float64\" style = \"text-align: left;\">Float64</th><th title = \"Float64\" style = \"text-align: left;\">Float64</th><th title = \"Float64\" style = \"text-align: left;\">Float64</th><th title = \"Float64\" style = \"text-align: left;\">Float64</th><th title = \"Float64\" style = \"text-align: left;\">Float64</th><th title = \"Float64\" style = \"text-align: left;\">Float64</th><th title = \"Float64\" style = \"text-align: left;\">Float64</th><th title = \"Float64\" style = \"text-align: left;\">Float64</th><th title = \"Int64\" style = \"text-align: left;\">Int64</th><th title = \"Int64\" style = \"text-align: left;\">Int64</th><th title = \"Int64\" style = \"text-align: left;\">Int64</th></tr></thead><tbody><tr><td class = \"rowNumber\" style = \"font-weight: bold; text-align: right;\">1</td><td style = \"text-align: right;\">-0.209025</td><td style = \"text-align: right;\">0.0882424</td><td style = \"text-align: right;\">-0.209025</td><td style = \"text-align: right;\">1.02178</td><td style = \"text-align: right;\">-0.0543805</td><td style = \"text-align: right;\">-0.177725</td><td style = \"text-align: right;\">-0.0770195</td><td style = \"text-align: right;\">-1.19193</td><td style = \"text-align: right;\">-0.708545</td><td style = \"text-align: right;\">0.398425</td><td style = \"text-align: right;\">-1.1002</td><td style = \"text-align: right;\">-1.0644</td><td style = \"text-align: right;\">1.11758</td><td style = \"text-align: right;\">0.65647</td><td style = \"text-align: right;\">0.222585</td><td style = \"text-align: right;\">0.00842164</td><td style = \"text-align: right;\">0.0111827</td><td style = \"text-align: right;\">1.23981</td><td style = \"text-align: right;\">0.32641</td><td style = \"text-align: right;\">0</td><td style = \"text-align: right;\">0</td><td style = \"text-align: right;\">0</td></tr><tr><td class = \"rowNumber\" style = \"font-weight: bold; text-align: right;\">2</td><td style = \"text-align: right;\">0.656889</td><td style = \"text-align: right;\">0.9698</td><td style = \"text-align: right;\">0.656889</td><td style = \"text-align: right;\">-0.97868</td><td style = \"text-align: right;\">-0.0543805</td><td style = \"text-align: right;\">-0.177725</td><td style = \"text-align: right;\">-0.0770195</td><td style = \"text-align: right;\">0.25933</td><td style = \"text-align: right;\">-1.04821</td><td style = \"text-align: right;\">-1.31149</td><td style = \"text-align: right;\">-0.201499</td><td style = \"text-align: right;\">-0.237377</td><td style = \"text-align: right;\">-0.158208</td><td style = \"text-align: right;\">2.11148</td><td style = \"text-align: right;\">1.34866</td><td style = \"text-align: right;\">0.00842164</td><td style = \"text-align: right;\">0.274139</td><td style = \"text-align: right;\">-0.458193</td><td style = \"text-align: right;\">0.699145</td><td style = \"text-align: right;\">1</td><td style = \"text-align: right;\">0</td><td style = \"text-align: right;\">0</td></tr><tr><td class = \"rowNumber\" style = \"font-weight: bold; text-align: right;\">3</td><td style = \"text-align: right;\">0.13734</td><td style = \"text-align: right;\">0.480046</td><td style = \"text-align: right;\">0.13734</td><td style = \"text-align: right;\">1.02178</td><td style = \"text-align: right;\">-0.0543805</td><td style = \"text-align: right;\">-0.177725</td><td style = \"text-align: right;\">-0.0770195</td><td style = \"text-align: right;\">-0.673623</td><td style = \"text-align: right;\">0.251026</td><td style = \"text-align: right;\">1.53837</td><td style = \"text-align: right;\">-0.426175</td><td style = \"text-align: right;\">-0.237377</td><td style = \"text-align: right;\">0.479688</td><td style = \"text-align: right;\">1.38397</td><td style = \"text-align: right;\">0.785624</td><td style = \"text-align: right;\">-0.208086</td><td style = \"text-align: right;\">-0.51473</td><td style = \"text-align: right;\">0.900211</td><td style = \"text-align: right;\">0.780277</td><td style = \"text-align: right;\">0</td><td style = \"text-align: right;\">0</td><td style = \"text-align: right;\">0</td></tr><tr><td class = \"rowNumber\" style = \"font-weight: bold; text-align: right;\">4</td><td style = \"text-align: right;\">-0.641982</td><td style = \"text-align: right;\">-0.891266</td><td style = \"text-align: right;\">-0.641982</td><td style = \"text-align: right;\">-0.97868</td><td style = \"text-align: right;\">-0.0543805</td><td style = \"text-align: right;\">-0.177725</td><td style = \"text-align: right;\">-0.0770195</td><td style = \"text-align: right;\">1.60693</td><td style = \"text-align: right;\">0.36844</td><td style = \"text-align: right;\">-1.31149</td><td style = \"text-align: right;\">1.22145</td><td style = \"text-align: right;\">1.41666</td><td style = \"text-align: right;\">-1.434</td><td style = \"text-align: right;\">-0.798538</td><td style = \"text-align: right;\">-0.903493</td><td style = \"text-align: right;\">-0.424593</td><td style = \"text-align: right;\">-0.251774</td><td style = \"text-align: right;\">-1.5902</td><td style = \"text-align: right;\">-0.867649</td><td style = \"text-align: right;\">0</td><td style = \"text-align: right;\">0</td><td style = \"text-align: right;\">0</td></tr><tr><td class = \"rowNumber\" style = \"font-weight: bold; text-align: right;\">5</td><td style = \"text-align: right;\">-0.815165</td><td style = \"text-align: right;\">-0.695364</td><td style = \"text-align: right;\">-0.815165</td><td style = \"text-align: right;\">1.02178</td><td style = \"text-align: right;\">-0.0543805</td><td style = \"text-align: right;\">-0.177725</td><td style = \"text-align: right;\">-0.0770195</td><td style = \"text-align: right;\">-0.777284</td><td style = \"text-align: right;\">0.160493</td><td style = \"text-align: right;\">-0.741521</td><td style = \"text-align: right;\">-1.99891</td><td style = \"text-align: right;\">-1.89142</td><td style = \"text-align: right;\">0.479688</td><td style = \"text-align: right;\">-0.798538</td><td style = \"text-align: right;\">-0.903493</td><td style = \"text-align: right;\">-0.424593</td><td style = \"text-align: right;\">-0.51473</td><td style = \"text-align: right;\">1.01341</td><td style = \"text-align: right;\">-0.867649</td><td style = \"text-align: right;\">0</td><td style = \"text-align: right;\">0</td><td style = \"text-align: right;\">0</td></tr><tr><td class = \"rowNumber\" style = \"font-weight: bold; text-align: right;\">6</td><td style = \"text-align: right;\">-2.28722</td><td style = \"text-align: right;\">-1.08717</td><td style = \"text-align: right;\">-2.28722</td><td style = \"text-align: right;\">-0.97868</td><td style = \"text-align: right;\">-0.0543805</td><td style = \"text-align: right;\">5.62666</td><td style = \"text-align: right;\">-0.0770195</td><td style = \"text-align: right;\">1.91791</td><td style = \"text-align: right;\">-1.03938</td><td style = \"text-align: right;\">0.398425</td><td style = \"text-align: right;\">0.397638</td><td style = \"text-align: right;\">0.589643</td><td style = \"text-align: right;\">-1.434</td><td style = \"text-align: right;\">1.38397</td><td style = \"text-align: right;\">0.222585</td><td style = \"text-align: right;\">-0.208086</td><td style = \"text-align: right;\">-1.04064</td><td style = \"text-align: right;\">-1.5902</td><td style = \"text-align: right;\">0.17651</td><td style = \"text-align: right;\">1</td><td style = \"text-align: right;\">0</td><td style = \"text-align: right;\">1</td></tr><tr><td class = \"rowNumber\" style = \"font-weight: bold; text-align: right;\">7</td><td style = \"text-align: right;\">1.17644</td><td style = \"text-align: right;\">1.26365</td><td style = \"text-align: right;\">1.17644</td><td style = \"text-align: right;\">1.02178</td><td style = \"text-align: right;\">-0.0543805</td><td style = \"text-align: right;\">-0.177725</td><td style = \"text-align: right;\">-0.0770195</td><td style = \"text-align: right;\">1.19228</td><td style = \"text-align: right;\">-0.332109</td><td style = \"text-align: right;\">-1.88147</td><td style = \"text-align: right;\">1.37124</td><td style = \"text-align: right;\">1.41666</td><td style = \"text-align: right;\">-1.434</td><td style = \"text-align: right;\">-0.798538</td><td style = \"text-align: right;\">0.222585</td><td style = \"text-align: right;\">0.00842164</td><td style = \"text-align: right;\">1.85188</td><td style = \"text-align: right;\">-2.1562</td><td style = \"text-align: right;\">0.574807</td><td style = \"text-align: right;\">0</td><td style = \"text-align: right;\">1</td><td style = \"text-align: right;\">0</td></tr><tr><td class = \"rowNumber\" style = \"font-weight: bold; text-align: right;\">8</td><td style = \"text-align: right;\">1.08985</td><td style = \"text-align: right;\">1.06775</td><td style = \"text-align: right;\">1.08985</td><td style = \"text-align: right;\">-0.97868</td><td style = \"text-align: right;\">-0.0543805</td><td style = \"text-align: right;\">-0.177725</td><td style = \"text-align: right;\">-0.0770195</td><td style = \"text-align: right;\">-2.12488</td><td style = \"text-align: right;\">2.54603</td><td style = \"text-align: right;\">-0.741521</td><td style = \"text-align: right;\">-1.02531</td><td style = \"text-align: right;\">-1.0644</td><td style = \"text-align: right;\">2.39337</td><td style = \"text-align: right;\">-0.798538</td><td style = \"text-align: right;\">1.34866</td><td style = \"text-align: right;\">0.224929</td><td style = \"text-align: right;\">-0.777687</td><td style = \"text-align: right;\">2.71142</td><td style = \"text-align: right;\">1.04257</td><td style = \"text-align: right;\">0</td><td style = \"text-align: right;\">1</td><td style = \"text-align: right;\">0</td></tr><tr><td class = \"rowNumber\" style = \"font-weight: bold; text-align: right;\">9</td><td style = \"text-align: right;\">0.656889</td><td style = \"text-align: right;\">0.675947</td><td style = \"text-align: right;\">0.656889</td><td style = \"text-align: right;\">1.02178</td><td style = \"text-align: right;\">-0.0543805</td><td style = \"text-align: right;\">-0.177725</td><td style = \"text-align: right;\">-0.0770195</td><td style = \"text-align: right;\">0.673975</td><td style = \"text-align: right;\">-1.20019</td><td style = \"text-align: right;\">-0.741521</td><td style = \"text-align: right;\">-1.69934</td><td style = \"text-align: right;\">-1.89142</td><td style = \"text-align: right;\">-0.796104</td><td style = \"text-align: right;\">-0.798538</td><td style = \"text-align: right;\">-0.903493</td><td style = \"text-align: right;\">-0.424593</td><td style = \"text-align: right;\">1.06301</td><td style = \"text-align: right;\">-1.1374</td><td style = \"text-align: right;\">-0.867649</td><td style = \"text-align: right;\">0</td><td style = \"text-align: right;\">0</td><td style = \"text-align: right;\">1</td></tr><tr><td class = \"rowNumber\" style = \"font-weight: bold; text-align: right;\">10</td><td style = \"text-align: right;\">-0.0358424</td><td style = \"text-align: right;\">-0.891266</td><td style = \"text-align: right;\">-0.0358424</td><td style = \"text-align: right;\">1.02178</td><td style = \"text-align: right;\">-0.0543805</td><td style = \"text-align: right;\">-0.177725</td><td style = \"text-align: right;\">-0.0770195</td><td style = \"text-align: right;\">0.98496</td><td style = \"text-align: right;\">1.10355</td><td style = \"text-align: right;\">-1.31149</td><td style = \"text-align: right;\">-1.1002</td><td style = \"text-align: right;\">-1.0644</td><td style = \"text-align: right;\">-0.796104</td><td style = \"text-align: right;\">-0.0710344</td><td style = \"text-align: right;\">1.34866</td><td style = \"text-align: right;\">0.00842164</td><td style = \"text-align: right;\">0.274139</td><td style = \"text-align: right;\">-1.1374</td><td style = \"text-align: right;\">0.568139</td><td style = \"text-align: right;\">0</td><td style = \"text-align: right;\">0</td><td style = \"text-align: right;\">0</td></tr><tr><td class = \"rowNumber\" style = \"font-weight: bold; text-align: right;\">11</td><td style = \"text-align: right;\">-1.85426</td><td style = \"text-align: right;\">-1.08717</td><td style = \"text-align: right;\">-1.85426</td><td style = \"text-align: right;\">1.02178</td><td style = \"text-align: right;\">-0.0543805</td><td style = \"text-align: right;\">-0.177725</td><td style = \"text-align: right;\">-0.0770195</td><td style = \"text-align: right;\">1.71059</td><td style = \"text-align: right;\">-0.927436</td><td style = \"text-align: right;\">-0.741521</td><td style = \"text-align: right;\">1.44613</td><td style = \"text-align: right;\">1.41666</td><td style = \"text-align: right;\">-1.434</td><td style = \"text-align: right;\">-0.0710344</td><td style = \"text-align: right;\">0.785624</td><td style = \"text-align: right;\">-0.208086</td><td style = \"text-align: right;\">0.0111827</td><td style = \"text-align: right;\">-1.9298</td><td style = \"text-align: right;\">0.255141</td><td style = \"text-align: right;\">0</td><td style = \"text-align: right;\">0</td><td style = \"text-align: right;\">0</td></tr><tr><td class = \"rowNumber\" style = \"font-weight: bold; text-align: right;\">12</td><td style = \"text-align: right;\">0.397115</td><td style = \"text-align: right;\">-0.00970844</td><td style = \"text-align: right;\">0.397115</td><td style = \"text-align: right;\">-0.97868</td><td style = \"text-align: right;\">-0.0543805</td><td style = \"text-align: right;\">-0.177725</td><td style = \"text-align: right;\">-0.0770195</td><td style = \"text-align: right;\">-1.39925</td><td style = \"text-align: right;\">-0.16746</td><td style = \"text-align: right;\">0.968399</td><td style = \"text-align: right;\">-0.800636</td><td style = \"text-align: right;\">-1.0644</td><td style = \"text-align: right;\">1.11758</td><td style = \"text-align: right;\">0.65647</td><td style = \"text-align: right;\">0.222585</td><td style = \"text-align: right;\">-0.208086</td><td style = \"text-align: right;\">0.537096</td><td style = \"text-align: right;\">1.35301</td><td style = \"text-align: right;\">0.46589</td><td style = \"text-align: right;\">1</td><td style = \"text-align: right;\">0</td><td style = \"text-align: right;\">0</td></tr><tr><td class = \"rowNumber\" style = \"font-weight: bold; text-align: right;\">13</td><td style = \"text-align: right;\">0.050749</td><td style = \"text-align: right;\">-0.20561</td><td style = \"text-align: right;\">0.050749</td><td style = \"text-align: right;\">-0.97868</td><td style = \"text-align: right;\">-0.0543805</td><td style = \"text-align: right;\">-0.177725</td><td style = \"text-align: right;\">-0.0770195</td><td style = \"text-align: right;\">-0.362639</td><td style = \"text-align: right;\">2.22066</td><td style = \"text-align: right;\">0.968399</td><td style = \"text-align: right;\">-0.875528</td><td style = \"text-align: right;\">-1.0644</td><td style = \"text-align: right;\">0.479688</td><td style = \"text-align: right;\">2.11148</td><td style = \"text-align: right;\">0.785624</td><td style = \"text-align: right;\">-0.208086</td><td style = \"text-align: right;\">-0.251774</td><td style = \"text-align: right;\">0.56061</td><td style = \"text-align: right;\">0.547439</td><td style = \"text-align: right;\">1</td><td style = \"text-align: right;\">0</td><td style = \"text-align: right;\">1</td></tr><tr><td style = \"text-align: right;\">&vellip;</td><td style = \"text-align: right;\">&vellip;</td><td style = \"text-align: right;\">&vellip;</td><td style = \"text-align: right;\">&vellip;</td><td style = \"text-align: right;\">&vellip;</td><td style = \"text-align: right;\">&vellip;</td><td style = \"text-align: right;\">&vellip;</td><td style = \"text-align: right;\">&vellip;</td><td style = \"text-align: right;\">&vellip;</td><td style = \"text-align: right;\">&vellip;</td><td style = \"text-align: right;\">&vellip;</td><td style = \"text-align: right;\">&vellip;</td><td style = \"text-align: right;\">&vellip;</td><td style = \"text-align: right;\">&vellip;</td><td style = \"text-align: right;\">&vellip;</td><td style = \"text-align: right;\">&vellip;</td><td style = \"text-align: right;\">&vellip;</td><td style = \"text-align: right;\">&vellip;</td><td style = \"text-align: right;\">&vellip;</td><td style = \"text-align: right;\">&vellip;</td><td style = \"text-align: right;\">&vellip;</td><td style = \"text-align: right;\">&vellip;</td><td style = \"text-align: right;\">&vellip;</td></tr><tr><td class = \"rowNumber\" style = \"font-weight: bold; text-align: right;\">8807</td><td style = \"text-align: right;\">0.050749</td><td style = \"text-align: right;\">0.0882424</td><td style = \"text-align: right;\">0.050749</td><td style = \"text-align: right;\">1.02178</td><td style = \"text-align: right;\">-0.0543805</td><td style = \"text-align: right;\">-0.177725</td><td style = \"text-align: right;\">-0.0770195</td><td style = \"text-align: right;\">0.25933</td><td style = \"text-align: right;\">1.00025</td><td style = \"text-align: right;\">-0.741521</td><td style = \"text-align: right;\">0.846991</td><td style = \"text-align: right;\">0.589643</td><td style = \"text-align: right;\">-0.158208</td><td style = \"text-align: right;\">-0.798538</td><td style = \"text-align: right;\">-0.903493</td><td style = \"text-align: right;\">-0.424593</td><td style = \"text-align: right;\">0.537096</td><td style = \"text-align: right;\">-0.458193</td><td style = \"text-align: right;\">-0.867649</td><td style = \"text-align: right;\">0</td><td style = \"text-align: right;\">1</td><td style = \"text-align: right;\">0</td></tr><tr><td class = \"rowNumber\" style = \"font-weight: bold; text-align: right;\">8808</td><td style = \"text-align: right;\">0.74348</td><td style = \"text-align: right;\">0.871849</td><td style = \"text-align: right;\">0.74348</td><td style = \"text-align: right;\">1.02178</td><td style = \"text-align: right;\">-0.0543805</td><td style = \"text-align: right;\">-0.177725</td><td style = \"text-align: right;\">-0.0770195</td><td style = \"text-align: right;\">-2.12488</td><td style = \"text-align: right;\">-0.172357</td><td style = \"text-align: right;\">-0.171548</td><td style = \"text-align: right;\">0.0231777</td><td style = \"text-align: right;\">-0.237377</td><td style = \"text-align: right;\">2.39337</td><td style = \"text-align: right;\">-0.798538</td><td style = \"text-align: right;\">0.785624</td><td style = \"text-align: right;\">-0.208086</td><td style = \"text-align: right;\">-1.3036</td><td style = \"text-align: right;\">2.93782</td><td style = \"text-align: right;\">0.219021</td><td style = \"text-align: right;\">0</td><td style = \"text-align: right;\">0</td><td style = \"text-align: right;\">0</td></tr><tr><td class = \"rowNumber\" style = \"font-weight: bold; text-align: right;\">8809</td><td style = \"text-align: right;\">-0.122434</td><td style = \"text-align: right;\">-0.00970844</td><td style = \"text-align: right;\">-0.122434</td><td style = \"text-align: right;\">1.02178</td><td style = \"text-align: right;\">-0.0543805</td><td style = \"text-align: right;\">-0.177725</td><td style = \"text-align: right;\">-0.0770195</td><td style = \"text-align: right;\">0.466653</td><td style = \"text-align: right;\">1.1984</td><td style = \"text-align: right;\">-1.31149</td><td style = \"text-align: right;\">1.44613</td><td style = \"text-align: right;\">1.41666</td><td style = \"text-align: right;\">-0.796104</td><td style = \"text-align: right;\">-0.798538</td><td style = \"text-align: right;\">0.785624</td><td style = \"text-align: right;\">0.00842164</td><td style = \"text-align: right;\">-1.04064</td><td style = \"text-align: right;\">-0.00539172</td><td style = \"text-align: right;\">0.380451</td><td style = \"text-align: right;\">0</td><td style = \"text-align: right;\">0</td><td style = \"text-align: right;\">1</td></tr><tr><td class = \"rowNumber\" style = \"font-weight: bold; text-align: right;\">8810</td><td style = \"text-align: right;\">0.050749</td><td style = \"text-align: right;\">-0.303561</td><td style = \"text-align: right;\">0.050749</td><td style = \"text-align: right;\">1.02178</td><td style = \"text-align: right;\">-0.0543805</td><td style = \"text-align: right;\">-0.177725</td><td style = \"text-align: right;\">-0.0770195</td><td style = \"text-align: right;\">-0.569961</td><td style = \"text-align: right;\">-0.0958406</td><td style = \"text-align: right;\">0.968399</td><td style = \"text-align: right;\">1.52102</td><td style = \"text-align: right;\">1.41666</td><td style = \"text-align: right;\">0.479688</td><td style = \"text-align: right;\">0.65647</td><td style = \"text-align: right;\">0.785624</td><td style = \"text-align: right;\">-0.208086</td><td style = \"text-align: right;\">2.11483</td><td style = \"text-align: right;\">-0.344993</td><td style = \"text-align: right;\">0.562165</td><td style = \"text-align: right;\">0</td><td style = \"text-align: right;\">1</td><td style = \"text-align: right;\">0</td></tr><tr><td class = \"rowNumber\" style = \"font-weight: bold; text-align: right;\">8811</td><td style = \"text-align: right;\">0.483706</td><td style = \"text-align: right;\">0.577996</td><td style = \"text-align: right;\">0.483706</td><td style = \"text-align: right;\">-0.97868</td><td style = \"text-align: right;\">-0.0543805</td><td style = \"text-align: right;\">-0.177725</td><td style = \"text-align: right;\">-0.0770195</td><td style = \"text-align: right;\">-0.155316</td><td style = \"text-align: right;\">-0.619452</td><td style = \"text-align: right;\">0.968399</td><td style = \"text-align: right;\">0.0231777</td><td style = \"text-align: right;\">-0.237377</td><td style = \"text-align: right;\">-0.158208</td><td style = \"text-align: right;\">0.65647</td><td style = \"text-align: right;\">2.47474</td><td style = \"text-align: right;\">0.224929</td><td style = \"text-align: right;\">0.0111827</td><td style = \"text-align: right;\">0.107809</td><td style = \"text-align: right;\">0.535491</td><td style = \"text-align: right;\">1</td><td style = \"text-align: right;\">0</td><td style = \"text-align: right;\">0</td></tr><tr><td class = \"rowNumber\" style = \"font-weight: bold; text-align: right;\">8812</td><td style = \"text-align: right;\">-1.16153</td><td style = \"text-align: right;\">-1.08717</td><td style = \"text-align: right;\">-1.16153</td><td style = \"text-align: right;\">-0.97868</td><td style = \"text-align: right;\">-0.0543805</td><td style = \"text-align: right;\">-0.177725</td><td style = \"text-align: right;\">-0.0770195</td><td style = \"text-align: right;\">1.60693</td><td style = \"text-align: right;\">-0.178693</td><td style = \"text-align: right;\">0.968399</td><td style = \"text-align: right;\">-0.426175</td><td style = \"text-align: right;\">-0.237377</td><td style = \"text-align: right;\">-1.434</td><td style = \"text-align: right;\">-0.0710344</td><td style = \"text-align: right;\">0.222585</td><td style = \"text-align: right;\">-0.208086</td><td style = \"text-align: right;\">-1.82951</td><td style = \"text-align: right;\">-0.910995</td><td style = \"text-align: right;\">0.899058</td><td style = \"text-align: right;\">1</td><td style = \"text-align: right;\">0</td><td style = \"text-align: right;\">1</td></tr><tr><td class = \"rowNumber\" style = \"font-weight: bold; text-align: right;\">8813</td><td style = \"text-align: right;\">-1.59449</td><td style = \"text-align: right;\">-1.08717</td><td style = \"text-align: right;\">-1.59449</td><td style = \"text-align: right;\">-0.97868</td><td style = \"text-align: right;\">-0.0543805</td><td style = \"text-align: right;\">-0.177725</td><td style = \"text-align: right;\">-0.0770195</td><td style = \"text-align: right;\">0.570314</td><td style = \"text-align: right;\">2.12332</td><td style = \"text-align: right;\">-1.31149</td><td style = \"text-align: right;\">-0.276391</td><td style = \"text-align: right;\">-0.237377</td><td style = \"text-align: right;\">-0.796104</td><td style = \"text-align: right;\">-0.798538</td><td style = \"text-align: right;\">1.9117</td><td style = \"text-align: right;\">0.224929</td><td style = \"text-align: right;\">0.800052</td><td style = \"text-align: right;\">-1.0242</td><td style = \"text-align: right;\">0.934344</td><td style = \"text-align: right;\">0</td><td style = \"text-align: right;\">0</td><td style = \"text-align: right;\">1</td></tr><tr><td class = \"rowNumber\" style = \"font-weight: bold; text-align: right;\">8814</td><td style = \"text-align: right;\">-0.122434</td><td style = \"text-align: right;\">-0.00970844</td><td style = \"text-align: right;\">-0.122434</td><td style = \"text-align: right;\">-0.97868</td><td style = \"text-align: right;\">-0.0543805</td><td style = \"text-align: right;\">5.62666</td><td style = \"text-align: right;\">-0.0770195</td><td style = \"text-align: right;\">0.155668</td><td style = \"text-align: right;\">-0.50655</td><td style = \"text-align: right;\">0.398425</td><td style = \"text-align: right;\">0.622315</td><td style = \"text-align: right;\">0.589643</td><td style = \"text-align: right;\">-0.158208</td><td style = \"text-align: right;\">-0.0710344</td><td style = \"text-align: right;\">1.34866</td><td style = \"text-align: right;\">-0.208086</td><td style = \"text-align: right;\">0.800052</td><td style = \"text-align: right;\">-0.458193</td><td style = \"text-align: right;\">0.289872</td><td style = \"text-align: right;\">0</td><td style = \"text-align: right;\">0</td><td style = \"text-align: right;\">0</td></tr><tr><td class = \"rowNumber\" style = \"font-weight: bold; text-align: right;\">8815</td><td style = \"text-align: right;\">0.13734</td><td style = \"text-align: right;\">-0.20561</td><td style = \"text-align: right;\">0.13734</td><td style = \"text-align: right;\">1.02178</td><td style = \"text-align: right;\">-0.0543805</td><td style = \"text-align: right;\">-0.177725</td><td style = \"text-align: right;\">-0.0770195</td><td style = \"text-align: right;\">0.570314</td><td style = \"text-align: right;\">0.817551</td><td style = \"text-align: right;\">0.398425</td><td style = \"text-align: right;\">1.52102</td><td style = \"text-align: right;\">1.41666</td><td style = \"text-align: right;\">-0.796104</td><td style = \"text-align: right;\">-0.798538</td><td style = \"text-align: right;\">1.9117</td><td style = \"text-align: right;\">0.224929</td><td style = \"text-align: right;\">0.537096</td><td style = \"text-align: right;\">-0.910995</td><td style = \"text-align: right;\">0.500204</td><td style = \"text-align: right;\">0</td><td style = \"text-align: right;\">0</td><td style = \"text-align: right;\">0</td></tr><tr><td class = \"rowNumber\" style = \"font-weight: bold; text-align: right;\">8816</td><td style = \"text-align: right;\">-0.555391</td><td style = \"text-align: right;\">-0.499463</td><td style = \"text-align: right;\">-0.555391</td><td style = \"text-align: right;\">1.02178</td><td style = \"text-align: right;\">-0.0543805</td><td style = \"text-align: right;\">-0.177725</td><td style = \"text-align: right;\">-0.0770195</td><td style = \"text-align: right;\">-0.673623</td><td style = \"text-align: right;\">0.87669</td><td style = \"text-align: right;\">-0.171548</td><td style = \"text-align: right;\">1.37124</td><td style = \"text-align: right;\">1.41666</td><td style = \"text-align: right;\">0.479688</td><td style = \"text-align: right;\">0.65647</td><td style = \"text-align: right;\">0.785624</td><td style = \"text-align: right;\">0.00842164</td><td style = \"text-align: right;\">3.42962</td><td style = \"text-align: right;\">-0.797794</td><td style = \"text-align: right;\">0.306127</td><td style = \"text-align: right;\">0</td><td style = \"text-align: right;\">0</td><td style = \"text-align: right;\">1</td></tr><tr><td class = \"rowNumber\" style = \"font-weight: bold; text-align: right;\">8817</td><td style = \"text-align: right;\">-0.555391</td><td style = \"text-align: right;\">-0.695364</td><td style = \"text-align: right;\">-0.555391</td><td style = \"text-align: right;\">-0.97868</td><td style = \"text-align: right;\">-0.0543805</td><td style = \"text-align: right;\">-0.177725</td><td style = \"text-align: right;\">-0.0770195</td><td style = \"text-align: right;\">0.052007</td><td style = \"text-align: right;\">-1.45854</td><td style = \"text-align: right;\">0.968399</td><td style = \"text-align: right;\">-1.02531</td><td style = \"text-align: right;\">-1.0644</td><td style = \"text-align: right;\">-0.158208</td><td style = \"text-align: right;\">-0.0710344</td><td style = \"text-align: right;\">-0.903493</td><td style = \"text-align: right;\">-0.424593</td><td style = \"text-align: right;\">-1.04064</td><td style = \"text-align: right;\">0.334209</td><td style = \"text-align: right;\">-0.867649</td><td style = \"text-align: right;\">0</td><td style = \"text-align: right;\">0</td><td style = \"text-align: right;\">1</td></tr><tr><td class = \"rowNumber\" style = \"font-weight: bold; text-align: right;\">8818</td><td style = \"text-align: right;\">-0.988348</td><td style = \"text-align: right;\">-0.989217</td><td style = \"text-align: right;\">-0.988348</td><td style = \"text-align: right;\">1.02178</td><td style = \"text-align: right;\">-0.0543805</td><td style = \"text-align: right;\">-0.177725</td><td style = \"text-align: right;\">-0.0770195</td><td style = \"text-align: right;\">0.25933</td><td style = \"text-align: right;\">0.0963615</td><td style = \"text-align: right;\">-0.171548</td><td style = \"text-align: right;\">0.846991</td><td style = \"text-align: right;\">0.589643</td><td style = \"text-align: right;\">-0.158208</td><td style = \"text-align: right;\">-0.798538</td><td style = \"text-align: right;\">-0.903493</td><td style = \"text-align: right;\">-0.424593</td><td style = \"text-align: right;\">-1.3036</td><td style = \"text-align: right;\">0.334209</td><td style = \"text-align: right;\">-0.867649</td><td style = \"text-align: right;\">0</td><td style = \"text-align: right;\">0</td><td style = \"text-align: right;\">1</td></tr></tbody></table></div>"
      ],
      "text/latex": [
       "\\begin{tabular}{r|cccccccc}\n",
       "\t& age & age\\_youngest\\_child & debt\\_equity & gender & bad\\_payment & gold\\_card & pension\\_plan & \\\\\n",
       "\t\\hline\n",
       "\t& Float64 & Float64 & Float64 & Float64 & Float64 & Float64 & Float64 & \\\\\n",
       "\t\\hline\n",
       "\t1 & -0.209025 & 0.0882424 & -0.209025 & 1.02178 & -0.0543805 & -0.177725 & -0.0770195 & $\\dots$ \\\\\n",
       "\t2 & 0.656889 & 0.9698 & 0.656889 & -0.97868 & -0.0543805 & -0.177725 & -0.0770195 & $\\dots$ \\\\\n",
       "\t3 & 0.13734 & 0.480046 & 0.13734 & 1.02178 & -0.0543805 & -0.177725 & -0.0770195 & $\\dots$ \\\\\n",
       "\t4 & -0.641982 & -0.891266 & -0.641982 & -0.97868 & -0.0543805 & -0.177725 & -0.0770195 & $\\dots$ \\\\\n",
       "\t5 & -0.815165 & -0.695364 & -0.815165 & 1.02178 & -0.0543805 & -0.177725 & -0.0770195 & $\\dots$ \\\\\n",
       "\t6 & -2.28722 & -1.08717 & -2.28722 & -0.97868 & -0.0543805 & 5.62666 & -0.0770195 & $\\dots$ \\\\\n",
       "\t7 & 1.17644 & 1.26365 & 1.17644 & 1.02178 & -0.0543805 & -0.177725 & -0.0770195 & $\\dots$ \\\\\n",
       "\t8 & 1.08985 & 1.06775 & 1.08985 & -0.97868 & -0.0543805 & -0.177725 & -0.0770195 & $\\dots$ \\\\\n",
       "\t9 & 0.656889 & 0.675947 & 0.656889 & 1.02178 & -0.0543805 & -0.177725 & -0.0770195 & $\\dots$ \\\\\n",
       "\t10 & -0.0358424 & -0.891266 & -0.0358424 & 1.02178 & -0.0543805 & -0.177725 & -0.0770195 & $\\dots$ \\\\\n",
       "\t11 & -1.85426 & -1.08717 & -1.85426 & 1.02178 & -0.0543805 & -0.177725 & -0.0770195 & $\\dots$ \\\\\n",
       "\t12 & 0.397115 & -0.00970844 & 0.397115 & -0.97868 & -0.0543805 & -0.177725 & -0.0770195 & $\\dots$ \\\\\n",
       "\t13 & 0.050749 & -0.20561 & 0.050749 & -0.97868 & -0.0543805 & -0.177725 & -0.0770195 & $\\dots$ \\\\\n",
       "\t14 & -0.555391 & -0.793315 & -0.555391 & 1.02178 & -0.0543805 & -0.177725 & -0.0770195 & $\\dots$ \\\\\n",
       "\t15 & 2.21553 & 2.34111 & 2.21553 & 1.02178 & -0.0543805 & -0.177725 & -0.0770195 & $\\dots$ \\\\\n",
       "\t16 & 0.570298 & 0.577996 & 0.570298 & 1.02178 & -0.0543805 & -0.177725 & -0.0770195 & $\\dots$ \\\\\n",
       "\t17 & -0.988348 & -1.08717 & -0.988348 & -0.97868 & -0.0543805 & -0.177725 & -0.0770195 & $\\dots$ \\\\\n",
       "\t18 & 0.570298 & 0.675947 & 0.570298 & 1.02178 & -0.0543805 & -0.177725 & -0.0770195 & $\\dots$ \\\\\n",
       "\t19 & -0.209025 & -0.597413 & -0.209025 & -0.97868 & -0.0543805 & -0.177725 & -0.0770195 & $\\dots$ \\\\\n",
       "\t20 & -0.728574 & -0.793315 & -0.728574 & 1.02178 & -0.0543805 & -0.177725 & -0.0770195 & $\\dots$ \\\\\n",
       "\t21 & 1.08985 & 0.871849 & 1.08985 & 1.02178 & -0.0543805 & -0.177725 & -0.0770195 & $\\dots$ \\\\\n",
       "\t22 & -0.382208 & -0.303561 & -0.382208 & -0.97868 & -0.0543805 & -0.177725 & -0.0770195 & $\\dots$ \\\\\n",
       "\t23 & 1.95576 & 2.34111 & 1.95576 & -0.97868 & -0.0543805 & -0.177725 & -0.0770195 & $\\dots$ \\\\\n",
       "\t24 & -0.4688 & -0.20561 & -0.4688 & 1.02178 & -0.0543805 & -0.177725 & -0.0770195 & $\\dots$ \\\\\n",
       "\t$\\dots$ & $\\dots$ & $\\dots$ & $\\dots$ & $\\dots$ & $\\dots$ & $\\dots$ & $\\dots$ &  \\\\\n",
       "\\end{tabular}\n"
      ],
      "text/plain": [
       "\u001b[1m8818×22 DataFrame\n",
       "\u001b[1m  Row │\u001b[1m age        \u001b[1m age_youngest_child \u001b[1m debt_equity \u001b[1m gender   \u001b[1m bad_payment \u001b[1m go ⋯\n",
       "      │\u001b[90m Float64    \u001b[90m Float64            \u001b[90m Float64     \u001b[90m Float64  \u001b[90m Float64     \u001b[90m Fl ⋯\n",
       "──────┼─────────────────────────────────────────────────────────────────────────\n",
       "    1 │ -0.209025           0.0882424    -0.209025    1.02178   -0.0543805  -0 ⋯\n",
       "    2 │  0.656889           0.9698        0.656889   -0.97868   -0.0543805  -0\n",
       "    3 │  0.13734            0.480046      0.13734     1.02178   -0.0543805  -0\n",
       "    4 │ -0.641982          -0.891266     -0.641982   -0.97868   -0.0543805  -0\n",
       "    5 │ -0.815165          -0.695364     -0.815165    1.02178   -0.0543805  -0 ⋯\n",
       "    6 │ -2.28722           -1.08717      -2.28722    -0.97868   -0.0543805   5\n",
       "    7 │  1.17644            1.26365       1.17644     1.02178   -0.0543805  -0\n",
       "    8 │  1.08985            1.06775       1.08985    -0.97868   -0.0543805  -0\n",
       "  ⋮   │     ⋮               ⋮                ⋮          ⋮           ⋮          ⋱\n",
       " 8812 │ -1.16153           -1.08717      -1.16153    -0.97868   -0.0543805  -0 ⋯\n",
       " 8813 │ -1.59449           -1.08717      -1.59449    -0.97868   -0.0543805  -0\n",
       " 8814 │ -0.122434          -0.00970844   -0.122434   -0.97868   -0.0543805   5\n",
       " 8815 │  0.13734           -0.20561       0.13734     1.02178   -0.0543805  -0\n",
       " 8816 │ -0.555391          -0.499463     -0.555391    1.02178   -0.0543805  -0 ⋯\n",
       " 8817 │ -0.555391          -0.695364     -0.555391   -0.97868   -0.0543805  -0\n",
       " 8818 │ -0.988348          -0.989217     -0.988348    1.02178   -0.0543805  -0\n",
       "\u001b[36m                                                17 columns and 8803 rows omitted"
      ]
     },
     "metadata": {},
     "output_type": "display_data"
    }
   ],
   "source": [
    "# combine X_train and Y_train\n",
    "XY_train_df = hcat(X_train_df, Y_train_df)"
   ]
  },
  {
   "cell_type": "code",
   "execution_count": 19,
   "metadata": {},
   "outputs": [
    {
     "data": {
      "text/plain": [
       "0.6471655328798186"
      ]
     },
     "metadata": {},
     "output_type": "display_data"
    }
   ],
   "source": [
    "loglrg_model_1 = glm(@formula(Mortgage ~ age + income + members_in_household + loan_accounts), XY_train_df, Binomial(), LogitLink())\n",
    "loglrg_model_2 = glm(@formula(Pension ~ age + income + members_in_household + loan_accounts), XY_train_df, Binomial(), LogitLink())\n",
    "loglrg_model_3 = glm(@formula(Savings ~ age + income + members_in_household + loan_accounts), XY_train_df, Binomial(), LogitLink())\n",
    "\n",
    "Y_pred_lr_1 = GLM.predict(loglrg_model_1, X_test_df)\n",
    "Y_pred_lr_2 = GLM.predict(loglrg_model_2, X_test_df)\n",
    "Y_pred_lr_3 = GLM.predict(loglrg_model_3, X_test_df)\n",
    "\n",
    "Y_pred_lr = hcat(Y_pred_lr_1, Y_pred_lr_2, Y_pred_lr_3)\n",
    "\n",
    "Y_pred_lr = Y_pred_lr .> 0.5\n",
    "\n",
    "# compute the accuracy\n",
    "accuracy_lr_1 = sum(Y_pred_lr[:, 1] .== Y_test[:, 1]) / length(Y_test[:, 1])\n",
    "accuracy_lr_2 = sum(Y_pred_lr[:, 2] .== Y_test[:, 2]) / length(Y_test[:, 2])\n",
    "accuracy_lr_3 = sum(Y_pred_lr[:, 3] .== Y_test[:, 3]) / length(Y_test[:, 3])"
   ]
  },
  {
   "cell_type": "code",
   "execution_count": 20,
   "metadata": {},
   "outputs": [
    {
     "data": {
      "text/plain": [
       "1×3 Matrix{Int64}:\n",
       " 248  163  510"
      ]
     },
     "metadata": {},
     "output_type": "display_data"
    }
   ],
   "source": [
    "sum(Y_pred_lr, dims=1)"
   ]
  },
  {
   "cell_type": "code",
   "execution_count": 21,
   "metadata": {},
   "outputs": [],
   "source": [
    "# change the type of Y_pred_lr to Int64\n",
    "Y_pred_lr = map(Int64, Y_pred_lr)\n",
    "# transfer the prediction matrix to a dataframe\n",
    "Y_pred_lr_df = DataFrame(Y_pred_lr, [:Savings, :Mortgage, :Pension]);"
   ]
  },
  {
   "cell_type": "markdown",
   "metadata": {},
   "source": [
    "# Modeling"
   ]
  },
  {
   "cell_type": "markdown",
   "metadata": {},
   "source": [
    "## Results Calculation Function"
   ]
  },
  {
   "cell_type": "code",
   "execution_count": 22,
   "metadata": {},
   "outputs": [
    {
     "data": {
      "text/plain": [
       "results_calculation (generic function with 1 method)"
      ]
     },
     "metadata": {},
     "output_type": "display_data"
    }
   ],
   "source": [
    "# Define a function to compute the results\n",
    "function results_calculation(decision)\n",
    "    # calculate core metirc\n",
    "    revenue = sum((p[j] * s[k]) * Y_test[i, j] * decision[i, j, k] for i in 1:size(Y_test, 1) for j in 1:J for k in 1:K)\n",
    "    budget = sum(c[k] * decision[i, j, k] for i in 1:size(Y_test, 1) for j in 1:J for k in 1:K)\n",
    "    profit = - sum((c[k] - p[j] * s[k]) * Y_test[i, j] * decision[i, j, k] for i in 1:size(Y_test, 1) for j in 1:J for k in 1:K)\n",
    "    customers = sum(decision)\n",
    "    saving = sum(decision[:, 1, :])\n",
    "    mortgage = sum(decision[:, 2, :])\n",
    "    pension = sum(decision[:, 3, :])\n",
    "    gift = sum(decision[:, :, 1])\n",
    "    newsletter = sum(decision[:, :, 2])\n",
    "    seminar = sum(decision[:, :, 3])\n",
    "    return revenue, budget, profit, customers, saving, mortgage, pension, gift, newsletter, seminar\n",
    "end"
   ]
  },
  {
   "cell_type": "markdown",
   "metadata": {},
   "source": [
    "## Greedy Algorithm"
   ]
  },
  {
   "cell_type": "code",
   "execution_count": 23,
   "metadata": {},
   "outputs": [
    {
     "data": {
      "text/plain": [
       "greedy_model (generic function with 1 method)"
      ]
     },
     "metadata": {},
     "output_type": "display_data"
    }
   ],
   "source": [
    "function greedy_model(prediction_model)\n",
    "\n",
    "    # choose the prediction model we want to use\n",
    "    if prediction_model == \"rf\"\n",
    "        offers = Y_pred_rf_df\n",
    "    elseif prediction_model == \"lr\"\n",
    "        offers = Y_pred_lr_df\n",
    "    else\n",
    "        println(\"Please choose a valid prediction model.\")\n",
    "    end\n",
    "\n",
    "\n",
    "    # Set up the data\n",
    "    gsol = zeros(Int64, length(offers[:, 1]), length(products), length(channels[:, 1]))\n",
    "    budget = 0\n",
    "    revenue = 0\n",
    "    noffers = length(offers[:, 1])\n",
    "\n",
    "    # Ensure the 10% per channel by choosing the most promising per channel\n",
    "    for c in 1:length(channels[:, 1])\n",
    "        i = 0\n",
    "        while i < (noffers / 10)\n",
    "            # Find a possible offer in this channel for a customer not yet done\n",
    "            added = false\n",
    "            for o in 1:noffers\n",
    "                already = false\n",
    "                for product in 1:length(products)\n",
    "                    if sum(gsol[o, product, :]) == 1\n",
    "                        already = true\n",
    "                        break\n",
    "                    end\n",
    "                end\n",
    "                if already\n",
    "                    continue\n",
    "                end\n",
    "                \n",
    "                possible = false\n",
    "                possibleProduct = nothing\n",
    "                \n",
    "                for product in 1:length(products)\n",
    "                    if offers[o, product] == 1\n",
    "                        possible = true\n",
    "                        possibleProduct = product\n",
    "                        break\n",
    "                    end\n",
    "                end\n",
    "\n",
    "                if !possible\n",
    "                    continue\n",
    "                end\n",
    "\n",
    "                if budget >= B\n",
    "                    break\n",
    "                end\n",
    "                \n",
    "                gsol[o, possibleProduct, c] = 1\n",
    "                i += 1\n",
    "                added = true\n",
    "                budget += channels[c, 2]\n",
    "\n",
    "                revenue += channels[c, 3] * productValue[possibleProduct]\n",
    "                break\n",
    "            end\n",
    "            \n",
    "            if !added\n",
    "                # println(\"NOT FEASIBLE\")\n",
    "                break\n",
    "            end\n",
    "        end\n",
    "    end\n",
    "\n",
    "    # return the solution\n",
    "    return gsol\n",
    "end\n"
   ]
  },
  {
   "cell_type": "code",
   "execution_count": 24,
   "metadata": {},
   "outputs": [
    {
     "data": {
      "text/html": [
       "<div><div style = \"float: left;\"><span>2×12 DataFrame</span></div><div style = \"clear: both;\"></div></div><div class = \"data-frame\" style = \"overflow-x: scroll;\"><table class = \"data-frame\" style = \"margin-bottom: 6px;\"><thead><tr class = \"header\"><th class = \"rowNumber\" style = \"font-weight: bold; text-align: right;\">Row</th><th style = \"text-align: left;\">Method</th><th style = \"text-align: left;\">Model</th><th style = \"text-align: left;\">Revenue</th><th style = \"text-align: left;\">Budget</th><th style = \"text-align: left;\">Profit</th><th style = \"text-align: left;\">Customers</th><th style = \"text-align: left;\">Savings</th><th style = \"text-align: left;\">Mortgage</th><th style = \"text-align: left;\">Pension</th><th style = \"text-align: left;\">Gift</th><th style = \"text-align: left;\">Newsletter</th><th style = \"text-align: left;\">Seminar</th></tr><tr class = \"subheader headerLastRow\"><th class = \"rowNumber\" style = \"font-weight: bold; text-align: right;\"></th><th title = \"String\" style = \"text-align: left;\">String</th><th title = \"String\" style = \"text-align: left;\">String</th><th title = \"Float64\" style = \"text-align: left;\">Float64</th><th title = \"Float64\" style = \"text-align: left;\">Float64</th><th title = \"Float64\" style = \"text-align: left;\">Float64</th><th title = \"Int64\" style = \"text-align: left;\">Int64</th><th title = \"Int64\" style = \"text-align: left;\">Int64</th><th title = \"Int64\" style = \"text-align: left;\">Int64</th><th title = \"Int64\" style = \"text-align: left;\">Int64</th><th title = \"Int64\" style = \"text-align: left;\">Int64</th><th title = \"Int64\" style = \"text-align: left;\">Int64</th><th title = \"Int64\" style = \"text-align: left;\">Int64</th></tr></thead><tbody><tr><td class = \"rowNumber\" style = \"font-weight: bold; text-align: right;\">1</td><td style = \"text-align: left;\">Greedy</td><td style = \"text-align: left;\">Random Forest</td><td style = \"text-align: right;\">7920.0</td><td style = \"text-align: right;\">5365.0</td><td style = \"text-align: right;\">4320.0</td><td style = \"text-align: right;\">284</td><td style = \"text-align: right;\">193</td><td style = \"text-align: right;\">0</td><td style = \"text-align: right;\">91</td><td style = \"text-align: right;\">221</td><td style = \"text-align: right;\">63</td><td style = \"text-align: right;\">0</td></tr><tr><td class = \"rowNumber\" style = \"font-weight: bold; text-align: right;\">2</td><td style = \"text-align: left;\">Greedy</td><td style = \"text-align: left;\">Logistics Regression</td><td style = \"text-align: right;\">22660.0</td><td style = \"text-align: right;\">12818.0</td><td style = \"text-align: right;\">15026.0</td><td style = \"text-align: right;\">663</td><td style = \"text-align: right;\">206</td><td style = \"text-align: right;\">112</td><td style = \"text-align: right;\">345</td><td style = \"text-align: right;\">221</td><td style = \"text-align: right;\">221</td><td style = \"text-align: right;\">221</td></tr></tbody></table></div>"
      ],
      "text/latex": [
       "\\begin{tabular}{r|ccccccccc}\n",
       "\t& Method & Model & Revenue & Budget & Profit & Customers & Savings & Mortgage & \\\\\n",
       "\t\\hline\n",
       "\t& String & String & Float64 & Float64 & Float64 & Int64 & Int64 & Int64 & \\\\\n",
       "\t\\hline\n",
       "\t1 & Greedy & Random Forest & 7920.0 & 5365.0 & 4320.0 & 284 & 193 & 0 & $\\dots$ \\\\\n",
       "\t2 & Greedy & Logistics Regression & 22660.0 & 12818.0 & 15026.0 & 663 & 206 & 112 & $\\dots$ \\\\\n",
       "\\end{tabular}\n"
      ],
      "text/plain": [
       "\u001b[1m2×12 DataFrame\n",
       "\u001b[1m Row │\u001b[1m Method \u001b[1m Model                \u001b[1m Revenue \u001b[1m Budget  \u001b[1m Profit  \u001b[1m Customers \u001b[1m Sav ⋯\n",
       "     │\u001b[90m String \u001b[90m String               \u001b[90m Float64 \u001b[90m Float64 \u001b[90m Float64 \u001b[90m Int64     \u001b[90m Int ⋯\n",
       "─────┼──────────────────────────────────────────────────────────────────────────\n",
       "   1 │ Greedy  Random Forest          7920.0   5365.0   4320.0        284      ⋯\n",
       "   2 │ Greedy  Logistics Regression  22660.0  12818.0  15026.0        663\n",
       "\u001b[36m                                                               6 columns omitted"
      ]
     },
     "metadata": {},
     "output_type": "display_data"
    }
   ],
   "source": [
    "# Train the model using random forest as the prediction model\n",
    "Z_greedy_rf = greedy_model(\"rf\")\n",
    "revenue_greedy_rf, budget_greedy_rf, profit_greedy_rf, customers_greedy_rf, savings_greedy_rf, mortgage_greedy_rf, pension_greedy_rf, gift_greedy_rf, newsletter_greedy_rf, seminar_greedy_rf  = results_calculation(Z_greedy_rf)\n",
    "\n",
    "# Train the model using logistics regression as the prediction model\n",
    "Z_greedy_lr = greedy_model(\"lr\")\n",
    "revenue_greedy_lr, budget_greedy_lr, profit_greedy_lr, customers_greedy_lr, savings_greedy_lr, mortgage_greedy_lr, pension_greedy_lr, gift_greedy_lr, newsletter_greedy_lr, seminar_greedy_lr  = results_calculation(Z_greedy_lr)\n",
    "\n",
    "# Create a dataframe to store the results\n",
    "results_greedy = DataFrame(\n",
    "    Method = [\"Greedy\", \"Greedy\"],\n",
    "    Model = [\"Random Forest\", \"Logistics Regression\"],\n",
    "    Revenue = [revenue_greedy_rf, revenue_greedy_lr],\n",
    "    Budget = [budget_greedy_rf, budget_greedy_lr],\n",
    "    Profit = [profit_greedy_rf, profit_greedy_lr],\n",
    "    Customers = [customers_greedy_rf, customers_greedy_lr],\n",
    "    Savings = [savings_greedy_rf, savings_greedy_lr],\n",
    "    Mortgage = [mortgage_greedy_rf, mortgage_greedy_lr],\n",
    "    Pension = [pension_greedy_rf, pension_greedy_lr],\n",
    "    Gift = [gift_greedy_rf, gift_greedy_lr],\n",
    "    Newsletter = [newsletter_greedy_rf, newsletter_greedy_lr],\n",
    "    Seminar = [seminar_greedy_rf, seminar_greedy_lr]\n",
    ")"
   ]
  },
  {
   "cell_type": "markdown",
   "metadata": {},
   "source": [
    "## Sample Average Approximation"
   ]
  },
  {
   "cell_type": "code",
   "execution_count": 25,
   "metadata": {},
   "outputs": [
    {
     "data": {
      "text/plain": [
       "saa_model (generic function with 1 method)"
      ]
     },
     "metadata": {},
     "output_type": "display_data"
    }
   ],
   "source": [
    "# define model\n",
    "function saa_model(I, J, K, F, X, Y, p, s, c, B)\n",
    "    # define model\n",
    "    model = Model(Gurobi.Optimizer)\n",
    "    set_time_limit_sec(model, 30)\n",
    "\n",
    "    # define variables\n",
    "    @variable(model, Z[1:I, 1:J, 1:K], Bin)\n",
    "\n",
    "    # define the constraints\n",
    "    @constraint(model, sum(c[k] * sum(Z[i, j, k] for i in 1:I for j in 1:J) for k in 1:K) <= B)\n",
    "    # @constraint(model, [k=1:K], sum(Z[i, j, k] for i in 1:I for j in 1:J) >= 0.1 * I)\n",
    "    @constraint(model, [i=1:I, k=1:K], sum(Z[i, j, k] for j in 1:J) <= 1)\n",
    "    @constraint(model, [i=1:I, j=1:J], sum(Z[i, j, k] for k in 1:K) <= 1)\n",
    "    for i_1 in 1:I\n",
    "        for i_2 in 1:I\n",
    "            @constraint(model, [j=1:J, k=1:K], Z[i_1, j, k] == Z[i_2, j, k])\n",
    "        end\n",
    "    end\n",
    "\n",
    "    # define the objective function\n",
    "    @objective(model, Min, 1 / I * sum((c[k] - p[j] * s[k]) * Y[i, j] * Z[i, j, k] for i in 1:I for j in 1:J for k in 1:K))\n",
    "\n",
    "    # solve the model\n",
    "    optimize!(model)\n",
    "\n",
    "    # return the decision variables\n",
    "    return value.(Z)\n",
    "end"
   ]
  },
  {
   "cell_type": "code",
   "execution_count": 54,
   "metadata": {},
   "outputs": [
    {
     "data": {
      "text/html": [
       "<div><div style = \"float: left;\"><span>1×12 DataFrame</span></div><div style = \"clear: both;\"></div></div><div class = \"data-frame\" style = \"overflow-x: scroll;\"><table class = \"data-frame\" style = \"margin-bottom: 6px;\"><thead><tr class = \"header\"><th class = \"rowNumber\" style = \"font-weight: bold; text-align: right;\">Row</th><th style = \"text-align: left;\">Method</th><th style = \"text-align: left;\">Model</th><th style = \"text-align: left;\">Revenue</th><th style = \"text-align: left;\">Budget</th><th style = \"text-align: left;\">Profit</th><th style = \"text-align: left;\">Customers</th><th style = \"text-align: left;\">Savings</th><th style = \"text-align: left;\">Mortgage</th><th style = \"text-align: left;\">Pension</th><th style = \"text-align: left;\">Gift</th><th style = \"text-align: left;\">Newsletter</th><th style = \"text-align: left;\">Seminar</th></tr><tr class = \"subheader headerLastRow\"><th class = \"rowNumber\" style = \"font-weight: bold; text-align: right;\"></th><th title = \"String\" style = \"text-align: left;\">String</th><th title = \"String\" style = \"text-align: left;\">String</th><th title = \"Int64\" style = \"text-align: left;\">Int64</th><th title = \"Int64\" style = \"text-align: left;\">Int64</th><th title = \"Int64\" style = \"text-align: left;\">Int64</th><th title = \"Int64\" style = \"text-align: left;\">Int64</th><th title = \"Int64\" style = \"text-align: left;\">Int64</th><th title = \"Int64\" style = \"text-align: left;\">Int64</th><th title = \"Int64\" style = \"text-align: left;\">Int64</th><th title = \"Int64\" style = \"text-align: left;\">Int64</th><th title = \"Int64\" style = \"text-align: left;\">Int64</th><th title = \"Int64\" style = \"text-align: left;\">Int64</th></tr></thead><tbody><tr><td class = \"rowNumber\" style = \"font-weight: bold; text-align: right;\">1</td><td style = \"text-align: left;\">SAA</td><td style = \"text-align: left;\">Sample Average</td><td style = \"text-align: right;\">0</td><td style = \"text-align: right;\">0</td><td style = \"text-align: right;\">0</td><td style = \"text-align: right;\">0</td><td style = \"text-align: right;\">0</td><td style = \"text-align: right;\">0</td><td style = \"text-align: right;\">0</td><td style = \"text-align: right;\">0</td><td style = \"text-align: right;\">0</td><td style = \"text-align: right;\">0</td></tr></tbody></table></div>"
      ],
      "text/latex": [
       "\\begin{tabular}{r|cccccccccc}\n",
       "\t& Method & Model & Revenue & Budget & Profit & Customers & Savings & Mortgage & Pension & \\\\\n",
       "\t\\hline\n",
       "\t& String & String & Int64 & Int64 & Int64 & Int64 & Int64 & Int64 & Int64 & \\\\\n",
       "\t\\hline\n",
       "\t1 & SAA & Sample Average & 0 & 0 & 0 & 0 & 0 & 0 & 0 & $\\dots$ \\\\\n",
       "\\end{tabular}\n"
      ],
      "text/plain": [
       "\u001b[1m1×12 DataFrame\n",
       "\u001b[1m Row │\u001b[1m Method \u001b[1m Model          \u001b[1m Revenue \u001b[1m Budget \u001b[1m Profit \u001b[1m Customers \u001b[1m Savings \u001b[1m Mo ⋯\n",
       "     │\u001b[90m String \u001b[90m String         \u001b[90m Int64   \u001b[90m Int64  \u001b[90m Int64  \u001b[90m Int64     \u001b[90m Int64   \u001b[90m In ⋯\n",
       "─────┼──────────────────────────────────────────────────────────────────────────\n",
       "   1 │ SAA     Sample Average        0       0       0          0        0     ⋯\n",
       "\u001b[36m                                                               5 columns omitted"
      ]
     },
     "metadata": {},
     "output_type": "display_data"
    }
   ],
   "source": [
    "# # build model\n",
    "# Z_saa = saa_model(I, J, K, F, X_train, Y_train, p, s, c, B);\n",
    "# # calculate results\n",
    "# revenue_saa, budget_saa, profit_saa, customers_saa, savings_saa, mortgage_saa, pension_saa, gift_saa, newsletter_saa, seminar_saa  = results_calculation(Z_saa)\n",
    "# # create a dataframe to store the results\n",
    "# results_saa = DataFrame(\n",
    "#     Method = [\"Sample Average Approximation\"],\n",
    "#     Model = [\"Average\"],\n",
    "#     Revenue = [revenue_saa],\n",
    "#     Budget = [budget_saa],\n",
    "#     Profit = [profit_saa],\n",
    "#     Customers = [customers_saa],\n",
    "#     Savings = [savings_saa],\n",
    "#     Mortgage = [mortgage_saa],\n",
    "#     Pension = [pension_saa],\n",
    "#     Gift = [gift_saa],\n",
    "#     Newsletter = [newsletter_saa],\n",
    "#     Seminar = [seminar_saa]\n",
    "# )\n",
    "\n",
    "# SAA is infeasible, so assign 0 to all the results\n",
    "results_saa = DataFrame(\n",
    "    Method = [\"SAA\"],\n",
    "    Model = [\"Sample Average\"],\n",
    "    Revenue = [0],\n",
    "    Budget = [0],\n",
    "    Profit = [0],\n",
    "    Customers = [0],\n",
    "    Savings = [0],\n",
    "    Mortgage = [0],\n",
    "    Pension = [0],\n",
    "    Gift = [0],\n",
    "    Newsletter = [0],\n",
    "    Seminar = [0]\n",
    ")"
   ]
  },
  {
   "cell_type": "markdown",
   "metadata": {},
   "source": [
    "## Point Prediction"
   ]
  },
  {
   "cell_type": "code",
   "execution_count": 27,
   "metadata": {},
   "outputs": [
    {
     "data": {
      "text/plain": [
       "pp_model (generic function with 1 method)"
      ]
     },
     "metadata": {},
     "output_type": "display_data"
    }
   ],
   "source": [
    "# buil model for point prediction\n",
    "function pp_model(J, K, X, Y, p, s, c, B)\n",
    "    # get number of customers\n",
    "    I = size(X, 1)\n",
    "\n",
    "    # define model\n",
    "    model = Model(Gurobi.Optimizer)\n",
    "\n",
    "    # define variables\n",
    "    @variable(model, Z[1:I, 1:J, 1:K], Bin)\n",
    "\n",
    "    # define the constraints\n",
    "    @constraint(model, sum(c[k] * sum(Z[i, j, k] for i in 1:I for j in 1:J) for k in 1:K) <= B)\n",
    "    @constraint(model, [k=1:K], sum(Z[i, j, k] for i in 1:I for j in 1:J) >= 0.1 * I)\n",
    "    @constraint(model, [i=1:I, k=1:K], sum(Z[i, j, k] for j in 1:J) <= 1)\n",
    "    @constraint(model, [i=1:I, j=1:J], sum(Z[i, j, k] for k in 1:K) <= 1)\n",
    "\n",
    "    # define the objective function\n",
    "    @objective(model, Min, sum((c[k] - p[j] * s[k]) * Y[i, j] * Z[i, j, k] for i in 1:I for j in 1:J for k in 1:K))\n",
    "\n",
    "    # solve the model\n",
    "    optimize!(model)\n",
    "\n",
    "    # return the results\n",
    "    return value.(Z), objective_value(model)\n",
    "end"
   ]
  },
  {
   "cell_type": "code",
   "execution_count": 28,
   "metadata": {},
   "outputs": [
    {
     "name": "stdout",
     "output_type": "stream",
     "text": [
      "Set parameter Username\n",
      "Academic license - for non-commercial use only - expires 2024-08-17\n",
      "Gurobi Optimizer version 10.0.2 build v10.0.2rc0 (mac64[arm])\n",
      "\n",
      "CPU model: Apple M2 Pro\n",
      "Thread count: 12 physical cores, 12 logical processors, using up to 12 threads\n",
      "\n",
      "Optimize a model with 13234 rows, 19845 columns and 79380 nonzeros\n",
      "Model fingerprint: 0x7c21a224\n",
      "Variable types: 0 continuous, 19845 integer (19845 binary)\n",
      "Coefficient statistics:\n",
      "  Matrix range     [1e+00, 2e+01]\n",
      "  Objective range  [5e+00, 1e+02]\n",
      "  Bounds range     [0e+00, 0e+00]\n",
      "  RHS range        [1e+00, 2e+04]\n",
      "Found heuristic solution: objective -9265.000000\n",
      "Presolve time: 0.04s\n",
      "Presolved: 13234 rows, 19845 columns, 79380 nonzeros\n",
      "Variable types: 0 continuous, 19845 integer (19845 binary)\n",
      "Found heuristic solution: objective -15541.00000\n",
      "\n",
      "Root relaxation: objective -1.684800e+04, 235 iterations, 0.03 seconds (0.04 work units)\n",
      "\n",
      "    Nodes    |    Current Node    |     Objective Bounds      |     Work\n",
      " Expl Unexpl |  Obj  Depth IntInf | Incumbent    BestBd   Gap | It/Node Time\n",
      "\n",
      "*    0     0               0    -16848.00000 -16848.000  0.00%     -    0s\n",
      "\n",
      "Explored 1 nodes (235 simplex iterations) in 0.10 seconds (0.13 work units)\n",
      "Thread count was 12 (of 12 available processors)\n",
      "\n",
      "Solution count 3: -16848 -15541 -9265 \n",
      "No other solutions better than -16848\n",
      "\n",
      "Optimal solution found (tolerance 1.00e-04)\n",
      "Best objective -1.684800000000e+04, best bound -1.684800000000e+04, gap 0.0000%\n",
      "\n",
      "User-callback calls 157, time in user-callback 0.00 sec\n"
     ]
    },
    {
     "data": {
      "text/html": [
       "<div><div style = \"float: left;\"><span>1×12 DataFrame</span></div><div style = \"clear: both;\"></div></div><div class = \"data-frame\" style = \"overflow-x: scroll;\"><table class = \"data-frame\" style = \"margin-bottom: 6px;\"><thead><tr class = \"header\"><th class = \"rowNumber\" style = \"font-weight: bold; text-align: right;\">Row</th><th style = \"text-align: left;\">Method</th><th style = \"text-align: left;\">Model</th><th style = \"text-align: left;\">Revenue</th><th style = \"text-align: left;\">Budget</th><th style = \"text-align: left;\">Profit</th><th style = \"text-align: left;\">Customers</th><th style = \"text-align: left;\">Savings</th><th style = \"text-align: left;\">Mortgage</th><th style = \"text-align: left;\">Pension</th><th style = \"text-align: left;\">Gift</th><th style = \"text-align: left;\">Newsletter</th><th style = \"text-align: left;\">Seminar</th></tr><tr class = \"subheader headerLastRow\"><th class = \"rowNumber\" style = \"font-weight: bold; text-align: right;\"></th><th title = \"String\" style = \"text-align: left;\">String</th><th title = \"String\" style = \"text-align: left;\">String</th><th title = \"Float64\" style = \"text-align: left;\">Float64</th><th title = \"Float64\" style = \"text-align: left;\">Float64</th><th title = \"Float64\" style = \"text-align: left;\">Float64</th><th title = \"Float64\" style = \"text-align: left;\">Float64</th><th title = \"Float64\" style = \"text-align: left;\">Float64</th><th title = \"Float64\" style = \"text-align: left;\">Float64</th><th title = \"Float64\" style = \"text-align: left;\">Float64</th><th title = \"Float64\" style = \"text-align: left;\">Float64</th><th title = \"Float64\" style = \"text-align: left;\">Float64</th><th title = \"Float64\" style = \"text-align: left;\">Float64</th></tr></thead><tbody><tr><td class = \"rowNumber\" style = \"font-weight: bold; text-align: right;\">1</td><td style = \"text-align: left;\">Point Prediction</td><td style = \"text-align: left;\">Random Forest</td><td style = \"text-align: right;\">20310.0</td><td style = \"text-align: right;\">14267.0</td><td style = \"text-align: right;\">13807.0</td><td style = \"text-align: right;\">726.0</td><td style = \"text-align: right;\">297.0</td><td style = \"text-align: right;\">91.0</td><td style = \"text-align: right;\">338.0</td><td style = \"text-align: right;\">221.0</td><td style = \"text-align: right;\">221.0</td><td style = \"text-align: right;\">284.0</td></tr></tbody></table></div>"
      ],
      "text/latex": [
       "\\begin{tabular}{r|cccccccc}\n",
       "\t& Method & Model & Revenue & Budget & Profit & Customers & Savings & \\\\\n",
       "\t\\hline\n",
       "\t& String & String & Float64 & Float64 & Float64 & Float64 & Float64 & \\\\\n",
       "\t\\hline\n",
       "\t1 & Point Prediction & Random Forest & 20310.0 & 14267.0 & 13807.0 & 726.0 & 297.0 & $\\dots$ \\\\\n",
       "\\end{tabular}\n"
      ],
      "text/plain": [
       "\u001b[1m1×12 DataFrame\n",
       "\u001b[1m Row │\u001b[1m Method           \u001b[1m Model         \u001b[1m Revenue \u001b[1m Budget  \u001b[1m Profit  \u001b[1m Customers \u001b[1m  ⋯\n",
       "     │\u001b[90m String           \u001b[90m String        \u001b[90m Float64 \u001b[90m Float64 \u001b[90m Float64 \u001b[90m Float64   \u001b[90m  ⋯\n",
       "─────┼──────────────────────────────────────────────────────────────────────────\n",
       "   1 │ Point Prediction  Random Forest  20310.0  14267.0  13807.0      726.0   ⋯\n",
       "\u001b[36m                                                               6 columns omitted"
      ]
     },
     "metadata": {},
     "output_type": "display_data"
    }
   ],
   "source": [
    "# build model for random forest\n",
    "Z_pp_rf, objective_pp_rf = pp_model(J, K, X_test, Y_pred_rf, p, s, c, B);\n",
    "# calculate results\n",
    "revenue_pp_rf, budget_pp_rf, profit_pp_rf, customers_pp_rf, savings_pp_rf, mortgage_pp_rf, pension_pp_rf, gift_pp_rf, newsletter_pp_rf, seminar_pp_rf  = results_calculation(Z_pp_rf)\n",
    "# create a dataframe to store the results\n",
    "results_pp_rf = DataFrame(\n",
    "    Method = [\"Point Prediction\"],\n",
    "    Model = [\"Random Forest\"],\n",
    "    Revenue = [revenue_pp_rf],\n",
    "    Budget = [budget_pp_rf],\n",
    "    Profit = [profit_pp_rf],\n",
    "    Customers = [customers_pp_rf],\n",
    "    Savings = [savings_pp_rf],\n",
    "    Mortgage = [mortgage_pp_rf],\n",
    "    Pension = [pension_pp_rf],\n",
    "    Gift = [gift_pp_rf],\n",
    "    Newsletter = [newsletter_pp_rf],\n",
    "    Seminar = [seminar_pp_rf]\n",
    ")"
   ]
  },
  {
   "cell_type": "code",
   "execution_count": 29,
   "metadata": {},
   "outputs": [
    {
     "name": "stdout",
     "output_type": "stream",
     "text": [
      "Set parameter Username\n",
      "Academic license - for non-commercial use only - expires 2024-08-17\n",
      "Gurobi Optimizer version 10.0.2 build v10.0.2rc0 (mac64[arm])\n",
      "\n",
      "CPU model: Apple M2 Pro\n",
      "Thread count: 12 physical cores, 12 logical processors, using up to 12 threads\n",
      "\n",
      "Optimize a model with 13234 rows, 19845 columns and 79380 nonzeros\n",
      "Model fingerprint: 0x54fcd253\n",
      "Variable types: 0 continuous, 19845 integer (19845 binary)\n",
      "Coefficient statistics:\n",
      "  Matrix range     [1e+00, 2e+01]\n",
      "  Objective range  [5e+00, 1e+02]\n",
      "  Bounds range     [0e+00, 0e+00]\n",
      "  RHS range        [1e+00, 2e+04]\n",
      "Found heuristic solution: objective -29413.00000\n",
      "Presolve time: 0.04s\n",
      "Presolved: 13234 rows, 19845 columns, 79380 nonzeros\n",
      "Variable types: 0 continuous, 19845 integer (19845 binary)\n",
      "Found heuristic solution: objective -46067.00000\n",
      "\n",
      "Root relaxation: objective -6.621109e+04, 1543 iterations, 0.03 seconds (0.08 work units)\n",
      "\n",
      "    Nodes    |    Current Node    |     Objective Bounds      |     Work\n",
      " Expl Unexpl |  Obj  Depth IntInf | Incumbent    BestBd   Gap | It/Node Time\n",
      "\n",
      "     0     0 -66211.087    0    3 -46067.000 -66211.087  43.7%     -    0s\n",
      "H    0     0                    -48025.00000 -66211.087  37.9%     -    0s\n",
      "H    0     0                    -66160.00000 -66211.087  0.08%     -    0s\n",
      "H    0     0                    -66170.00000 -66211.087  0.06%     -    0s\n",
      "H    0     0                    -66200.00000 -66211.087  0.02%     -    0s\n",
      "     0     0 -66211.087    0    5 -66200.000 -66211.087  0.02%     -    0s\n",
      "     0     0     cutoff    0      -66200.000 -66200.000  0.00%     -    0s\n",
      "\n",
      "Explored 1 nodes (1548 simplex iterations) in 0.95 seconds (1.69 work units)\n",
      "Thread count was 12 (of 12 available processors)\n",
      "\n",
      "Solution count 6: -66200 -66170 -66160 ... -29413\n",
      "No other solutions better than -66200\n",
      "\n",
      "Optimal solution found (tolerance 1.00e-04)\n",
      "Best objective -6.620000000000e+04, best bound -6.620000000000e+04, gap 0.0000%\n",
      "\n",
      "User-callback calls 514, time in user-callback 0.00 sec\n"
     ]
    },
    {
     "data": {
      "text/html": [
       "<div><div style = \"float: left;\"><span>1×12 DataFrame</span></div><div style = \"clear: both;\"></div></div><div class = \"data-frame\" style = \"overflow-x: scroll;\"><table class = \"data-frame\" style = \"margin-bottom: 6px;\"><thead><tr class = \"header\"><th class = \"rowNumber\" style = \"font-weight: bold; text-align: right;\">Row</th><th style = \"text-align: left;\">Method</th><th style = \"text-align: left;\">Model</th><th style = \"text-align: left;\">Revenue</th><th style = \"text-align: left;\">Budget</th><th style = \"text-align: left;\">Profit</th><th style = \"text-align: left;\">Customers</th><th style = \"text-align: left;\">Savings</th><th style = \"text-align: left;\">Mortgage</th><th style = \"text-align: left;\">Pension</th><th style = \"text-align: left;\">Gift</th><th style = \"text-align: left;\">Newsletter</th><th style = \"text-align: left;\">Seminar</th></tr><tr class = \"subheader headerLastRow\"><th class = \"rowNumber\" style = \"font-weight: bold; text-align: right;\"></th><th title = \"String\" style = \"text-align: left;\">String</th><th title = \"String\" style = \"text-align: left;\">String</th><th title = \"Float64\" style = \"text-align: left;\">Float64</th><th title = \"Float64\" style = \"text-align: left;\">Float64</th><th title = \"Float64\" style = \"text-align: left;\">Float64</th><th title = \"Float64\" style = \"text-align: left;\">Float64</th><th title = \"Float64\" style = \"text-align: left;\">Float64</th><th title = \"Float64\" style = \"text-align: left;\">Float64</th><th title = \"Float64\" style = \"text-align: left;\">Float64</th><th title = \"Float64\" style = \"text-align: left;\">Float64</th><th title = \"Float64\" style = \"text-align: left;\">Float64</th><th title = \"Float64\" style = \"text-align: left;\">Float64</th></tr></thead><tbody><tr><td class = \"rowNumber\" style = \"font-weight: bold; text-align: right;\">1</td><td style = \"text-align: left;\">Point Prediction</td><td style = \"text-align: left;\">Logistics Regression</td><td style = \"text-align: right;\">52130.0</td><td style = \"text-align: right;\">24985.0</td><td style = \"text-align: right;\">38752.0</td><td style = \"text-align: right;\">1192.0</td><td style = \"text-align: right;\">308.0</td><td style = \"text-align: right;\">219.0</td><td style = \"text-align: right;\">665.0</td><td style = \"text-align: right;\">221.0</td><td style = \"text-align: right;\">221.0</td><td style = \"text-align: right;\">750.0</td></tr></tbody></table></div>"
      ],
      "text/latex": [
       "\\begin{tabular}{r|cccccccc}\n",
       "\t& Method & Model & Revenue & Budget & Profit & Customers & Savings & \\\\\n",
       "\t\\hline\n",
       "\t& String & String & Float64 & Float64 & Float64 & Float64 & Float64 & \\\\\n",
       "\t\\hline\n",
       "\t1 & Point Prediction & Logistics Regression & 52130.0 & 24985.0 & 38752.0 & 1192.0 & 308.0 & $\\dots$ \\\\\n",
       "\\end{tabular}\n"
      ],
      "text/plain": [
       "\u001b[1m1×12 DataFrame\n",
       "\u001b[1m Row │\u001b[1m Method           \u001b[1m Model                \u001b[1m Revenue \u001b[1m Budget  \u001b[1m Profit  \u001b[1m Cust ⋯\n",
       "     │\u001b[90m String           \u001b[90m String               \u001b[90m Float64 \u001b[90m Float64 \u001b[90m Float64 \u001b[90m Floa ⋯\n",
       "─────┼──────────────────────────────────────────────────────────────────────────\n",
       "   1 │ Point Prediction  Logistics Regression  52130.0  24985.0  38752.0     1 ⋯\n",
       "\u001b[36m                                                               7 columns omitted"
      ]
     },
     "metadata": {},
     "output_type": "display_data"
    }
   ],
   "source": [
    "# build model for logistics regression\n",
    "Z_pp_lr, objective_pp_lr = pp_model(J, K, X_test, Y_pred_lr, p, s, c, B);\n",
    "# calculate results\n",
    "revenue_pp_lr, budget_pp_lr, profit_pp_lr, customers_pp_lr, savings_pp_lr, mortgage_pp_lr, pension_pp_lr, gift_pp_lr, newsletter_pp_lr, seminar_pp_lr  = results_calculation(Z_pp_lr)\n",
    "# create a dataframe to store the results\n",
    "results_pp_lr = DataFrame(\n",
    "    Method = [\"Point Prediction\"],\n",
    "    Model = [\"Logistics Regression\"],\n",
    "    Revenue = [revenue_pp_lr],\n",
    "    Budget = [budget_pp_lr],\n",
    "    Profit = [profit_pp_lr],\n",
    "    Customers = [customers_pp_lr],\n",
    "    Savings = [savings_pp_lr],\n",
    "    Mortgage = [mortgage_pp_lr],\n",
    "    Pension = [pension_pp_lr],\n",
    "    Gift = [gift_pp_lr],\n",
    "    Newsletter = [newsletter_pp_lr],\n",
    "    Seminar = [seminar_pp_lr]\n",
    ")"
   ]
  },
  {
   "cell_type": "markdown",
   "metadata": {},
   "source": [
    "## Predictive Prescription"
   ]
  },
  {
   "cell_type": "code",
   "execution_count": 30,
   "metadata": {},
   "outputs": [
    {
     "name": "stderr",
     "output_type": "stream",
     "text": [
      "┌ Info: mkl not found, proceeding to installing non-mkl versions of sci-kit learn via Conda\n",
      "└ @ ScikitLearn.Skcore /Users/zekiyan/.julia/packages/ScikitLearn/sqLdT/src/Skcore.jl:191\n",
      "┌ Info: Running `conda install -y -c conda-forge 'scikit-learn>=1.2,<1.3'` in root environment\n",
      "└ @ Conda /Users/zekiyan/.julia/packages/Conda/sDjAP/src/Conda.jl:181\n",
      "Error while loading conda entry point: conda-libmamba-solver (dlopen(/Users/zekiyan/.julia/conda/3/aarch64/lib/python3.10/site-packages/libmambapy/bindings.cpython-310-darwin.so, 0x0002): Library not loaded: @rpath/libarchive.19.dylib\n",
      "  Referenced from: <494304CB-2F24-3FF8-B4AE-F4E6B16BDC26> /Users/zekiyan/.julia/conda/3/aarch64/lib/libmamba.2.0.0.dylib\n",
      "  Reason: tried: '/Users/zekiyan/.julia/conda/3/aarch64/lib/libarchive.19.dylib' (no such file), '/Users/zekiyan/.julia/conda/3/aarch64/lib/python3.10/site-packages/libmambapy/../../../libarchive.19.dylib' (no such file), '/Users/zekiyan/.julia/conda/3/aarch64/lib/python3.10/site-packages/libmambapy/../../../libarchive.19.dylib' (no such file), '/Users/zekiyan/.julia/conda/3/aarch64/bin/../lib/libarchive.19.dylib' (no such file), '/Users/zekiyan/.julia/conda/3/aarch64/bin/../lib/libarchive.19.dylib' (no such file), '/usr/local/lib/libarchive.19.dylib' (no such file), '/usr/lib/libarchive.19.dylib' (no such file, not in dyld cache))\n"
     ]
    },
    {
     "name": "stdout",
     "output_type": "stream",
     "text": [
      "Collecting package metadata (current_repodata.json): ...working... done\n",
      "Solving environment: ...working... done\n",
      "\n",
      "# All requested packages already installed.\n",
      "\n"
     ]
    },
    {
     "data": {
      "text/plain": [
       "PyObject <class 'sklearn.neighbors._classification.KNeighborsClassifier'>"
      ]
     },
     "metadata": {},
     "output_type": "display_data"
    }
   ],
   "source": [
    "@sk_import neighbors: KNeighborsClassifier "
   ]
  },
  {
   "cell_type": "code",
   "execution_count": 31,
   "metadata": {},
   "outputs": [],
   "source": [
    "knn_models = []\n",
    "X_train = Matrix(X_train)\n",
    "for k in 1:2:15\n",
    "    knn = KNeighborsClassifier(k)\n",
    "    ScikitLearn.fit!(knn, X_train, Y_train)\n",
    "    push!(knn_models, knn)\n",
    "end"
   ]
  },
  {
   "cell_type": "code",
   "execution_count": 32,
   "metadata": {},
   "outputs": [
    {
     "data": {
      "text/plain": [
       "knn_model (generic function with 1 method)"
      ]
     },
     "metadata": {},
     "output_type": "display_data"
    }
   ],
   "source": [
    "# create the model\n",
    "function knn_model(lnr, N, J, K, X, Y, p, s, c, B)\n",
    "    # X is the test set\n",
    "    # Y is the train set\n",
    "    # N is the number of neighbors\n",
    "\n",
    "    # get neighbors\n",
    "    Y_neighbors = lnr.kneighbors(X, return_distance=false) \n",
    "\n",
    "    # get number of customers\n",
    "    I = size(X, 1)\n",
    "\n",
    "    # define model\n",
    "    model = Model(Gurobi.Optimizer)\n",
    "\n",
    "    # define variables\n",
    "    @variable(model, Z[1:I, 1:J, 1:K], Bin)\n",
    "\n",
    "    # define the constraints\n",
    "    @constraint(model, sum(c[k] * sum(Z[i, j, k] for i in 1:I for j in 1:J) for k in 1:K) <= B)\n",
    "    @constraint(model, [k=1:K], sum(Z[i, j, k] for i in 1:I for j in 1:J) >= 0.1 * I)\n",
    "    @constraint(model, [i=1:I, k=1:K], sum(Z[i, j, k] for j in 1:J) <= 1)\n",
    "    @constraint(model, [i=1:I, j=1:J], sum(Z[i, j, k] for k in 1:K) <= 1)\n",
    "\n",
    "    # define the objective function\n",
    "    @objective(model, Min, sum((c[k] - p[j] * s[k]) * sum(Y[Y_neighbors[i, n] + 1, j] for n in 1:N) / N * Z[i, j, k] for i in 1:I for j in 1:J for k in 1:K))\n",
    "\n",
    "    # solve the model\n",
    "    optimize!(model)\n",
    "\n",
    "    # return the results\n",
    "    return value.(Z), objective_value(model)\n",
    "end"
   ]
  },
  {
   "cell_type": "code",
   "execution_count": 33,
   "metadata": {},
   "outputs": [
    {
     "name": "stdout",
     "output_type": "stream",
     "text": [
      "Set parameter Username\n",
      "Academic license - for non-commercial use only - expires 2024-08-17\n",
      "Gurobi Optimizer version 10.0.2 build v10.0.2rc0 (mac64[arm])\n",
      "\n",
      "CPU model: Apple M2 Pro\n",
      "Thread count: 12 physical cores, 12 logical processors, using up to 12 threads\n",
      "\n",
      "Optimize a model with 13234 rows, 19845 columns and 79380 nonzeros\n",
      "Model fingerprint: 0x80d9a646\n",
      "Variable types: 0 continuous, 19845 integer (19845 binary)\n",
      "Coefficient statistics:\n",
      "  Matrix range     [1e+00, 2e+01]\n",
      "  Objective range  [3e-01, 8e+01]\n",
      "  Bounds range     [0e+00, 0e+00]\n",
      "  RHS range        [1e+00, 2e+04]\n",
      "Found heuristic solution: objective -10319.00000\n",
      "Presolve time: 0.05s\n",
      "Presolved: 13234 rows, 19845 columns, 79380 nonzeros\n",
      "Variable types: 0 continuous, 19845 integer (19845 binary)\n",
      "Found heuristic solution: objective -11105.66667\n",
      "\n",
      "Root relaxation: objective -4.752531e+04, 1488 iterations, 0.04 seconds (0.10 work units)\n",
      "\n",
      "    Nodes    |    Current Node    |     Objective Bounds      |     Work\n",
      " Expl Unexpl |  Obj  Depth IntInf | Incumbent    BestBd   Gap | It/Node Time\n",
      "\n",
      "     0     0 -47525.313    0    5 -11105.667 -47525.313   328%     -    0s\n",
      "H    0     0                    -18803.13333 -47525.313   153%     -    0s\n",
      "H    0     0                    -47468.53333 -47525.313  0.12%     -    0s\n",
      "H    0     0                    -47500.40000 -47525.313  0.05%     -    0s\n",
      "     0     0     cutoff    0      -47500.400 -47500.400  0.00%     -    0s\n",
      "\n",
      "Cutting planes:\n",
      "  Gomory: 1\n",
      "\n",
      "Explored 1 nodes (1488 simplex iterations) in 0.66 seconds (0.98 work units)\n",
      "Thread count was 12 (of 12 available processors)\n",
      "\n",
      "Solution count 6: -47500.4 -47500.4 -47468.5 ... -10319\n",
      "No other solutions better than -47500.4\n",
      "\n",
      "Optimal solution found (tolerance 1.00e-04)\n",
      "Best objective -4.750040000000e+04, best bound -4.750040000000e+04, gap 0.0000%\n",
      "\n",
      "User-callback calls 332, time in user-callback 0.00 sec\n"
     ]
    },
    {
     "data": {
      "text/html": [
       "<div><div style = \"float: left;\"><span>1×12 DataFrame</span></div><div style = \"clear: both;\"></div></div><div class = \"data-frame\" style = \"overflow-x: scroll;\"><table class = \"data-frame\" style = \"margin-bottom: 6px;\"><thead><tr class = \"header\"><th class = \"rowNumber\" style = \"font-weight: bold; text-align: right;\">Row</th><th style = \"text-align: left;\">Method</th><th style = \"text-align: left;\">Model</th><th style = \"text-align: left;\">Revenue</th><th style = \"text-align: left;\">Budget</th><th style = \"text-align: left;\">Profit</th><th style = \"text-align: left;\">Customers</th><th style = \"text-align: left;\">Savings</th><th style = \"text-align: left;\">Mortgage</th><th style = \"text-align: left;\">Pension</th><th style = \"text-align: left;\">Gift</th><th style = \"text-align: left;\">Newsletter</th><th style = \"text-align: left;\">Seminar</th></tr><tr class = \"subheader headerLastRow\"><th class = \"rowNumber\" style = \"font-weight: bold; text-align: right;\"></th><th title = \"String\" style = \"text-align: left;\">String</th><th title = \"String\" style = \"text-align: left;\">String</th><th title = \"Float64\" style = \"text-align: left;\">Float64</th><th title = \"Float64\" style = \"text-align: left;\">Float64</th><th title = \"Float64\" style = \"text-align: left;\">Float64</th><th title = \"Float64\" style = \"text-align: left;\">Float64</th><th title = \"Float64\" style = \"text-align: left;\">Float64</th><th title = \"Float64\" style = \"text-align: left;\">Float64</th><th title = \"Float64\" style = \"text-align: left;\">Float64</th><th title = \"Float64\" style = \"text-align: left;\">Float64</th><th title = \"Float64\" style = \"text-align: left;\">Float64</th><th title = \"Float64\" style = \"text-align: left;\">Float64</th></tr></thead><tbody><tr><td class = \"rowNumber\" style = \"font-weight: bold; text-align: right;\">1</td><td style = \"text-align: left;\">Prescriptive</td><td style = \"text-align: left;\">KNN</td><td style = \"text-align: right;\">53180.0</td><td style = \"text-align: right;\">25000.0</td><td style = \"text-align: right;\">41435.0</td><td style = \"text-align: right;\">1193.0</td><td style = \"text-align: right;\">0.0</td><td style = \"text-align: right;\">60.0</td><td style = \"text-align: right;\">1133.0</td><td style = \"text-align: right;\">221.0</td><td style = \"text-align: right;\">222.0</td><td style = \"text-align: right;\">750.0</td></tr></tbody></table></div>"
      ],
      "text/latex": [
       "\\begin{tabular}{r|cccccccccc}\n",
       "\t& Method & Model & Revenue & Budget & Profit & Customers & Savings & Mortgage & Pension & \\\\\n",
       "\t\\hline\n",
       "\t& String & String & Float64 & Float64 & Float64 & Float64 & Float64 & Float64 & Float64 & \\\\\n",
       "\t\\hline\n",
       "\t1 & Prescriptive & KNN & 53180.0 & 25000.0 & 41435.0 & 1193.0 & 0.0 & 60.0 & 1133.0 & $\\dots$ \\\\\n",
       "\\end{tabular}\n"
      ],
      "text/plain": [
       "\u001b[1m1×12 DataFrame\n",
       "\u001b[1m Row │\u001b[1m Method       \u001b[1m Model  \u001b[1m Revenue \u001b[1m Budget  \u001b[1m Profit  \u001b[1m Customers \u001b[1m Savings \u001b[1m Mo ⋯\n",
       "     │\u001b[90m String       \u001b[90m String \u001b[90m Float64 \u001b[90m Float64 \u001b[90m Float64 \u001b[90m Float64   \u001b[90m Float64 \u001b[90m Fl ⋯\n",
       "─────┼──────────────────────────────────────────────────────────────────────────\n",
       "   1 │ Prescriptive  KNN     53180.0  25000.0  41435.0     1193.0      0.0     ⋯\n",
       "\u001b[36m                                                               5 columns omitted"
      ]
     },
     "metadata": {},
     "output_type": "display_data"
    }
   ],
   "source": [
    "# build model\n",
    "Z_pres_knn, objective_pres_knn = knn_model(knn_models[8], 15, J, K, X_test, Y_train, p, s, c, B);\n",
    "# calculate results\n",
    "revenue_pres_knn, budget_pres_knn, profit_pres_knn, customers_pres_knn, savings_pres_knn, mortgage_pres_knn, pension_pres_knn, gift_pres_knn, newsletter_pres_knn, seminar_pres_knn  = results_calculation(Z_pres_knn)\n",
    "# create a dataframe to store the results\n",
    "results_pres_knn = DataFrame(\n",
    "    Method = [\"Prescriptive\"],\n",
    "    Model = [\"KNN\"],\n",
    "    Revenue = [revenue_pres_knn],\n",
    "    Budget = [budget_pres_knn],\n",
    "    Profit = [profit_pres_knn],\n",
    "    Customers = [customers_pres_knn],\n",
    "    Savings = [savings_pres_knn],\n",
    "    Mortgage = [mortgage_pres_knn],\n",
    "    Pension = [pension_pres_knn],\n",
    "    Gift = [gift_pres_knn],\n",
    "    Newsletter = [newsletter_pres_knn],\n",
    "    Seminar = [seminar_pres_knn]\n",
    ")"
   ]
  },
  {
   "cell_type": "markdown",
   "metadata": {},
   "source": [
    "## Kernel Methods"
   ]
  },
  {
   "cell_type": "code",
   "execution_count": 49,
   "metadata": {},
   "outputs": [
    {
     "data": {
      "text/plain": [
       "kernel (generic function with 1 method)"
      ]
     },
     "metadata": {},
     "output_type": "display_data"
    }
   ],
   "source": [
    "function kernel(x_data, x_new, bandwidth)\n",
    "    x = (x_data - x_new) / bandwidth \n",
    "    return Int(sqrt(x' * x) <= 1)\n",
    "end"
   ]
  },
  {
   "cell_type": "code",
   "execution_count": 50,
   "metadata": {},
   "outputs": [
    {
     "data": {
      "text/plain": [
       "3-element Vector{Float64}:\n",
       " 0.11972437553832903\n",
       " 0.3970714900947459\n",
       " 0.4160206718346253"
      ]
     },
     "metadata": {},
     "output_type": "display_data"
    }
   ],
   "source": [
    "# Set hyperparameter\n",
    "h_N = 4\n",
    "\n",
    "# test result\n",
    "x = [1, 2, 3]\n",
    "Int(sqrt(x' * x) <= 1)\n",
    "X_to_test = X_test[1, :]\n",
    "sum(Y_train[i, :] * kernel(X_train[i,:], X_to_test, h_N) for i in 1:size(X_train, 1)) / sum(kernel(X_train[i,:], X_to_test, h_N) for i in 1:size(X_train, 1))"
   ]
  },
  {
   "cell_type": "code",
   "execution_count": 51,
   "metadata": {},
   "outputs": [
    {
     "data": {
      "text/plain": [
       "kernel_methods_model (generic function with 1 method)"
      ]
     },
     "metadata": {},
     "output_type": "display_data"
    }
   ],
   "source": [
    "# create the model\n",
    "function kernel_methods_model(J, K, X, Y, p, s, c, B, X_train)\n",
    "    # X is the test set\n",
    "    # Y is the train set\n",
    "    # N is the number of neighbors\n",
    "\n",
    "    # get number of customers\n",
    "    I = size(X, 1)\n",
    "\n",
    "    # define model\n",
    "    model = Model(Gurobi.Optimizer)\n",
    "\n",
    "    # set time limit\n",
    "    set_time_limit_sec(model, 30)\n",
    "\n",
    "    # define variables\n",
    "    @variable(model, Z[1:I, 1:J, 1:K], Bin)\n",
    "\n",
    "    # define the constraints\n",
    "    @constraint(model, sum(c[k] * sum(Z[i, j, k] for i in 1:I for j in 1:J) for k in 1:K) <= B)\n",
    "    @constraint(model, [k=1:K], sum(Z[i, j, k] for i in 1:I for j in 1:J) >= 0.1 * I)\n",
    "    @constraint(model, [i=1:I, k=1:K], sum(Z[i, j, k] for j in 1:J) <= 1)\n",
    "    @constraint(model, [i=1:I, j=1:J], sum(Z[i, j, k] for k in 1:K) <= 1)\n",
    "\n",
    "    # define the objective function\n",
    "    @objective(model, Min, sum((c[k] - p[j] * s[k]) * sum(sum(Y[g, :] * kernel(X_train[g,:], X[i, :], h_N) for g in 1:size(X_train, 1)) / sum(kernel(X_train[g,:], X[i, :], h_N) for g in 1:size(X_train, 1)) for i in 1:I) * Z[i, j, k] for i in 1:I for j in 1:J for k in 1:K))\n",
    "\n",
    "    # solve the model\n",
    "    optimize!(model)\n",
    "\n",
    "    # return the results\n",
    "    return value.(Z), objective_value(model)\n",
    "end"
   ]
  },
  {
   "cell_type": "code",
   "execution_count": 39,
   "metadata": {},
   "outputs": [],
   "source": [
    "# Z_km, objective_km = kernel_methods_model(J, K, X_test, Y_train, p, s, c, B, X_train)"
   ]
  },
  {
   "cell_type": "markdown",
   "metadata": {},
   "source": [
    "# Final Score Comparison"
   ]
  },
  {
   "cell_type": "code",
   "execution_count": 55,
   "metadata": {},
   "outputs": [
    {
     "data": {
      "text/html": [
       "<div><div style = \"float: left;\"><span>6×12 DataFrame</span></div><div style = \"clear: both;\"></div></div><div class = \"data-frame\" style = \"overflow-x: scroll;\"><table class = \"data-frame\" style = \"margin-bottom: 6px;\"><thead><tr class = \"header\"><th class = \"rowNumber\" style = \"font-weight: bold; text-align: right;\">Row</th><th style = \"text-align: left;\">Method</th><th style = \"text-align: left;\">Model</th><th style = \"text-align: left;\">Revenue</th><th style = \"text-align: left;\">Budget</th><th style = \"text-align: left;\">Profit</th><th style = \"text-align: left;\">Customers</th><th style = \"text-align: left;\">Savings</th><th style = \"text-align: left;\">Mortgage</th><th style = \"text-align: left;\">Pension</th><th style = \"text-align: left;\">Gift</th><th style = \"text-align: left;\">Newsletter</th><th style = \"text-align: left;\">Seminar</th></tr><tr class = \"subheader headerLastRow\"><th class = \"rowNumber\" style = \"font-weight: bold; text-align: right;\"></th><th title = \"String\" style = \"text-align: left;\">String</th><th title = \"String\" style = \"text-align: left;\">String</th><th title = \"Float64\" style = \"text-align: left;\">Float64</th><th title = \"Float64\" style = \"text-align: left;\">Float64</th><th title = \"Float64\" style = \"text-align: left;\">Float64</th><th title = \"Float64\" style = \"text-align: left;\">Float64</th><th title = \"Float64\" style = \"text-align: left;\">Float64</th><th title = \"Float64\" style = \"text-align: left;\">Float64</th><th title = \"Float64\" style = \"text-align: left;\">Float64</th><th title = \"Float64\" style = \"text-align: left;\">Float64</th><th title = \"Float64\" style = \"text-align: left;\">Float64</th><th title = \"Float64\" style = \"text-align: left;\">Float64</th></tr></thead><tbody><tr><td class = \"rowNumber\" style = \"font-weight: bold; text-align: right;\">1</td><td style = \"text-align: left;\">Greedy</td><td style = \"text-align: left;\">Random Forest</td><td style = \"text-align: right;\">7920.0</td><td style = \"text-align: right;\">5365.0</td><td style = \"text-align: right;\">4320.0</td><td style = \"text-align: right;\">284.0</td><td style = \"text-align: right;\">193.0</td><td style = \"text-align: right;\">0.0</td><td style = \"text-align: right;\">91.0</td><td style = \"text-align: right;\">221.0</td><td style = \"text-align: right;\">63.0</td><td style = \"text-align: right;\">0.0</td></tr><tr><td class = \"rowNumber\" style = \"font-weight: bold; text-align: right;\">2</td><td style = \"text-align: left;\">Greedy</td><td style = \"text-align: left;\">Logistics Regression</td><td style = \"text-align: right;\">22660.0</td><td style = \"text-align: right;\">12818.0</td><td style = \"text-align: right;\">15026.0</td><td style = \"text-align: right;\">663.0</td><td style = \"text-align: right;\">206.0</td><td style = \"text-align: right;\">112.0</td><td style = \"text-align: right;\">345.0</td><td style = \"text-align: right;\">221.0</td><td style = \"text-align: right;\">221.0</td><td style = \"text-align: right;\">221.0</td></tr><tr><td class = \"rowNumber\" style = \"font-weight: bold; text-align: right;\">3</td><td style = \"text-align: left;\">SAA</td><td style = \"text-align: left;\">Sample Average</td><td style = \"text-align: right;\">0.0</td><td style = \"text-align: right;\">0.0</td><td style = \"text-align: right;\">0.0</td><td style = \"text-align: right;\">0.0</td><td style = \"text-align: right;\">0.0</td><td style = \"text-align: right;\">0.0</td><td style = \"text-align: right;\">0.0</td><td style = \"text-align: right;\">0.0</td><td style = \"text-align: right;\">0.0</td><td style = \"text-align: right;\">0.0</td></tr><tr><td class = \"rowNumber\" style = \"font-weight: bold; text-align: right;\">4</td><td style = \"text-align: left;\">Point Prediction</td><td style = \"text-align: left;\">Random Forest</td><td style = \"text-align: right;\">20310.0</td><td style = \"text-align: right;\">14267.0</td><td style = \"text-align: right;\">13807.0</td><td style = \"text-align: right;\">726.0</td><td style = \"text-align: right;\">297.0</td><td style = \"text-align: right;\">91.0</td><td style = \"text-align: right;\">338.0</td><td style = \"text-align: right;\">221.0</td><td style = \"text-align: right;\">221.0</td><td style = \"text-align: right;\">284.0</td></tr><tr><td class = \"rowNumber\" style = \"font-weight: bold; text-align: right;\">5</td><td style = \"text-align: left;\">Point Prediction</td><td style = \"text-align: left;\">Logistics Regression</td><td style = \"text-align: right;\">52130.0</td><td style = \"text-align: right;\">24985.0</td><td style = \"text-align: right;\">38752.0</td><td style = \"text-align: right;\">1192.0</td><td style = \"text-align: right;\">308.0</td><td style = \"text-align: right;\">219.0</td><td style = \"text-align: right;\">665.0</td><td style = \"text-align: right;\">221.0</td><td style = \"text-align: right;\">221.0</td><td style = \"text-align: right;\">750.0</td></tr><tr><td class = \"rowNumber\" style = \"font-weight: bold; text-align: right;\">6</td><td style = \"text-align: left;\">Prescriptive</td><td style = \"text-align: left;\">KNN</td><td style = \"text-align: right;\">53180.0</td><td style = \"text-align: right;\">25000.0</td><td style = \"text-align: right;\">41435.0</td><td style = \"text-align: right;\">1193.0</td><td style = \"text-align: right;\">0.0</td><td style = \"text-align: right;\">60.0</td><td style = \"text-align: right;\">1133.0</td><td style = \"text-align: right;\">221.0</td><td style = \"text-align: right;\">222.0</td><td style = \"text-align: right;\">750.0</td></tr></tbody></table></div>"
      ],
      "text/latex": [
       "\\begin{tabular}{r|cccccccc}\n",
       "\t& Method & Model & Revenue & Budget & Profit & Customers & Savings & \\\\\n",
       "\t\\hline\n",
       "\t& String & String & Float64 & Float64 & Float64 & Float64 & Float64 & \\\\\n",
       "\t\\hline\n",
       "\t1 & Greedy & Random Forest & 7920.0 & 5365.0 & 4320.0 & 284.0 & 193.0 & $\\dots$ \\\\\n",
       "\t2 & Greedy & Logistics Regression & 22660.0 & 12818.0 & 15026.0 & 663.0 & 206.0 & $\\dots$ \\\\\n",
       "\t3 & SAA & Sample Average & 0.0 & 0.0 & 0.0 & 0.0 & 0.0 & $\\dots$ \\\\\n",
       "\t4 & Point Prediction & Random Forest & 20310.0 & 14267.0 & 13807.0 & 726.0 & 297.0 & $\\dots$ \\\\\n",
       "\t5 & Point Prediction & Logistics Regression & 52130.0 & 24985.0 & 38752.0 & 1192.0 & 308.0 & $\\dots$ \\\\\n",
       "\t6 & Prescriptive & KNN & 53180.0 & 25000.0 & 41435.0 & 1193.0 & 0.0 & $\\dots$ \\\\\n",
       "\\end{tabular}\n"
      ],
      "text/plain": [
       "\u001b[1m6×12 DataFrame\n",
       "\u001b[1m Row │\u001b[1m Method           \u001b[1m Model                \u001b[1m Revenue \u001b[1m Budget  \u001b[1m Profit  \u001b[1m Cust ⋯\n",
       "     │\u001b[90m String           \u001b[90m String               \u001b[90m Float64 \u001b[90m Float64 \u001b[90m Float64 \u001b[90m Floa ⋯\n",
       "─────┼──────────────────────────────────────────────────────────────────────────\n",
       "   1 │ Greedy            Random Forest          7920.0   5365.0   4320.0       ⋯\n",
       "   2 │ Greedy            Logistics Regression  22660.0  12818.0  15026.0\n",
       "   3 │ SAA               Sample Average            0.0      0.0      0.0\n",
       "   4 │ Point Prediction  Random Forest         20310.0  14267.0  13807.0\n",
       "   5 │ Point Prediction  Logistics Regression  52130.0  24985.0  38752.0     1 ⋯\n",
       "   6 │ Prescriptive      KNN                   53180.0  25000.0  41435.0     1\n",
       "\u001b[36m                                                               7 columns omitted"
      ]
     },
     "metadata": {},
     "output_type": "display_data"
    }
   ],
   "source": [
    "# combine all the results\n",
    "results = vcat(results_greedy, results_saa, results_pp_rf, results_pp_lr, results_pres_knn)"
   ]
  },
  {
   "cell_type": "code",
   "execution_count": 41,
   "metadata": {},
   "outputs": [],
   "source": []
  }
 ],
 "metadata": {
  "kernelspec": {
   "display_name": "Julia 1.9.2",
   "language": "julia",
   "name": "julia-1.9"
  },
  "language_info": {
   "file_extension": ".jl",
   "mimetype": "application/julia",
   "name": "julia",
   "version": "1.9.3"
  }
 },
 "nbformat": 4,
 "nbformat_minor": 4
}
