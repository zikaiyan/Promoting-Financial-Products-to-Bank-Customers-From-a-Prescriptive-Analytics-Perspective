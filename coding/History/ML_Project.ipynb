{
 "cells": [
  {
   "cell_type": "markdown",
   "metadata": {},
   "source": []
  },
  {
   "cell_type": "code",
   "execution_count": 17,
   "metadata": {},
   "outputs": [],
   "source": [
    "using CSV, DataFrames, Random, Gurobi, JuMP, Statistics, ScikitLearn, MLDataUtils, MLJ"
   ]
  },
  {
   "cell_type": "code",
   "execution_count": 18,
   "metadata": {},
   "outputs": [
    {
     "data": {
      "text/html": [
       "<div><div style = \"float: left;\"><span>11023×23 DataFrame</span></div><div style = \"float: right;\"><span style = \"font-style: italic;\">10998 rows omitted</span></div><div style = \"clear: both;\"></div></div><div class = \"data-frame\" style = \"overflow-x: scroll;\"><table class = \"data-frame\" style = \"margin-bottom: 6px;\"><thead><tr class = \"header\"><th class = \"rowNumber\" style = \"font-weight: bold; text-align: right;\">Row</th><th style = \"text-align: left;\">customer_id</th><th style = \"text-align: left;\">age</th><th style = \"text-align: left;\">age_youngest_child</th><th style = \"text-align: left;\">debt_equity</th><th style = \"text-align: left;\">gender</th><th style = \"text-align: left;\">bad_payment</th><th style = \"text-align: left;\">gold_card</th><th style = \"text-align: left;\">pension_plan</th><th style = \"text-align: left;\">household_debt_to_equity_ratio</th><th style = \"text-align: left;\">income</th><th style = \"text-align: left;\">members_in_household</th><th style = \"text-align: left;\">months_current_account</th><th style = \"text-align: left;\">months_customer</th><th style = \"text-align: left;\">call_center_contacts</th><th style = \"text-align: left;\">loan_accounts</th><th style = \"text-align: left;\">number_products</th><th style = \"text-align: left;\">number_transactions</th><th style = \"text-align: left;\">non_worker_percentage</th><th style = \"text-align: left;\">white_collar_percentage</th><th style = \"text-align: left;\">rfm_score</th><th style = \"text-align: left;\">Mortgage</th><th style = \"text-align: left;\">Pension</th><th style = \"text-align: left;\">Savings</th></tr><tr class = \"subheader headerLastRow\"><th class = \"rowNumber\" style = \"font-weight: bold; text-align: right;\"></th><th title = \"Int64\" style = \"text-align: left;\">Int64</th><th title = \"Int64\" style = \"text-align: left;\">Int64</th><th title = \"Int64\" style = \"text-align: left;\">Int64</th><th title = \"Int64\" style = \"text-align: left;\">Int64</th><th title = \"Int64\" style = \"text-align: left;\">Int64</th><th title = \"Int64\" style = \"text-align: left;\">Int64</th><th title = \"Int64\" style = \"text-align: left;\">Int64</th><th title = \"Int64\" style = \"text-align: left;\">Int64</th><th title = \"Int64\" style = \"text-align: left;\">Int64</th><th title = \"Int64\" style = \"text-align: left;\">Int64</th><th title = \"Int64\" style = \"text-align: left;\">Int64</th><th title = \"Int64\" style = \"text-align: left;\">Int64</th><th title = \"Int64\" style = \"text-align: left;\">Int64</th><th title = \"Int64\" style = \"text-align: left;\">Int64</th><th title = \"Int64\" style = \"text-align: left;\">Int64</th><th title = \"Int64\" style = \"text-align: left;\">Int64</th><th title = \"Int64\" style = \"text-align: left;\">Int64</th><th title = \"Int64\" style = \"text-align: left;\">Int64</th><th title = \"Int64\" style = \"text-align: left;\">Int64</th><th title = \"Float64\" style = \"text-align: left;\">Float64</th><th title = \"Int64\" style = \"text-align: left;\">Int64</th><th title = \"Int64\" style = \"text-align: left;\">Int64</th><th title = \"Int64\" style = \"text-align: left;\">Int64</th></tr></thead><tbody><tr><td class = \"rowNumber\" style = \"font-weight: bold; text-align: right;\">1</td><td style = \"text-align: right;\">15</td><td style = \"text-align: right;\">45</td><td style = \"text-align: right;\">12</td><td style = \"text-align: right;\">45</td><td style = \"text-align: right;\">0</td><td style = \"text-align: right;\">0</td><td style = \"text-align: right;\">0</td><td style = \"text-align: right;\">0</td><td style = \"text-align: right;\">65</td><td style = \"text-align: right;\">13453</td><td style = \"text-align: right;\">2</td><td style = \"text-align: right;\">33</td><td style = \"text-align: right;\">36</td><td style = \"text-align: right;\">0</td><td style = \"text-align: right;\">4</td><td style = \"text-align: right;\">2</td><td style = \"text-align: right;\">1</td><td style = \"text-align: right;\">14</td><td style = \"text-align: right;\">19</td><td style = \"text-align: right;\">7.602</td><td style = \"text-align: right;\">0</td><td style = \"text-align: right;\">0</td><td style = \"text-align: right;\">0</td></tr><tr><td class = \"rowNumber\" style = \"font-weight: bold; text-align: right;\">2</td><td style = \"text-align: right;\">16</td><td style = \"text-align: right;\">43</td><td style = \"text-align: right;\">12</td><td style = \"text-align: right;\">43</td><td style = \"text-align: right;\">0</td><td style = \"text-align: right;\">0</td><td style = \"text-align: right;\">0</td><td style = \"text-align: right;\">0</td><td style = \"text-align: right;\">65</td><td style = \"text-align: right;\">13453</td><td style = \"text-align: right;\">2</td><td style = \"text-align: right;\">34</td><td style = \"text-align: right;\">36</td><td style = \"text-align: right;\">0</td><td style = \"text-align: right;\">0</td><td style = \"text-align: right;\">3</td><td style = \"text-align: right;\">2</td><td style = \"text-align: right;\">14</td><td style = \"text-align: right;\">19</td><td style = \"text-align: right;\">10.143</td><td style = \"text-align: right;\">0</td><td style = \"text-align: right;\">0</td><td style = \"text-align: right;\">0</td></tr><tr><td class = \"rowNumber\" style = \"font-weight: bold; text-align: right;\">3</td><td style = \"text-align: right;\">30</td><td style = \"text-align: right;\">23</td><td style = \"text-align: right;\">0</td><td style = \"text-align: right;\">23</td><td style = \"text-align: right;\">0</td><td style = \"text-align: right;\">0</td><td style = \"text-align: right;\">0</td><td style = \"text-align: right;\">0</td><td style = \"text-align: right;\">65</td><td style = \"text-align: right;\">13453</td><td style = \"text-align: right;\">2</td><td style = \"text-align: right;\">30</td><td style = \"text-align: right;\">36</td><td style = \"text-align: right;\">0</td><td style = \"text-align: right;\">1</td><td style = \"text-align: right;\">0</td><td style = \"text-align: right;\">0</td><td style = \"text-align: right;\">14</td><td style = \"text-align: right;\">19</td><td style = \"text-align: right;\">0.0</td><td style = \"text-align: right;\">0</td><td style = \"text-align: right;\">0</td><td style = \"text-align: right;\">0</td></tr><tr><td class = \"rowNumber\" style = \"font-weight: bold; text-align: right;\">4</td><td style = \"text-align: right;\">42</td><td style = \"text-align: right;\">35</td><td style = \"text-align: right;\">8</td><td style = \"text-align: right;\">35</td><td style = \"text-align: right;\">1</td><td style = \"text-align: right;\">0</td><td style = \"text-align: right;\">0</td><td style = \"text-align: right;\">0</td><td style = \"text-align: right;\">65</td><td style = \"text-align: right;\">13453</td><td style = \"text-align: right;\">2</td><td style = \"text-align: right;\">22</td><td style = \"text-align: right;\">24</td><td style = \"text-align: right;\">0</td><td style = \"text-align: right;\">1</td><td style = \"text-align: right;\">0</td><td style = \"text-align: right;\">0</td><td style = \"text-align: right;\">14</td><td style = \"text-align: right;\">19</td><td style = \"text-align: right;\">0.0</td><td style = \"text-align: right;\">0</td><td style = \"text-align: right;\">1</td><td style = \"text-align: right;\">0</td></tr><tr><td class = \"rowNumber\" style = \"font-weight: bold; text-align: right;\">5</td><td style = \"text-align: right;\">52</td><td style = \"text-align: right;\">43</td><td style = \"text-align: right;\">12</td><td style = \"text-align: right;\">43</td><td style = \"text-align: right;\">1</td><td style = \"text-align: right;\">0</td><td style = \"text-align: right;\">0</td><td style = \"text-align: right;\">0</td><td style = \"text-align: right;\">47</td><td style = \"text-align: right;\">14124</td><td style = \"text-align: right;\">3</td><td style = \"text-align: right;\">40</td><td style = \"text-align: right;\">48</td><td style = \"text-align: right;\">3</td><td style = \"text-align: right;\">1</td><td style = \"text-align: right;\">0</td><td style = \"text-align: right;\">0</td><td style = \"text-align: right;\">16</td><td style = \"text-align: right;\">35</td><td style = \"text-align: right;\">0.0</td><td style = \"text-align: right;\">0</td><td style = \"text-align: right;\">1</td><td style = \"text-align: right;\">0</td></tr><tr><td class = \"rowNumber\" style = \"font-weight: bold; text-align: right;\">6</td><td style = \"text-align: right;\">57</td><td style = \"text-align: right;\">51</td><td style = \"text-align: right;\">19</td><td style = \"text-align: right;\">51</td><td style = \"text-align: right;\">1</td><td style = \"text-align: right;\">0</td><td style = \"text-align: right;\">0</td><td style = \"text-align: right;\">0</td><td style = \"text-align: right;\">50</td><td style = \"text-align: right;\">14838</td><td style = \"text-align: right;\">2</td><td style = \"text-align: right;\">33</td><td style = \"text-align: right;\">36</td><td style = \"text-align: right;\">3</td><td style = \"text-align: right;\">0</td><td style = \"text-align: right;\">0</td><td style = \"text-align: right;\">0</td><td style = \"text-align: right;\">9</td><td style = \"text-align: right;\">39</td><td style = \"text-align: right;\">0.0</td><td style = \"text-align: right;\">0</td><td style = \"text-align: right;\">0</td><td style = \"text-align: right;\">0</td></tr><tr><td class = \"rowNumber\" style = \"font-weight: bold; text-align: right;\">7</td><td style = \"text-align: right;\">74</td><td style = \"text-align: right;\">31</td><td style = \"text-align: right;\">0</td><td style = \"text-align: right;\">31</td><td style = \"text-align: right;\">1</td><td style = \"text-align: right;\">0</td><td style = \"text-align: right;\">0</td><td style = \"text-align: right;\">0</td><td style = \"text-align: right;\">50</td><td style = \"text-align: right;\">14838</td><td style = \"text-align: right;\">3</td><td style = \"text-align: right;\">0</td><td style = \"text-align: right;\">12</td><td style = \"text-align: right;\">3</td><td style = \"text-align: right;\">3</td><td style = \"text-align: right;\">0</td><td style = \"text-align: right;\">0</td><td style = \"text-align: right;\">9</td><td style = \"text-align: right;\">39</td><td style = \"text-align: right;\">0.0</td><td style = \"text-align: right;\">1</td><td style = \"text-align: right;\">0</td><td style = \"text-align: right;\">0</td></tr><tr><td class = \"rowNumber\" style = \"font-weight: bold; text-align: right;\">8</td><td style = \"text-align: right;\">74</td><td style = \"text-align: right;\">31</td><td style = \"text-align: right;\">0</td><td style = \"text-align: right;\">31</td><td style = \"text-align: right;\">1</td><td style = \"text-align: right;\">0</td><td style = \"text-align: right;\">0</td><td style = \"text-align: right;\">0</td><td style = \"text-align: right;\">50</td><td style = \"text-align: right;\">14838</td><td style = \"text-align: right;\">3</td><td style = \"text-align: right;\">0</td><td style = \"text-align: right;\">12</td><td style = \"text-align: right;\">3</td><td style = \"text-align: right;\">3</td><td style = \"text-align: right;\">0</td><td style = \"text-align: right;\">0</td><td style = \"text-align: right;\">9</td><td style = \"text-align: right;\">39</td><td style = \"text-align: right;\">0.0</td><td style = \"text-align: right;\">1</td><td style = \"text-align: right;\">0</td><td style = \"text-align: right;\">0</td></tr><tr><td class = \"rowNumber\" style = \"font-weight: bold; text-align: right;\">9</td><td style = \"text-align: right;\">89</td><td style = \"text-align: right;\">46</td><td style = \"text-align: right;\">11</td><td style = \"text-align: right;\">46</td><td style = \"text-align: right;\">1</td><td style = \"text-align: right;\">0</td><td style = \"text-align: right;\">0</td><td style = \"text-align: right;\">0</td><td style = \"text-align: right;\">32</td><td style = \"text-align: right;\">14783</td><td style = \"text-align: right;\">2</td><td style = \"text-align: right;\">6</td><td style = \"text-align: right;\">12</td><td style = \"text-align: right;\">6</td><td style = \"text-align: right;\">3</td><td style = \"text-align: right;\">2</td><td style = \"text-align: right;\">1</td><td style = \"text-align: right;\">25</td><td style = \"text-align: right;\">42</td><td style = \"text-align: right;\">7.799</td><td style = \"text-align: right;\">0</td><td style = \"text-align: right;\">1</td><td style = \"text-align: right;\">0</td></tr><tr><td class = \"rowNumber\" style = \"font-weight: bold; text-align: right;\">10</td><td style = \"text-align: right;\">90</td><td style = \"text-align: right;\">70</td><td style = \"text-align: right;\">38</td><td style = \"text-align: right;\">70</td><td style = \"text-align: right;\">0</td><td style = \"text-align: right;\">0</td><td style = \"text-align: right;\">0</td><td style = \"text-align: right;\">0</td><td style = \"text-align: right;\">32</td><td style = \"text-align: right;\">14783</td><td style = \"text-align: right;\">1</td><td style = \"text-align: right;\">35</td><td style = \"text-align: right;\">36</td><td style = \"text-align: right;\">6</td><td style = \"text-align: right;\">2</td><td style = \"text-align: right;\">2</td><td style = \"text-align: right;\">2</td><td style = \"text-align: right;\">25</td><td style = \"text-align: right;\">42</td><td style = \"text-align: right;\">11.803</td><td style = \"text-align: right;\">0</td><td style = \"text-align: right;\">0</td><td style = \"text-align: right;\">0</td></tr><tr><td class = \"rowNumber\" style = \"font-weight: bold; text-align: right;\">11</td><td style = \"text-align: right;\">95</td><td style = \"text-align: right;\">39</td><td style = \"text-align: right;\">11</td><td style = \"text-align: right;\">39</td><td style = \"text-align: right;\">1</td><td style = \"text-align: right;\">0</td><td style = \"text-align: right;\">0</td><td style = \"text-align: right;\">0</td><td style = \"text-align: right;\">32</td><td style = \"text-align: right;\">14783</td><td style = \"text-align: right;\">2</td><td style = \"text-align: right;\">16</td><td style = \"text-align: right;\">24</td><td style = \"text-align: right;\">6</td><td style = \"text-align: right;\">2</td><td style = \"text-align: right;\">4</td><td style = \"text-align: right;\">3</td><td style = \"text-align: right;\">25</td><td style = \"text-align: right;\">42</td><td style = \"text-align: right;\">12.407</td><td style = \"text-align: right;\">0</td><td style = \"text-align: right;\">0</td><td style = \"text-align: right;\">0</td></tr><tr><td class = \"rowNumber\" style = \"font-weight: bold; text-align: right;\">12</td><td style = \"text-align: right;\">105</td><td style = \"text-align: right;\">31</td><td style = \"text-align: right;\">0</td><td style = \"text-align: right;\">31</td><td style = \"text-align: right;\">0</td><td style = \"text-align: right;\">0</td><td style = \"text-align: right;\">0</td><td style = \"text-align: right;\">0</td><td style = \"text-align: right;\">32</td><td style = \"text-align: right;\">14783</td><td style = \"text-align: right;\">2</td><td style = \"text-align: right;\">17</td><td style = \"text-align: right;\">24</td><td style = \"text-align: right;\">6</td><td style = \"text-align: right;\">0</td><td style = \"text-align: right;\">0</td><td style = \"text-align: right;\">0</td><td style = \"text-align: right;\">25</td><td style = \"text-align: right;\">42</td><td style = \"text-align: right;\">0.0</td><td style = \"text-align: right;\">0</td><td style = \"text-align: right;\">0</td><td style = \"text-align: right;\">0</td></tr><tr><td class = \"rowNumber\" style = \"font-weight: bold; text-align: right;\">13</td><td style = \"text-align: right;\">106</td><td style = \"text-align: right;\">36</td><td style = \"text-align: right;\">7</td><td style = \"text-align: right;\">36</td><td style = \"text-align: right;\">0</td><td style = \"text-align: right;\">0</td><td style = \"text-align: right;\">0</td><td style = \"text-align: right;\">0</td><td style = \"text-align: right;\">32</td><td style = \"text-align: right;\">14783</td><td style = \"text-align: right;\">2</td><td style = \"text-align: right;\">-1</td><td style = \"text-align: right;\">0</td><td style = \"text-align: right;\">6</td><td style = \"text-align: right;\">1</td><td style = \"text-align: right;\">0</td><td style = \"text-align: right;\">0</td><td style = \"text-align: right;\">25</td><td style = \"text-align: right;\">42</td><td style = \"text-align: right;\">0.0</td><td style = \"text-align: right;\">0</td><td style = \"text-align: right;\">0</td><td style = \"text-align: right;\">0</td></tr><tr><td style = \"text-align: right;\">&vellip;</td><td style = \"text-align: right;\">&vellip;</td><td style = \"text-align: right;\">&vellip;</td><td style = \"text-align: right;\">&vellip;</td><td style = \"text-align: right;\">&vellip;</td><td style = \"text-align: right;\">&vellip;</td><td style = \"text-align: right;\">&vellip;</td><td style = \"text-align: right;\">&vellip;</td><td style = \"text-align: right;\">&vellip;</td><td style = \"text-align: right;\">&vellip;</td><td style = \"text-align: right;\">&vellip;</td><td style = \"text-align: right;\">&vellip;</td><td style = \"text-align: right;\">&vellip;</td><td style = \"text-align: right;\">&vellip;</td><td style = \"text-align: right;\">&vellip;</td><td style = \"text-align: right;\">&vellip;</td><td style = \"text-align: right;\">&vellip;</td><td style = \"text-align: right;\">&vellip;</td><td style = \"text-align: right;\">&vellip;</td><td style = \"text-align: right;\">&vellip;</td><td style = \"text-align: right;\">&vellip;</td><td style = \"text-align: right;\">&vellip;</td><td style = \"text-align: right;\">&vellip;</td><td style = \"text-align: right;\">&vellip;</td></tr><tr><td class = \"rowNumber\" style = \"font-weight: bold; text-align: right;\">11012</td><td style = \"text-align: right;\">53157</td><td style = \"text-align: right;\">30</td><td style = \"text-align: right;\">0</td><td style = \"text-align: right;\">30</td><td style = \"text-align: right;\">1</td><td style = \"text-align: right;\">0</td><td style = \"text-align: right;\">0</td><td style = \"text-align: right;\">0</td><td style = \"text-align: right;\">62</td><td style = \"text-align: right;\">51919</td><td style = \"text-align: right;\">2</td><td style = \"text-align: right;\">17</td><td style = \"text-align: right;\">24</td><td style = \"text-align: right;\">1</td><td style = \"text-align: right;\">0</td><td style = \"text-align: right;\">0</td><td style = \"text-align: right;\">1</td><td style = \"text-align: right;\">10</td><td style = \"text-align: right;\">27</td><td style = \"text-align: right;\">13.092</td><td style = \"text-align: right;\">0</td><td style = \"text-align: right;\">0</td><td style = \"text-align: right;\">1</td></tr><tr><td class = \"rowNumber\" style = \"font-weight: bold; text-align: right;\">11013</td><td style = \"text-align: right;\">53157</td><td style = \"text-align: right;\">30</td><td style = \"text-align: right;\">0</td><td style = \"text-align: right;\">30</td><td style = \"text-align: right;\">1</td><td style = \"text-align: right;\">0</td><td style = \"text-align: right;\">0</td><td style = \"text-align: right;\">0</td><td style = \"text-align: right;\">62</td><td style = \"text-align: right;\">51919</td><td style = \"text-align: right;\">2</td><td style = \"text-align: right;\">17</td><td style = \"text-align: right;\">24</td><td style = \"text-align: right;\">1</td><td style = \"text-align: right;\">0</td><td style = \"text-align: right;\">0</td><td style = \"text-align: right;\">1</td><td style = \"text-align: right;\">10</td><td style = \"text-align: right;\">27</td><td style = \"text-align: right;\">13.092</td><td style = \"text-align: right;\">0</td><td style = \"text-align: right;\">0</td><td style = \"text-align: right;\">1</td></tr><tr><td class = \"rowNumber\" style = \"font-weight: bold; text-align: right;\">11014</td><td style = \"text-align: right;\">53159</td><td style = \"text-align: right;\">48</td><td style = \"text-align: right;\">21</td><td style = \"text-align: right;\">48</td><td style = \"text-align: right;\">1</td><td style = \"text-align: right;\">0</td><td style = \"text-align: right;\">0</td><td style = \"text-align: right;\">0</td><td style = \"text-align: right;\">55</td><td style = \"text-align: right;\">51907</td><td style = \"text-align: right;\">4</td><td style = \"text-align: right;\">32</td><td style = \"text-align: right;\">36</td><td style = \"text-align: right;\">2</td><td style = \"text-align: right;\">1</td><td style = \"text-align: right;\">0</td><td style = \"text-align: right;\">0</td><td style = \"text-align: right;\">9</td><td style = \"text-align: right;\">34</td><td style = \"text-align: right;\">0.0</td><td style = \"text-align: right;\">0</td><td style = \"text-align: right;\">0</td><td style = \"text-align: right;\">0</td></tr><tr><td class = \"rowNumber\" style = \"font-weight: bold; text-align: right;\">11015</td><td style = \"text-align: right;\">53159</td><td style = \"text-align: right;\">48</td><td style = \"text-align: right;\">21</td><td style = \"text-align: right;\">48</td><td style = \"text-align: right;\">1</td><td style = \"text-align: right;\">0</td><td style = \"text-align: right;\">0</td><td style = \"text-align: right;\">0</td><td style = \"text-align: right;\">55</td><td style = \"text-align: right;\">51907</td><td style = \"text-align: right;\">4</td><td style = \"text-align: right;\">32</td><td style = \"text-align: right;\">36</td><td style = \"text-align: right;\">2</td><td style = \"text-align: right;\">1</td><td style = \"text-align: right;\">0</td><td style = \"text-align: right;\">0</td><td style = \"text-align: right;\">9</td><td style = \"text-align: right;\">34</td><td style = \"text-align: right;\">0.0</td><td style = \"text-align: right;\">0</td><td style = \"text-align: right;\">0</td><td style = \"text-align: right;\">1</td></tr><tr><td class = \"rowNumber\" style = \"font-weight: bold; text-align: right;\">11016</td><td style = \"text-align: right;\">53164</td><td style = \"text-align: right;\">20</td><td style = \"text-align: right;\">0</td><td style = \"text-align: right;\">20</td><td style = \"text-align: right;\">0</td><td style = \"text-align: right;\">0</td><td style = \"text-align: right;\">0</td><td style = \"text-align: right;\">0</td><td style = \"text-align: right;\">56</td><td style = \"text-align: right;\">51929</td><td style = \"text-align: right;\">3</td><td style = \"text-align: right;\">16</td><td style = \"text-align: right;\">24</td><td style = \"text-align: right;\">2</td><td style = \"text-align: right;\">0</td><td style = \"text-align: right;\">2</td><td style = \"text-align: right;\">2</td><td style = \"text-align: right;\">8</td><td style = \"text-align: right;\">35</td><td style = \"text-align: right;\">9.164</td><td style = \"text-align: right;\">0</td><td style = \"text-align: right;\">0</td><td style = \"text-align: right;\">1</td></tr><tr><td class = \"rowNumber\" style = \"font-weight: bold; text-align: right;\">11017</td><td style = \"text-align: right;\">53166</td><td style = \"text-align: right;\">41</td><td style = \"text-align: right;\">11</td><td style = \"text-align: right;\">41</td><td style = \"text-align: right;\">0</td><td style = \"text-align: right;\">0</td><td style = \"text-align: right;\">0</td><td style = \"text-align: right;\">0</td><td style = \"text-align: right;\">62</td><td style = \"text-align: right;\">51893</td><td style = \"text-align: right;\">2</td><td style = \"text-align: right;\">25</td><td style = \"text-align: right;\">36</td><td style = \"text-align: right;\">1</td><td style = \"text-align: right;\">3</td><td style = \"text-align: right;\">1</td><td style = \"text-align: right;\">1</td><td style = \"text-align: right;\">9</td><td style = \"text-align: right;\">28</td><td style = \"text-align: right;\">12.686</td><td style = \"text-align: right;\">0</td><td style = \"text-align: right;\">0</td><td style = \"text-align: right;\">1</td></tr><tr><td class = \"rowNumber\" style = \"font-weight: bold; text-align: right;\">11018</td><td style = \"text-align: right;\">53169</td><td style = \"text-align: right;\">33</td><td style = \"text-align: right;\">2</td><td style = \"text-align: right;\">33</td><td style = \"text-align: right;\">0</td><td style = \"text-align: right;\">0</td><td style = \"text-align: right;\">0</td><td style = \"text-align: right;\">0</td><td style = \"text-align: right;\">60</td><td style = \"text-align: right;\">51926</td><td style = \"text-align: right;\">7</td><td style = \"text-align: right;\">20</td><td style = \"text-align: right;\">24</td><td style = \"text-align: right;\">1</td><td style = \"text-align: right;\">2</td><td style = \"text-align: right;\">2</td><td style = \"text-align: right;\">1</td><td style = \"text-align: right;\">11</td><td style = \"text-align: right;\">28</td><td style = \"text-align: right;\">9.392</td><td style = \"text-align: right;\">1</td><td style = \"text-align: right;\">1</td><td style = \"text-align: right;\">1</td></tr><tr><td class = \"rowNumber\" style = \"font-weight: bold; text-align: right;\">11019</td><td style = \"text-align: right;\">53170</td><td style = \"text-align: right;\">36</td><td style = \"text-align: right;\">3</td><td style = \"text-align: right;\">36</td><td style = \"text-align: right;\">1</td><td style = \"text-align: right;\">0</td><td style = \"text-align: right;\">0</td><td style = \"text-align: right;\">0</td><td style = \"text-align: right;\">53</td><td style = \"text-align: right;\">51854</td><td style = \"text-align: right;\">3</td><td style = \"text-align: right;\">17</td><td style = \"text-align: right;\">24</td><td style = \"text-align: right;\">2</td><td style = \"text-align: right;\">0</td><td style = \"text-align: right;\">0</td><td style = \"text-align: right;\">0</td><td style = \"text-align: right;\">18</td><td style = \"text-align: right;\">27</td><td style = \"text-align: right;\">0.0</td><td style = \"text-align: right;\">0</td><td style = \"text-align: right;\">1</td><td style = \"text-align: right;\">0</td></tr><tr><td class = \"rowNumber\" style = \"font-weight: bold; text-align: right;\">11020</td><td style = \"text-align: right;\">53173</td><td style = \"text-align: right;\">42</td><td style = \"text-align: right;\">9</td><td style = \"text-align: right;\">42</td><td style = \"text-align: right;\">0</td><td style = \"text-align: right;\">0</td><td style = \"text-align: right;\">0</td><td style = \"text-align: right;\">0</td><td style = \"text-align: right;\">55</td><td style = \"text-align: right;\">51941</td><td style = \"text-align: right;\">2</td><td style = \"text-align: right;\">-5</td><td style = \"text-align: right;\">0</td><td style = \"text-align: right;\">2</td><td style = \"text-align: right;\">3</td><td style = \"text-align: right;\">0</td><td style = \"text-align: right;\">0</td><td style = \"text-align: right;\">11</td><td style = \"text-align: right;\">32</td><td style = \"text-align: right;\">0.0</td><td style = \"text-align: right;\">0</td><td style = \"text-align: right;\">1</td><td style = \"text-align: right;\">1</td></tr><tr><td class = \"rowNumber\" style = \"font-weight: bold; text-align: right;\">11021</td><td style = \"text-align: right;\">53179</td><td style = \"text-align: right;\">39</td><td style = \"text-align: right;\">11</td><td style = \"text-align: right;\">39</td><td style = \"text-align: right;\">1</td><td style = \"text-align: right;\">0</td><td style = \"text-align: right;\">0</td><td style = \"text-align: right;\">0</td><td style = \"text-align: right;\">66</td><td style = \"text-align: right;\">51858</td><td style = \"text-align: right;\">3</td><td style = \"text-align: right;\">19</td><td style = \"text-align: right;\">24</td><td style = \"text-align: right;\">0</td><td style = \"text-align: right;\">0</td><td style = \"text-align: right;\">0</td><td style = \"text-align: right;\">13</td><td style = \"text-align: right;\">11</td><td style = \"text-align: right;\">21</td><td style = \"text-align: right;\">19.369</td><td style = \"text-align: right;\">0</td><td style = \"text-align: right;\">0</td><td style = \"text-align: right;\">1</td></tr><tr><td class = \"rowNumber\" style = \"font-weight: bold; text-align: right;\">11022</td><td style = \"text-align: right;\">53181</td><td style = \"text-align: right;\">55</td><td style = \"text-align: right;\">29</td><td style = \"text-align: right;\">55</td><td style = \"text-align: right;\">0</td><td style = \"text-align: right;\">0</td><td style = \"text-align: right;\">0</td><td style = \"text-align: right;\">0</td><td style = \"text-align: right;\">60</td><td style = \"text-align: right;\">51943</td><td style = \"text-align: right;\">4</td><td style = \"text-align: right;\">37</td><td style = \"text-align: right;\">48</td><td style = \"text-align: right;\">1</td><td style = \"text-align: right;\">0</td><td style = \"text-align: right;\">0</td><td style = \"text-align: right;\">0</td><td style = \"text-align: right;\">10</td><td style = \"text-align: right;\">28</td><td style = \"text-align: right;\">0.0</td><td style = \"text-align: right;\">0</td><td style = \"text-align: right;\">0</td><td style = \"text-align: right;\">0</td></tr><tr><td class = \"rowNumber\" style = \"font-weight: bold; text-align: right;\">11023</td><td style = \"text-align: right;\">53188</td><td style = \"text-align: right;\">44</td><td style = \"text-align: right;\">17</td><td style = \"text-align: right;\">44</td><td style = \"text-align: right;\">1</td><td style = \"text-align: right;\">0</td><td style = \"text-align: right;\">0</td><td style = \"text-align: right;\">0</td><td style = \"text-align: right;\">55</td><td style = \"text-align: right;\">51893</td><td style = \"text-align: right;\">6</td><td style = \"text-align: right;\">21</td><td style = \"text-align: right;\">24</td><td style = \"text-align: right;\">2</td><td style = \"text-align: right;\">0</td><td style = \"text-align: right;\">3</td><td style = \"text-align: right;\">1</td><td style = \"text-align: right;\">14</td><td style = \"text-align: right;\">30</td><td style = \"text-align: right;\">12.032</td><td style = \"text-align: right;\">0</td><td style = \"text-align: right;\">0</td><td style = \"text-align: right;\">0</td></tr></tbody></table></div>"
      ],
      "text/latex": [
       "\\begin{tabular}{r|cccccccc}\n",
       "\t& customer\\_id & age & age\\_youngest\\_child & debt\\_equity & gender & bad\\_payment & gold\\_card & \\\\\n",
       "\t\\hline\n",
       "\t& Int64 & Int64 & Int64 & Int64 & Int64 & Int64 & Int64 & \\\\\n",
       "\t\\hline\n",
       "\t1 & 15 & 45 & 12 & 45 & 0 & 0 & 0 & $\\dots$ \\\\\n",
       "\t2 & 16 & 43 & 12 & 43 & 0 & 0 & 0 & $\\dots$ \\\\\n",
       "\t3 & 30 & 23 & 0 & 23 & 0 & 0 & 0 & $\\dots$ \\\\\n",
       "\t4 & 42 & 35 & 8 & 35 & 1 & 0 & 0 & $\\dots$ \\\\\n",
       "\t5 & 52 & 43 & 12 & 43 & 1 & 0 & 0 & $\\dots$ \\\\\n",
       "\t6 & 57 & 51 & 19 & 51 & 1 & 0 & 0 & $\\dots$ \\\\\n",
       "\t7 & 74 & 31 & 0 & 31 & 1 & 0 & 0 & $\\dots$ \\\\\n",
       "\t8 & 74 & 31 & 0 & 31 & 1 & 0 & 0 & $\\dots$ \\\\\n",
       "\t9 & 89 & 46 & 11 & 46 & 1 & 0 & 0 & $\\dots$ \\\\\n",
       "\t10 & 90 & 70 & 38 & 70 & 0 & 0 & 0 & $\\dots$ \\\\\n",
       "\t11 & 95 & 39 & 11 & 39 & 1 & 0 & 0 & $\\dots$ \\\\\n",
       "\t12 & 105 & 31 & 0 & 31 & 0 & 0 & 0 & $\\dots$ \\\\\n",
       "\t13 & 106 & 36 & 7 & 36 & 0 & 0 & 0 & $\\dots$ \\\\\n",
       "\t14 & 121 & 49 & 18 & 49 & 0 & 0 & 0 & $\\dots$ \\\\\n",
       "\t15 & 132 & 38 & 11 & 38 & 0 & 0 & 0 & $\\dots$ \\\\\n",
       "\t16 & 139 & 38 & 9 & 38 & 1 & 0 & 0 & $\\dots$ \\\\\n",
       "\t17 & 147 & 37 & 7 & 37 & 1 & 0 & 0 & $\\dots$ \\\\\n",
       "\t18 & 155 & 42 & 14 & 42 & 0 & 0 & 0 & $\\dots$ \\\\\n",
       "\t19 & 156 & 34 & 5 & 34 & 1 & 0 & 0 & $\\dots$ \\\\\n",
       "\t20 & 161 & 54 & 29 & 54 & 1 & 0 & 0 & $\\dots$ \\\\\n",
       "\t21 & 164 & 35 & 6 & 35 & 0 & 0 & 0 & $\\dots$ \\\\\n",
       "\t22 & 181 & 77 & 48 & 77 & 1 & 0 & 0 & $\\dots$ \\\\\n",
       "\t23 & 183 & 57 & 28 & 57 & 0 & 0 & 0 & $\\dots$ \\\\\n",
       "\t24 & 191 & 24 & 0 & 24 & 0 & 0 & 0 & $\\dots$ \\\\\n",
       "\t$\\dots$ & $\\dots$ & $\\dots$ & $\\dots$ & $\\dots$ & $\\dots$ & $\\dots$ & $\\dots$ &  \\\\\n",
       "\\end{tabular}\n"
      ],
      "text/plain": [
       "\u001b[1m11023×23 DataFrame\n",
       "\u001b[1m   Row │\u001b[1m customer_id \u001b[1m age   \u001b[1m age_youngest_child \u001b[1m debt_equity \u001b[1m gender \u001b[1m bad_paym ⋯\n",
       "       │\u001b[90m Int64       \u001b[90m Int64 \u001b[90m Int64              \u001b[90m Int64       \u001b[90m Int64  \u001b[90m Int64    ⋯\n",
       "───────┼────────────────────────────────────────────────────────────────────────\n",
       "     1 │          15     45                  12           45       0           ⋯\n",
       "     2 │          16     43                  12           43       0\n",
       "     3 │          30     23                   0           23       0\n",
       "     4 │          42     35                   8           35       1\n",
       "     5 │          52     43                  12           43       1           ⋯\n",
       "     6 │          57     51                  19           51       1\n",
       "     7 │          74     31                   0           31       1\n",
       "     8 │          74     31                   0           31       1\n",
       "   ⋮   │      ⋮         ⋮            ⋮                ⋮         ⋮          ⋮   ⋱\n",
       " 11017 │       53166     41                  11           41       0           ⋯\n",
       " 11018 │       53169     33                   2           33       0\n",
       " 11019 │       53170     36                   3           36       1\n",
       " 11020 │       53173     42                   9           42       0\n",
       " 11021 │       53179     39                  11           39       1           ⋯\n",
       " 11022 │       53181     55                  29           55       0\n",
       " 11023 │       53188     44                  17           44       1\n",
       "\u001b[36m                                               18 columns and 11008 rows omitted"
      ]
     },
     "metadata": {},
     "output_type": "display_data"
    }
   ],
   "source": [
    "data = CSV.read(\"Input/known_behaviors2.csv\", DataFrame)"
   ]
  },
  {
   "cell_type": "code",
   "execution_count": 19,
   "metadata": {},
   "outputs": [],
   "source": [
    "data[:, :concatenated] = string.(data[:, :Mortgage]) .* string.(data[:, :Pension]) .* string.(data[:, :Savings]);"
   ]
  },
  {
   "cell_type": "code",
   "execution_count": 20,
   "metadata": {},
   "outputs": [
    {
     "data": {
      "text/html": [
       "<div><div style = \"float: left;\"><span>11023×24 DataFrame</span></div><div style = \"float: right;\"><span style = \"font-style: italic;\">10998 rows omitted</span></div><div style = \"clear: both;\"></div></div><div class = \"data-frame\" style = \"overflow-x: scroll;\"><table class = \"data-frame\" style = \"margin-bottom: 6px;\"><thead><tr class = \"header\"><th class = \"rowNumber\" style = \"font-weight: bold; text-align: right;\">Row</th><th style = \"text-align: left;\">customer_id</th><th style = \"text-align: left;\">age</th><th style = \"text-align: left;\">age_youngest_child</th><th style = \"text-align: left;\">debt_equity</th><th style = \"text-align: left;\">gender</th><th style = \"text-align: left;\">bad_payment</th><th style = \"text-align: left;\">gold_card</th><th style = \"text-align: left;\">pension_plan</th><th style = \"text-align: left;\">household_debt_to_equity_ratio</th><th style = \"text-align: left;\">income</th><th style = \"text-align: left;\">members_in_household</th><th style = \"text-align: left;\">months_current_account</th><th style = \"text-align: left;\">months_customer</th><th style = \"text-align: left;\">call_center_contacts</th><th style = \"text-align: left;\">loan_accounts</th><th style = \"text-align: left;\">number_products</th><th style = \"text-align: left;\">number_transactions</th><th style = \"text-align: left;\">non_worker_percentage</th><th style = \"text-align: left;\">white_collar_percentage</th><th style = \"text-align: left;\">rfm_score</th><th style = \"text-align: left;\">Mortgage</th><th style = \"text-align: left;\">Pension</th><th style = \"text-align: left;\">Savings</th><th style = \"text-align: left;\">concatenated</th></tr><tr class = \"subheader headerLastRow\"><th class = \"rowNumber\" style = \"font-weight: bold; text-align: right;\"></th><th title = \"Int64\" style = \"text-align: left;\">Int64</th><th title = \"Int64\" style = \"text-align: left;\">Int64</th><th title = \"Int64\" style = \"text-align: left;\">Int64</th><th title = \"Int64\" style = \"text-align: left;\">Int64</th><th title = \"Int64\" style = \"text-align: left;\">Int64</th><th title = \"Int64\" style = \"text-align: left;\">Int64</th><th title = \"Int64\" style = \"text-align: left;\">Int64</th><th title = \"Int64\" style = \"text-align: left;\">Int64</th><th title = \"Int64\" style = \"text-align: left;\">Int64</th><th title = \"Int64\" style = \"text-align: left;\">Int64</th><th title = \"Int64\" style = \"text-align: left;\">Int64</th><th title = \"Int64\" style = \"text-align: left;\">Int64</th><th title = \"Int64\" style = \"text-align: left;\">Int64</th><th title = \"Int64\" style = \"text-align: left;\">Int64</th><th title = \"Int64\" style = \"text-align: left;\">Int64</th><th title = \"Int64\" style = \"text-align: left;\">Int64</th><th title = \"Int64\" style = \"text-align: left;\">Int64</th><th title = \"Int64\" style = \"text-align: left;\">Int64</th><th title = \"Int64\" style = \"text-align: left;\">Int64</th><th title = \"Float64\" style = \"text-align: left;\">Float64</th><th title = \"Int64\" style = \"text-align: left;\">Int64</th><th title = \"Int64\" style = \"text-align: left;\">Int64</th><th title = \"Int64\" style = \"text-align: left;\">Int64</th><th title = \"String\" style = \"text-align: left;\">String</th></tr></thead><tbody><tr><td class = \"rowNumber\" style = \"font-weight: bold; text-align: right;\">1</td><td style = \"text-align: right;\">15</td><td style = \"text-align: right;\">45</td><td style = \"text-align: right;\">12</td><td style = \"text-align: right;\">45</td><td style = \"text-align: right;\">0</td><td style = \"text-align: right;\">0</td><td style = \"text-align: right;\">0</td><td style = \"text-align: right;\">0</td><td style = \"text-align: right;\">65</td><td style = \"text-align: right;\">13453</td><td style = \"text-align: right;\">2</td><td style = \"text-align: right;\">33</td><td style = \"text-align: right;\">36</td><td style = \"text-align: right;\">0</td><td style = \"text-align: right;\">4</td><td style = \"text-align: right;\">2</td><td style = \"text-align: right;\">1</td><td style = \"text-align: right;\">14</td><td style = \"text-align: right;\">19</td><td style = \"text-align: right;\">7.602</td><td style = \"text-align: right;\">0</td><td style = \"text-align: right;\">0</td><td style = \"text-align: right;\">0</td><td style = \"text-align: left;\">000</td></tr><tr><td class = \"rowNumber\" style = \"font-weight: bold; text-align: right;\">2</td><td style = \"text-align: right;\">16</td><td style = \"text-align: right;\">43</td><td style = \"text-align: right;\">12</td><td style = \"text-align: right;\">43</td><td style = \"text-align: right;\">0</td><td style = \"text-align: right;\">0</td><td style = \"text-align: right;\">0</td><td style = \"text-align: right;\">0</td><td style = \"text-align: right;\">65</td><td style = \"text-align: right;\">13453</td><td style = \"text-align: right;\">2</td><td style = \"text-align: right;\">34</td><td style = \"text-align: right;\">36</td><td style = \"text-align: right;\">0</td><td style = \"text-align: right;\">0</td><td style = \"text-align: right;\">3</td><td style = \"text-align: right;\">2</td><td style = \"text-align: right;\">14</td><td style = \"text-align: right;\">19</td><td style = \"text-align: right;\">10.143</td><td style = \"text-align: right;\">0</td><td style = \"text-align: right;\">0</td><td style = \"text-align: right;\">0</td><td style = \"text-align: left;\">000</td></tr><tr><td class = \"rowNumber\" style = \"font-weight: bold; text-align: right;\">3</td><td style = \"text-align: right;\">30</td><td style = \"text-align: right;\">23</td><td style = \"text-align: right;\">0</td><td style = \"text-align: right;\">23</td><td style = \"text-align: right;\">0</td><td style = \"text-align: right;\">0</td><td style = \"text-align: right;\">0</td><td style = \"text-align: right;\">0</td><td style = \"text-align: right;\">65</td><td style = \"text-align: right;\">13453</td><td style = \"text-align: right;\">2</td><td style = \"text-align: right;\">30</td><td style = \"text-align: right;\">36</td><td style = \"text-align: right;\">0</td><td style = \"text-align: right;\">1</td><td style = \"text-align: right;\">0</td><td style = \"text-align: right;\">0</td><td style = \"text-align: right;\">14</td><td style = \"text-align: right;\">19</td><td style = \"text-align: right;\">0.0</td><td style = \"text-align: right;\">0</td><td style = \"text-align: right;\">0</td><td style = \"text-align: right;\">0</td><td style = \"text-align: left;\">000</td></tr><tr><td class = \"rowNumber\" style = \"font-weight: bold; text-align: right;\">4</td><td style = \"text-align: right;\">42</td><td style = \"text-align: right;\">35</td><td style = \"text-align: right;\">8</td><td style = \"text-align: right;\">35</td><td style = \"text-align: right;\">1</td><td style = \"text-align: right;\">0</td><td style = \"text-align: right;\">0</td><td style = \"text-align: right;\">0</td><td style = \"text-align: right;\">65</td><td style = \"text-align: right;\">13453</td><td style = \"text-align: right;\">2</td><td style = \"text-align: right;\">22</td><td style = \"text-align: right;\">24</td><td style = \"text-align: right;\">0</td><td style = \"text-align: right;\">1</td><td style = \"text-align: right;\">0</td><td style = \"text-align: right;\">0</td><td style = \"text-align: right;\">14</td><td style = \"text-align: right;\">19</td><td style = \"text-align: right;\">0.0</td><td style = \"text-align: right;\">0</td><td style = \"text-align: right;\">1</td><td style = \"text-align: right;\">0</td><td style = \"text-align: left;\">010</td></tr><tr><td class = \"rowNumber\" style = \"font-weight: bold; text-align: right;\">5</td><td style = \"text-align: right;\">52</td><td style = \"text-align: right;\">43</td><td style = \"text-align: right;\">12</td><td style = \"text-align: right;\">43</td><td style = \"text-align: right;\">1</td><td style = \"text-align: right;\">0</td><td style = \"text-align: right;\">0</td><td style = \"text-align: right;\">0</td><td style = \"text-align: right;\">47</td><td style = \"text-align: right;\">14124</td><td style = \"text-align: right;\">3</td><td style = \"text-align: right;\">40</td><td style = \"text-align: right;\">48</td><td style = \"text-align: right;\">3</td><td style = \"text-align: right;\">1</td><td style = \"text-align: right;\">0</td><td style = \"text-align: right;\">0</td><td style = \"text-align: right;\">16</td><td style = \"text-align: right;\">35</td><td style = \"text-align: right;\">0.0</td><td style = \"text-align: right;\">0</td><td style = \"text-align: right;\">1</td><td style = \"text-align: right;\">0</td><td style = \"text-align: left;\">010</td></tr><tr><td class = \"rowNumber\" style = \"font-weight: bold; text-align: right;\">6</td><td style = \"text-align: right;\">57</td><td style = \"text-align: right;\">51</td><td style = \"text-align: right;\">19</td><td style = \"text-align: right;\">51</td><td style = \"text-align: right;\">1</td><td style = \"text-align: right;\">0</td><td style = \"text-align: right;\">0</td><td style = \"text-align: right;\">0</td><td style = \"text-align: right;\">50</td><td style = \"text-align: right;\">14838</td><td style = \"text-align: right;\">2</td><td style = \"text-align: right;\">33</td><td style = \"text-align: right;\">36</td><td style = \"text-align: right;\">3</td><td style = \"text-align: right;\">0</td><td style = \"text-align: right;\">0</td><td style = \"text-align: right;\">0</td><td style = \"text-align: right;\">9</td><td style = \"text-align: right;\">39</td><td style = \"text-align: right;\">0.0</td><td style = \"text-align: right;\">0</td><td style = \"text-align: right;\">0</td><td style = \"text-align: right;\">0</td><td style = \"text-align: left;\">000</td></tr><tr><td class = \"rowNumber\" style = \"font-weight: bold; text-align: right;\">7</td><td style = \"text-align: right;\">74</td><td style = \"text-align: right;\">31</td><td style = \"text-align: right;\">0</td><td style = \"text-align: right;\">31</td><td style = \"text-align: right;\">1</td><td style = \"text-align: right;\">0</td><td style = \"text-align: right;\">0</td><td style = \"text-align: right;\">0</td><td style = \"text-align: right;\">50</td><td style = \"text-align: right;\">14838</td><td style = \"text-align: right;\">3</td><td style = \"text-align: right;\">0</td><td style = \"text-align: right;\">12</td><td style = \"text-align: right;\">3</td><td style = \"text-align: right;\">3</td><td style = \"text-align: right;\">0</td><td style = \"text-align: right;\">0</td><td style = \"text-align: right;\">9</td><td style = \"text-align: right;\">39</td><td style = \"text-align: right;\">0.0</td><td style = \"text-align: right;\">1</td><td style = \"text-align: right;\">0</td><td style = \"text-align: right;\">0</td><td style = \"text-align: left;\">100</td></tr><tr><td class = \"rowNumber\" style = \"font-weight: bold; text-align: right;\">8</td><td style = \"text-align: right;\">74</td><td style = \"text-align: right;\">31</td><td style = \"text-align: right;\">0</td><td style = \"text-align: right;\">31</td><td style = \"text-align: right;\">1</td><td style = \"text-align: right;\">0</td><td style = \"text-align: right;\">0</td><td style = \"text-align: right;\">0</td><td style = \"text-align: right;\">50</td><td style = \"text-align: right;\">14838</td><td style = \"text-align: right;\">3</td><td style = \"text-align: right;\">0</td><td style = \"text-align: right;\">12</td><td style = \"text-align: right;\">3</td><td style = \"text-align: right;\">3</td><td style = \"text-align: right;\">0</td><td style = \"text-align: right;\">0</td><td style = \"text-align: right;\">9</td><td style = \"text-align: right;\">39</td><td style = \"text-align: right;\">0.0</td><td style = \"text-align: right;\">1</td><td style = \"text-align: right;\">0</td><td style = \"text-align: right;\">0</td><td style = \"text-align: left;\">100</td></tr><tr><td class = \"rowNumber\" style = \"font-weight: bold; text-align: right;\">9</td><td style = \"text-align: right;\">89</td><td style = \"text-align: right;\">46</td><td style = \"text-align: right;\">11</td><td style = \"text-align: right;\">46</td><td style = \"text-align: right;\">1</td><td style = \"text-align: right;\">0</td><td style = \"text-align: right;\">0</td><td style = \"text-align: right;\">0</td><td style = \"text-align: right;\">32</td><td style = \"text-align: right;\">14783</td><td style = \"text-align: right;\">2</td><td style = \"text-align: right;\">6</td><td style = \"text-align: right;\">12</td><td style = \"text-align: right;\">6</td><td style = \"text-align: right;\">3</td><td style = \"text-align: right;\">2</td><td style = \"text-align: right;\">1</td><td style = \"text-align: right;\">25</td><td style = \"text-align: right;\">42</td><td style = \"text-align: right;\">7.799</td><td style = \"text-align: right;\">0</td><td style = \"text-align: right;\">1</td><td style = \"text-align: right;\">0</td><td style = \"text-align: left;\">010</td></tr><tr><td class = \"rowNumber\" style = \"font-weight: bold; text-align: right;\">10</td><td style = \"text-align: right;\">90</td><td style = \"text-align: right;\">70</td><td style = \"text-align: right;\">38</td><td style = \"text-align: right;\">70</td><td style = \"text-align: right;\">0</td><td style = \"text-align: right;\">0</td><td style = \"text-align: right;\">0</td><td style = \"text-align: right;\">0</td><td style = \"text-align: right;\">32</td><td style = \"text-align: right;\">14783</td><td style = \"text-align: right;\">1</td><td style = \"text-align: right;\">35</td><td style = \"text-align: right;\">36</td><td style = \"text-align: right;\">6</td><td style = \"text-align: right;\">2</td><td style = \"text-align: right;\">2</td><td style = \"text-align: right;\">2</td><td style = \"text-align: right;\">25</td><td style = \"text-align: right;\">42</td><td style = \"text-align: right;\">11.803</td><td style = \"text-align: right;\">0</td><td style = \"text-align: right;\">0</td><td style = \"text-align: right;\">0</td><td style = \"text-align: left;\">000</td></tr><tr><td class = \"rowNumber\" style = \"font-weight: bold; text-align: right;\">11</td><td style = \"text-align: right;\">95</td><td style = \"text-align: right;\">39</td><td style = \"text-align: right;\">11</td><td style = \"text-align: right;\">39</td><td style = \"text-align: right;\">1</td><td style = \"text-align: right;\">0</td><td style = \"text-align: right;\">0</td><td style = \"text-align: right;\">0</td><td style = \"text-align: right;\">32</td><td style = \"text-align: right;\">14783</td><td style = \"text-align: right;\">2</td><td style = \"text-align: right;\">16</td><td style = \"text-align: right;\">24</td><td style = \"text-align: right;\">6</td><td style = \"text-align: right;\">2</td><td style = \"text-align: right;\">4</td><td style = \"text-align: right;\">3</td><td style = \"text-align: right;\">25</td><td style = \"text-align: right;\">42</td><td style = \"text-align: right;\">12.407</td><td style = \"text-align: right;\">0</td><td style = \"text-align: right;\">0</td><td style = \"text-align: right;\">0</td><td style = \"text-align: left;\">000</td></tr><tr><td class = \"rowNumber\" style = \"font-weight: bold; text-align: right;\">12</td><td style = \"text-align: right;\">105</td><td style = \"text-align: right;\">31</td><td style = \"text-align: right;\">0</td><td style = \"text-align: right;\">31</td><td style = \"text-align: right;\">0</td><td style = \"text-align: right;\">0</td><td style = \"text-align: right;\">0</td><td style = \"text-align: right;\">0</td><td style = \"text-align: right;\">32</td><td style = \"text-align: right;\">14783</td><td style = \"text-align: right;\">2</td><td style = \"text-align: right;\">17</td><td style = \"text-align: right;\">24</td><td style = \"text-align: right;\">6</td><td style = \"text-align: right;\">0</td><td style = \"text-align: right;\">0</td><td style = \"text-align: right;\">0</td><td style = \"text-align: right;\">25</td><td style = \"text-align: right;\">42</td><td style = \"text-align: right;\">0.0</td><td style = \"text-align: right;\">0</td><td style = \"text-align: right;\">0</td><td style = \"text-align: right;\">0</td><td style = \"text-align: left;\">000</td></tr><tr><td class = \"rowNumber\" style = \"font-weight: bold; text-align: right;\">13</td><td style = \"text-align: right;\">106</td><td style = \"text-align: right;\">36</td><td style = \"text-align: right;\">7</td><td style = \"text-align: right;\">36</td><td style = \"text-align: right;\">0</td><td style = \"text-align: right;\">0</td><td style = \"text-align: right;\">0</td><td style = \"text-align: right;\">0</td><td style = \"text-align: right;\">32</td><td style = \"text-align: right;\">14783</td><td style = \"text-align: right;\">2</td><td style = \"text-align: right;\">-1</td><td style = \"text-align: right;\">0</td><td style = \"text-align: right;\">6</td><td style = \"text-align: right;\">1</td><td style = \"text-align: right;\">0</td><td style = \"text-align: right;\">0</td><td style = \"text-align: right;\">25</td><td style = \"text-align: right;\">42</td><td style = \"text-align: right;\">0.0</td><td style = \"text-align: right;\">0</td><td style = \"text-align: right;\">0</td><td style = \"text-align: right;\">0</td><td style = \"text-align: left;\">000</td></tr><tr><td style = \"text-align: right;\">&vellip;</td><td style = \"text-align: right;\">&vellip;</td><td style = \"text-align: right;\">&vellip;</td><td style = \"text-align: right;\">&vellip;</td><td style = \"text-align: right;\">&vellip;</td><td style = \"text-align: right;\">&vellip;</td><td style = \"text-align: right;\">&vellip;</td><td style = \"text-align: right;\">&vellip;</td><td style = \"text-align: right;\">&vellip;</td><td style = \"text-align: right;\">&vellip;</td><td style = \"text-align: right;\">&vellip;</td><td style = \"text-align: right;\">&vellip;</td><td style = \"text-align: right;\">&vellip;</td><td style = \"text-align: right;\">&vellip;</td><td style = \"text-align: right;\">&vellip;</td><td style = \"text-align: right;\">&vellip;</td><td style = \"text-align: right;\">&vellip;</td><td style = \"text-align: right;\">&vellip;</td><td style = \"text-align: right;\">&vellip;</td><td style = \"text-align: right;\">&vellip;</td><td style = \"text-align: right;\">&vellip;</td><td style = \"text-align: right;\">&vellip;</td><td style = \"text-align: right;\">&vellip;</td><td style = \"text-align: right;\">&vellip;</td><td style = \"text-align: right;\">&vellip;</td></tr><tr><td class = \"rowNumber\" style = \"font-weight: bold; text-align: right;\">11012</td><td style = \"text-align: right;\">53157</td><td style = \"text-align: right;\">30</td><td style = \"text-align: right;\">0</td><td style = \"text-align: right;\">30</td><td style = \"text-align: right;\">1</td><td style = \"text-align: right;\">0</td><td style = \"text-align: right;\">0</td><td style = \"text-align: right;\">0</td><td style = \"text-align: right;\">62</td><td style = \"text-align: right;\">51919</td><td style = \"text-align: right;\">2</td><td style = \"text-align: right;\">17</td><td style = \"text-align: right;\">24</td><td style = \"text-align: right;\">1</td><td style = \"text-align: right;\">0</td><td style = \"text-align: right;\">0</td><td style = \"text-align: right;\">1</td><td style = \"text-align: right;\">10</td><td style = \"text-align: right;\">27</td><td style = \"text-align: right;\">13.092</td><td style = \"text-align: right;\">0</td><td style = \"text-align: right;\">0</td><td style = \"text-align: right;\">1</td><td style = \"text-align: left;\">001</td></tr><tr><td class = \"rowNumber\" style = \"font-weight: bold; text-align: right;\">11013</td><td style = \"text-align: right;\">53157</td><td style = \"text-align: right;\">30</td><td style = \"text-align: right;\">0</td><td style = \"text-align: right;\">30</td><td style = \"text-align: right;\">1</td><td style = \"text-align: right;\">0</td><td style = \"text-align: right;\">0</td><td style = \"text-align: right;\">0</td><td style = \"text-align: right;\">62</td><td style = \"text-align: right;\">51919</td><td style = \"text-align: right;\">2</td><td style = \"text-align: right;\">17</td><td style = \"text-align: right;\">24</td><td style = \"text-align: right;\">1</td><td style = \"text-align: right;\">0</td><td style = \"text-align: right;\">0</td><td style = \"text-align: right;\">1</td><td style = \"text-align: right;\">10</td><td style = \"text-align: right;\">27</td><td style = \"text-align: right;\">13.092</td><td style = \"text-align: right;\">0</td><td style = \"text-align: right;\">0</td><td style = \"text-align: right;\">1</td><td style = \"text-align: left;\">001</td></tr><tr><td class = \"rowNumber\" style = \"font-weight: bold; text-align: right;\">11014</td><td style = \"text-align: right;\">53159</td><td style = \"text-align: right;\">48</td><td style = \"text-align: right;\">21</td><td style = \"text-align: right;\">48</td><td style = \"text-align: right;\">1</td><td style = \"text-align: right;\">0</td><td style = \"text-align: right;\">0</td><td style = \"text-align: right;\">0</td><td style = \"text-align: right;\">55</td><td style = \"text-align: right;\">51907</td><td style = \"text-align: right;\">4</td><td style = \"text-align: right;\">32</td><td style = \"text-align: right;\">36</td><td style = \"text-align: right;\">2</td><td style = \"text-align: right;\">1</td><td style = \"text-align: right;\">0</td><td style = \"text-align: right;\">0</td><td style = \"text-align: right;\">9</td><td style = \"text-align: right;\">34</td><td style = \"text-align: right;\">0.0</td><td style = \"text-align: right;\">0</td><td style = \"text-align: right;\">0</td><td style = \"text-align: right;\">0</td><td style = \"text-align: left;\">000</td></tr><tr><td class = \"rowNumber\" style = \"font-weight: bold; text-align: right;\">11015</td><td style = \"text-align: right;\">53159</td><td style = \"text-align: right;\">48</td><td style = \"text-align: right;\">21</td><td style = \"text-align: right;\">48</td><td style = \"text-align: right;\">1</td><td style = \"text-align: right;\">0</td><td style = \"text-align: right;\">0</td><td style = \"text-align: right;\">0</td><td style = \"text-align: right;\">55</td><td style = \"text-align: right;\">51907</td><td style = \"text-align: right;\">4</td><td style = \"text-align: right;\">32</td><td style = \"text-align: right;\">36</td><td style = \"text-align: right;\">2</td><td style = \"text-align: right;\">1</td><td style = \"text-align: right;\">0</td><td style = \"text-align: right;\">0</td><td style = \"text-align: right;\">9</td><td style = \"text-align: right;\">34</td><td style = \"text-align: right;\">0.0</td><td style = \"text-align: right;\">0</td><td style = \"text-align: right;\">0</td><td style = \"text-align: right;\">1</td><td style = \"text-align: left;\">001</td></tr><tr><td class = \"rowNumber\" style = \"font-weight: bold; text-align: right;\">11016</td><td style = \"text-align: right;\">53164</td><td style = \"text-align: right;\">20</td><td style = \"text-align: right;\">0</td><td style = \"text-align: right;\">20</td><td style = \"text-align: right;\">0</td><td style = \"text-align: right;\">0</td><td style = \"text-align: right;\">0</td><td style = \"text-align: right;\">0</td><td style = \"text-align: right;\">56</td><td style = \"text-align: right;\">51929</td><td style = \"text-align: right;\">3</td><td style = \"text-align: right;\">16</td><td style = \"text-align: right;\">24</td><td style = \"text-align: right;\">2</td><td style = \"text-align: right;\">0</td><td style = \"text-align: right;\">2</td><td style = \"text-align: right;\">2</td><td style = \"text-align: right;\">8</td><td style = \"text-align: right;\">35</td><td style = \"text-align: right;\">9.164</td><td style = \"text-align: right;\">0</td><td style = \"text-align: right;\">0</td><td style = \"text-align: right;\">1</td><td style = \"text-align: left;\">001</td></tr><tr><td class = \"rowNumber\" style = \"font-weight: bold; text-align: right;\">11017</td><td style = \"text-align: right;\">53166</td><td style = \"text-align: right;\">41</td><td style = \"text-align: right;\">11</td><td style = \"text-align: right;\">41</td><td style = \"text-align: right;\">0</td><td style = \"text-align: right;\">0</td><td style = \"text-align: right;\">0</td><td style = \"text-align: right;\">0</td><td style = \"text-align: right;\">62</td><td style = \"text-align: right;\">51893</td><td style = \"text-align: right;\">2</td><td style = \"text-align: right;\">25</td><td style = \"text-align: right;\">36</td><td style = \"text-align: right;\">1</td><td style = \"text-align: right;\">3</td><td style = \"text-align: right;\">1</td><td style = \"text-align: right;\">1</td><td style = \"text-align: right;\">9</td><td style = \"text-align: right;\">28</td><td style = \"text-align: right;\">12.686</td><td style = \"text-align: right;\">0</td><td style = \"text-align: right;\">0</td><td style = \"text-align: right;\">1</td><td style = \"text-align: left;\">001</td></tr><tr><td class = \"rowNumber\" style = \"font-weight: bold; text-align: right;\">11018</td><td style = \"text-align: right;\">53169</td><td style = \"text-align: right;\">33</td><td style = \"text-align: right;\">2</td><td style = \"text-align: right;\">33</td><td style = \"text-align: right;\">0</td><td style = \"text-align: right;\">0</td><td style = \"text-align: right;\">0</td><td style = \"text-align: right;\">0</td><td style = \"text-align: right;\">60</td><td style = \"text-align: right;\">51926</td><td style = \"text-align: right;\">7</td><td style = \"text-align: right;\">20</td><td style = \"text-align: right;\">24</td><td style = \"text-align: right;\">1</td><td style = \"text-align: right;\">2</td><td style = \"text-align: right;\">2</td><td style = \"text-align: right;\">1</td><td style = \"text-align: right;\">11</td><td style = \"text-align: right;\">28</td><td style = \"text-align: right;\">9.392</td><td style = \"text-align: right;\">1</td><td style = \"text-align: right;\">1</td><td style = \"text-align: right;\">1</td><td style = \"text-align: left;\">111</td></tr><tr><td class = \"rowNumber\" style = \"font-weight: bold; text-align: right;\">11019</td><td style = \"text-align: right;\">53170</td><td style = \"text-align: right;\">36</td><td style = \"text-align: right;\">3</td><td style = \"text-align: right;\">36</td><td style = \"text-align: right;\">1</td><td style = \"text-align: right;\">0</td><td style = \"text-align: right;\">0</td><td style = \"text-align: right;\">0</td><td style = \"text-align: right;\">53</td><td style = \"text-align: right;\">51854</td><td style = \"text-align: right;\">3</td><td style = \"text-align: right;\">17</td><td style = \"text-align: right;\">24</td><td style = \"text-align: right;\">2</td><td style = \"text-align: right;\">0</td><td style = \"text-align: right;\">0</td><td style = \"text-align: right;\">0</td><td style = \"text-align: right;\">18</td><td style = \"text-align: right;\">27</td><td style = \"text-align: right;\">0.0</td><td style = \"text-align: right;\">0</td><td style = \"text-align: right;\">1</td><td style = \"text-align: right;\">0</td><td style = \"text-align: left;\">010</td></tr><tr><td class = \"rowNumber\" style = \"font-weight: bold; text-align: right;\">11020</td><td style = \"text-align: right;\">53173</td><td style = \"text-align: right;\">42</td><td style = \"text-align: right;\">9</td><td style = \"text-align: right;\">42</td><td style = \"text-align: right;\">0</td><td style = \"text-align: right;\">0</td><td style = \"text-align: right;\">0</td><td style = \"text-align: right;\">0</td><td style = \"text-align: right;\">55</td><td style = \"text-align: right;\">51941</td><td style = \"text-align: right;\">2</td><td style = \"text-align: right;\">-5</td><td style = \"text-align: right;\">0</td><td style = \"text-align: right;\">2</td><td style = \"text-align: right;\">3</td><td style = \"text-align: right;\">0</td><td style = \"text-align: right;\">0</td><td style = \"text-align: right;\">11</td><td style = \"text-align: right;\">32</td><td style = \"text-align: right;\">0.0</td><td style = \"text-align: right;\">0</td><td style = \"text-align: right;\">1</td><td style = \"text-align: right;\">1</td><td style = \"text-align: left;\">011</td></tr><tr><td class = \"rowNumber\" style = \"font-weight: bold; text-align: right;\">11021</td><td style = \"text-align: right;\">53179</td><td style = \"text-align: right;\">39</td><td style = \"text-align: right;\">11</td><td style = \"text-align: right;\">39</td><td style = \"text-align: right;\">1</td><td style = \"text-align: right;\">0</td><td style = \"text-align: right;\">0</td><td style = \"text-align: right;\">0</td><td style = \"text-align: right;\">66</td><td style = \"text-align: right;\">51858</td><td style = \"text-align: right;\">3</td><td style = \"text-align: right;\">19</td><td style = \"text-align: right;\">24</td><td style = \"text-align: right;\">0</td><td style = \"text-align: right;\">0</td><td style = \"text-align: right;\">0</td><td style = \"text-align: right;\">13</td><td style = \"text-align: right;\">11</td><td style = \"text-align: right;\">21</td><td style = \"text-align: right;\">19.369</td><td style = \"text-align: right;\">0</td><td style = \"text-align: right;\">0</td><td style = \"text-align: right;\">1</td><td style = \"text-align: left;\">001</td></tr><tr><td class = \"rowNumber\" style = \"font-weight: bold; text-align: right;\">11022</td><td style = \"text-align: right;\">53181</td><td style = \"text-align: right;\">55</td><td style = \"text-align: right;\">29</td><td style = \"text-align: right;\">55</td><td style = \"text-align: right;\">0</td><td style = \"text-align: right;\">0</td><td style = \"text-align: right;\">0</td><td style = \"text-align: right;\">0</td><td style = \"text-align: right;\">60</td><td style = \"text-align: right;\">51943</td><td style = \"text-align: right;\">4</td><td style = \"text-align: right;\">37</td><td style = \"text-align: right;\">48</td><td style = \"text-align: right;\">1</td><td style = \"text-align: right;\">0</td><td style = \"text-align: right;\">0</td><td style = \"text-align: right;\">0</td><td style = \"text-align: right;\">10</td><td style = \"text-align: right;\">28</td><td style = \"text-align: right;\">0.0</td><td style = \"text-align: right;\">0</td><td style = \"text-align: right;\">0</td><td style = \"text-align: right;\">0</td><td style = \"text-align: left;\">000</td></tr><tr><td class = \"rowNumber\" style = \"font-weight: bold; text-align: right;\">11023</td><td style = \"text-align: right;\">53188</td><td style = \"text-align: right;\">44</td><td style = \"text-align: right;\">17</td><td style = \"text-align: right;\">44</td><td style = \"text-align: right;\">1</td><td style = \"text-align: right;\">0</td><td style = \"text-align: right;\">0</td><td style = \"text-align: right;\">0</td><td style = \"text-align: right;\">55</td><td style = \"text-align: right;\">51893</td><td style = \"text-align: right;\">6</td><td style = \"text-align: right;\">21</td><td style = \"text-align: right;\">24</td><td style = \"text-align: right;\">2</td><td style = \"text-align: right;\">0</td><td style = \"text-align: right;\">3</td><td style = \"text-align: right;\">1</td><td style = \"text-align: right;\">14</td><td style = \"text-align: right;\">30</td><td style = \"text-align: right;\">12.032</td><td style = \"text-align: right;\">0</td><td style = \"text-align: right;\">0</td><td style = \"text-align: right;\">0</td><td style = \"text-align: left;\">000</td></tr></tbody></table></div>"
      ],
      "text/latex": [
       "\\begin{tabular}{r|cccccccc}\n",
       "\t& customer\\_id & age & age\\_youngest\\_child & debt\\_equity & gender & bad\\_payment & gold\\_card & \\\\\n",
       "\t\\hline\n",
       "\t& Int64 & Int64 & Int64 & Int64 & Int64 & Int64 & Int64 & \\\\\n",
       "\t\\hline\n",
       "\t1 & 15 & 45 & 12 & 45 & 0 & 0 & 0 & $\\dots$ \\\\\n",
       "\t2 & 16 & 43 & 12 & 43 & 0 & 0 & 0 & $\\dots$ \\\\\n",
       "\t3 & 30 & 23 & 0 & 23 & 0 & 0 & 0 & $\\dots$ \\\\\n",
       "\t4 & 42 & 35 & 8 & 35 & 1 & 0 & 0 & $\\dots$ \\\\\n",
       "\t5 & 52 & 43 & 12 & 43 & 1 & 0 & 0 & $\\dots$ \\\\\n",
       "\t6 & 57 & 51 & 19 & 51 & 1 & 0 & 0 & $\\dots$ \\\\\n",
       "\t7 & 74 & 31 & 0 & 31 & 1 & 0 & 0 & $\\dots$ \\\\\n",
       "\t8 & 74 & 31 & 0 & 31 & 1 & 0 & 0 & $\\dots$ \\\\\n",
       "\t9 & 89 & 46 & 11 & 46 & 1 & 0 & 0 & $\\dots$ \\\\\n",
       "\t10 & 90 & 70 & 38 & 70 & 0 & 0 & 0 & $\\dots$ \\\\\n",
       "\t11 & 95 & 39 & 11 & 39 & 1 & 0 & 0 & $\\dots$ \\\\\n",
       "\t12 & 105 & 31 & 0 & 31 & 0 & 0 & 0 & $\\dots$ \\\\\n",
       "\t13 & 106 & 36 & 7 & 36 & 0 & 0 & 0 & $\\dots$ \\\\\n",
       "\t14 & 121 & 49 & 18 & 49 & 0 & 0 & 0 & $\\dots$ \\\\\n",
       "\t15 & 132 & 38 & 11 & 38 & 0 & 0 & 0 & $\\dots$ \\\\\n",
       "\t16 & 139 & 38 & 9 & 38 & 1 & 0 & 0 & $\\dots$ \\\\\n",
       "\t17 & 147 & 37 & 7 & 37 & 1 & 0 & 0 & $\\dots$ \\\\\n",
       "\t18 & 155 & 42 & 14 & 42 & 0 & 0 & 0 & $\\dots$ \\\\\n",
       "\t19 & 156 & 34 & 5 & 34 & 1 & 0 & 0 & $\\dots$ \\\\\n",
       "\t20 & 161 & 54 & 29 & 54 & 1 & 0 & 0 & $\\dots$ \\\\\n",
       "\t21 & 164 & 35 & 6 & 35 & 0 & 0 & 0 & $\\dots$ \\\\\n",
       "\t22 & 181 & 77 & 48 & 77 & 1 & 0 & 0 & $\\dots$ \\\\\n",
       "\t23 & 183 & 57 & 28 & 57 & 0 & 0 & 0 & $\\dots$ \\\\\n",
       "\t24 & 191 & 24 & 0 & 24 & 0 & 0 & 0 & $\\dots$ \\\\\n",
       "\t$\\dots$ & $\\dots$ & $\\dots$ & $\\dots$ & $\\dots$ & $\\dots$ & $\\dots$ & $\\dots$ &  \\\\\n",
       "\\end{tabular}\n"
      ],
      "text/plain": [
       "\u001b[1m11023×24 DataFrame\n",
       "\u001b[1m   Row │\u001b[1m customer_id \u001b[1m age   \u001b[1m age_youngest_child \u001b[1m debt_equity \u001b[1m gender \u001b[1m bad_paym ⋯\n",
       "       │\u001b[90m Int64       \u001b[90m Int64 \u001b[90m Int64              \u001b[90m Int64       \u001b[90m Int64  \u001b[90m Int64    ⋯\n",
       "───────┼────────────────────────────────────────────────────────────────────────\n",
       "     1 │          15     45                  12           45       0           ⋯\n",
       "     2 │          16     43                  12           43       0\n",
       "     3 │          30     23                   0           23       0\n",
       "     4 │          42     35                   8           35       1\n",
       "     5 │          52     43                  12           43       1           ⋯\n",
       "     6 │          57     51                  19           51       1\n",
       "     7 │          74     31                   0           31       1\n",
       "     8 │          74     31                   0           31       1\n",
       "   ⋮   │      ⋮         ⋮            ⋮                ⋮         ⋮          ⋮   ⋱\n",
       " 11017 │       53166     41                  11           41       0           ⋯\n",
       " 11018 │       53169     33                   2           33       0\n",
       " 11019 │       53170     36                   3           36       1\n",
       " 11020 │       53173     42                   9           42       0\n",
       " 11021 │       53179     39                  11           39       1           ⋯\n",
       " 11022 │       53181     55                  29           55       0\n",
       " 11023 │       53188     44                  17           44       1\n",
       "\u001b[36m                                               19 columns and 11008 rows omitted"
      ]
     },
     "metadata": {},
     "output_type": "display_data"
    }
   ],
   "source": [
    "data"
   ]
  },
  {
   "cell_type": "code",
   "execution_count": 22,
   "metadata": {},
   "outputs": [],
   "source": [
    "stratify_columns = [:concatenated]\n",
    "strata = data[:, stratify_columns]\n",
    "ratio = 0.8\n",
    "train, test = splitobs(1:size(strata, 1), ratio)\n",
    "X_train, X_test = data[train, :], data[test, :];"
   ]
  },
  {
   "cell_type": "code",
   "execution_count": 23,
   "metadata": {},
   "outputs": [],
   "source": [
    "target_columns = [:Mortgage, :Pension, :Savings]\n",
    "y_train = X_train[:, target_columns]\n",
    "y_test = X_test[:, target_columns]\n",
    "target_columns = [:Mortgage, :Pension, :Savings, :concatenated]\n",
    "X_train = X_train[:, Not(target_columns)]\n",
    "X_test = X_test[:, Not(target_columns)];"
   ]
  },
  {
   "cell_type": "code",
   "execution_count": 24,
   "metadata": {},
   "outputs": [],
   "source": [
    "# Split the data into training and testing sets\n",
    "X_train = X_train[:, Not(:customer_id)]\n",
    "X_test = X_test[:, Not(:customer_id)];"
   ]
  },
  {
   "cell_type": "code",
   "execution_count": 25,
   "metadata": {},
   "outputs": [
    {
     "name": "stderr",
     "output_type": "stream",
     "text": [
      "┌ Info: mkl not found, proceeding to installing non-mkl versions of sci-kit learn via Conda\n",
      "└ @ ScikitLearn.Skcore /Users/zekiyan/.julia/packages/ScikitLearn/sqLdT/src/Skcore.jl:191\n",
      "┌ Info: Running `conda install -y -c conda-forge 'scikit-learn>=1.2,<1.3'` in root environment\n",
      "└ @ Conda /Users/zekiyan/.julia/packages/Conda/2lg2O/src/Conda.jl:127\n"
     ]
    },
    {
     "name": "stderr",
     "output_type": "stream",
     "text": [
      "Error while loading conda entry point: conda-libmamba-solver (dlopen(/Users/zekiyan/.julia/conda/3/aarch64/lib/python3.10/site-packages/libmambapy/bindings.cpython-310-darwin.so, 0x0002): Library not loaded: @rpath/libarchive.19.dylib\n",
      "  Referenced from: <494304CB-2F24-3FF8-B4AE-F4E6B16BDC26> /Users/zekiyan/.julia/conda/3/aarch64/lib/libmamba.2.0.0.dylib\n",
      "  Reason: tried: '/Users/zekiyan/.julia/conda/3/aarch64/lib/libarchive.19.dylib' (no such file), '/Users/zekiyan/.julia/conda/3/aarch64/lib/python3.10/site-packages/libmambapy/../../../libarchive.19.dylib' (no such file), '/Users/zekiyan/.julia/conda/3/aarch64/lib/python3.10/site-packages/libmambapy/../../../libarchive.19.dylib' (no such file), '/Users/zekiyan/.julia/conda/3/aarch64/bin/../lib/libarchive.19.dylib' (no such file), '/Users/zekiyan/.julia/conda/3/aarch64/bin/../lib/libarchive.19.dylib' (no such file), '/usr/local/lib/libarchive.19.dylib' (no such file), '/usr/lib/libarchive.19.dylib' (no such file, not in dyld cache))\n"
     ]
    },
    {
     "name": "stdout",
     "output_type": "stream",
     "text": [
      "Collecting package metadata (current_repodata.json): ...working... "
     ]
    },
    {
     "name": "stdout",
     "output_type": "stream",
     "text": [
      "done\n",
      "Solving environment: ...working... "
     ]
    },
    {
     "name": "stdout",
     "output_type": "stream",
     "text": [
      "done\n"
     ]
    },
    {
     "name": "stdout",
     "output_type": "stream",
     "text": [
      "\n",
      "# All requested packages already installed.\n",
      "\n"
     ]
    },
    {
     "data": {
      "text/plain": [
       "PyObject <class 'sklearn.preprocessing._data.StandardScaler'>"
      ]
     },
     "metadata": {},
     "output_type": "display_data"
    }
   ],
   "source": [
    "@sk_import preprocessing: StandardScaler"
   ]
  },
  {
   "cell_type": "code",
   "execution_count": 27,
   "metadata": {},
   "outputs": [
    {
     "ename": "MethodError",
     "evalue": "MethodError: no method matching transform!(::PyCall.PyObject, ::Matrix{Float64})\n\nClosest candidates are:\n  transform!(!Matched::SubDataFrame, ::Any...; renamecols, threads)\n   @ DataFrames /Users/iai/builds/e7x1Q22r/0/InterpretableAI/SystemImage/SysImgBuilder/.julia/packages/DataFrames/LteEl/src/abstractdataframe/selection.jl:985\n  transform!(!Matched::GroupedDataFrame, ::Union{Regex, AbstractString, Function, Signed, Symbol, Unsigned, Pair, Type, All, Between, Cols, InvertedIndex, AbstractVecOrMat}...; ungroup, renamecols, threads)\n   @ DataFrames /Users/iai/builds/e7x1Q22r/0/InterpretableAI/SystemImage/SysImgBuilder/.julia/packages/DataFrames/LteEl/src/groupeddataframe/splitapplycombine.jl:958\n  transform!(!Matched::DataFrame, ::Any...; renamecols, threads)\n   @ DataFrames /Users/iai/builds/e7x1Q22r/0/InterpretableAI/SystemImage/SysImgBuilder/.julia/packages/DataFrames/LteEl/src/abstractdataframe/selection.jl:982\n",
     "output_type": "error",
     "traceback": [
      "MethodError: no method matching transform!(::PyCall.PyObject, ::Matrix{Float64})\n",
      "\n",
      "Closest candidates are:\n",
      "  transform!(!Matched::SubDataFrame, ::Any...; renamecols, threads)\n",
      "   @ DataFrames /Users/iai/builds/e7x1Q22r/0/InterpretableAI/SystemImage/SysImgBuilder/.julia/packages/DataFrames/LteEl/src/abstractdataframe/selection.jl:985\n",
      "  transform!(!Matched::GroupedDataFrame, ::Union{Regex, AbstractString, Function, Signed, Symbol, Unsigned, Pair, Type, All, Between, Cols, InvertedIndex, AbstractVecOrMat}...; ungroup, renamecols, threads)\n",
      "   @ DataFrames /Users/iai/builds/e7x1Q22r/0/InterpretableAI/SystemImage/SysImgBuilder/.julia/packages/DataFrames/LteEl/src/groupeddataframe/splitapplycombine.jl:958\n",
      "  transform!(!Matched::DataFrame, ::Any...; renamecols, threads)\n",
      "   @ DataFrames /Users/iai/builds/e7x1Q22r/0/InterpretableAI/SystemImage/SysImgBuilder/.julia/packages/DataFrames/LteEl/src/abstractdataframe/selection.jl:982\n",
      "\n",
      "\n",
      "Stacktrace:\n",
      " [1] top-level scope\n",
      "   @ ~/Library/CloudStorage/GoogleDrive-zettayan@gmail.com/My Drive/Desktop/Machine Learning Under a Modern Optimization Lens/Project/Coding/ML_Project.ipynb:14"
     ]
    }
   ],
   "source": [
    "scaler = StandardScaler()\n",
    "\n",
    "columns = names(X_train)\n",
    "\n",
    "X_train_scaled = X_train\n",
    "X_test_scaled = X_test\n",
    "\n",
    "X_train_to_scale = Matrix(X_train[:, columns])\n",
    "X_test_to_scale = Matrix(X_test[:, columns])\n",
    "\n",
    "scaler = StandardScaler()\n",
    "\n",
    "X_train_scaled_features = fit_transform!(scaler, X_train_to_scale)\n",
    "X_test_scaled_features = transform!(scaler, X_test_to_scale)\n",
    "\n",
    "# Replace the original values in the DataFrame with the scaled values\n",
    "X_train_scaled[:, columns] .= X_train_scaled_features\n",
    "X_test_scaled[:, columns] .= X_test_scaled_features\n",
    "\n"
   ]
  },
  {
   "cell_type": "code",
   "execution_count": 28,
   "metadata": {},
   "outputs": [
    {
     "ename": "MethodError",
     "evalue": "MethodError: no method matching transform!(::PyCall.PyObject, ::Matrix{Float64})\n\nClosest candidates are:\n  transform!(!Matched::SubDataFrame, ::Any...; renamecols, threads)\n   @ DataFrames /Users/iai/builds/e7x1Q22r/0/InterpretableAI/SystemImage/SysImgBuilder/.julia/packages/DataFrames/LteEl/src/abstractdataframe/selection.jl:985\n  transform!(!Matched::GroupedDataFrame, ::Union{Regex, AbstractString, Function, Signed, Symbol, Unsigned, Pair, Type, All, Between, Cols, InvertedIndex, AbstractVecOrMat}...; ungroup, renamecols, threads)\n   @ DataFrames /Users/iai/builds/e7x1Q22r/0/InterpretableAI/SystemImage/SysImgBuilder/.julia/packages/DataFrames/LteEl/src/groupeddataframe/splitapplycombine.jl:958\n  transform!(!Matched::DataFrame, ::Any...; renamecols, threads)\n   @ DataFrames /Users/iai/builds/e7x1Q22r/0/InterpretableAI/SystemImage/SysImgBuilder/.julia/packages/DataFrames/LteEl/src/abstractdataframe/selection.jl:982\n",
     "output_type": "error",
     "traceback": [
      "MethodError: no method matching transform!(::PyCall.PyObject, ::Matrix{Float64})\n",
      "\n",
      "Closest candidates are:\n",
      "  transform!(!Matched::SubDataFrame, ::Any...; renamecols, threads)\n",
      "   @ DataFrames /Users/iai/builds/e7x1Q22r/0/InterpretableAI/SystemImage/SysImgBuilder/.julia/packages/DataFrames/LteEl/src/abstractdataframe/selection.jl:985\n",
      "  transform!(!Matched::GroupedDataFrame, ::Union{Regex, AbstractString, Function, Signed, Symbol, Unsigned, Pair, Type, All, Between, Cols, InvertedIndex, AbstractVecOrMat}...; ungroup, renamecols, threads)\n",
      "   @ DataFrames /Users/iai/builds/e7x1Q22r/0/InterpretableAI/SystemImage/SysImgBuilder/.julia/packages/DataFrames/LteEl/src/groupeddataframe/splitapplycombine.jl:958\n",
      "  transform!(!Matched::DataFrame, ::Any...; renamecols, threads)\n",
      "   @ DataFrames /Users/iai/builds/e7x1Q22r/0/InterpretableAI/SystemImage/SysImgBuilder/.julia/packages/DataFrames/LteEl/src/abstractdataframe/selection.jl:982\n",
      "\n",
      "\n",
      "Stacktrace:\n",
      " [1] top-level scope\n",
      "   @ ~/Library/CloudStorage/GoogleDrive-zettayan@gmail.com/My Drive/Desktop/Machine Learning Under a Modern Optimization Lens/Project/Coding/ML_Project.ipynb:21"
     ]
    }
   ],
   "source": [
    "# Create a StandardScaler instance\n",
    "scaler = StandardScaler()\n",
    "\n",
    "# Define the columns you want to scale\n",
    "columns_to_scale = names(X_train)\n",
    "\n",
    "# Create copies of the original data frames\n",
    "X_train_scaled = copy(X_train)\n",
    "X_test_scaled = copy(X_test)\n",
    "\n",
    "# Extract the data to be scaled as matrices\n",
    "X_train_to_scale = Matrix(X_train_scaled[:, columns_to_scale])\n",
    "X_test_to_scale = Matrix(X_test_scaled[:, columns_to_scale])\n",
    "\n",
    "# Fit and transform the scaler on the training data\n",
    "fit_transform!(scaler, X_train_to_scale)\n",
    "\n",
    "# Transform the test data using the same scaler\n",
    "transform!(scaler, X_test_to_scale)\n",
    "\n",
    "# Replace the original values in the DataFrame with the scaled values\n",
    "X_train_scaled[:, columns_to_scale] = X_train_to_scale\n",
    "X_test_scaled[:, columns_to_scale] = X_test_to_scale"
   ]
  },
  {
   "cell_type": "code",
   "execution_count": 29,
   "metadata": {},
   "outputs": [
    {
     "ename": "UndefVarError",
     "evalue": "UndefVarError: `known_behaviors` not defined",
     "output_type": "error",
     "traceback": [
      "UndefVarError: `known_behaviors` not defined\n",
      "\n",
      "Stacktrace:\n",
      " [1] top-level scope\n",
      "   @ ~/Library/CloudStorage/GoogleDrive-zettayan@gmail.com/My Drive/Desktop/Machine Learning Under a Modern Optimization Lens/Project/Coding/ML_Project.ipynb:2"
     ]
    }
   ],
   "source": [
    "# Standardize the data\n",
    "known_behaviors[!, 1:4] = (known_behaviors[!, 1:4] .- mean(known_behaviors[!, 1:4], dims=1)) ./ std(known_behaviors[!, 1:4], dims=1)"
   ]
  }
 ],
 "metadata": {
  "kernelspec": {
   "display_name": "Julia 1.9.3",
   "language": "julia",
   "name": "julia-1.9"
  },
  "language_info": {
   "file_extension": ".jl",
   "mimetype": "application/julia",
   "name": "julia",
   "version": "1.9.3"
  }
 },
 "nbformat": 4,
 "nbformat_minor": 2
}
